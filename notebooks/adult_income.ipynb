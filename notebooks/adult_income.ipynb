{
 "cells": [
  {
   "cell_type": "code",
   "id": "initial_id",
   "metadata": {
    "collapsed": true,
    "jupyter": {
     "outputs_hidden": true
    },
    "ExecuteTime": {
     "end_time": "2025-08-31T09:26:32.858040Z",
     "start_time": "2025-08-31T09:26:31.767769Z"
    }
   },
   "source": [
    "from fl_spn.partitioner import FederatedDataPartitioner\n",
    "from trainer import FederatedEiNetTrainer\n",
    "from utils import load_dataset\n",
    "from fl_spn.config import SupervisedFLConfig\n",
    "\n",
    "SupervisedFLConfig.epochs"
   ],
   "outputs": [
    {
     "data": {
      "text/plain": [
       "20"
      ]
     },
     "execution_count": 1,
     "metadata": {},
     "output_type": "execute_result"
    }
   ],
   "execution_count": 1
  },
  {
   "metadata": {},
   "cell_type": "markdown",
   "source": "## Start the Experiment",
   "id": "47d7aa83e15a4058"
  },
  {
   "cell_type": "code",
   "id": "9eada20cd7c73565",
   "metadata": {
    "ExecuteTime": {
     "end_time": "2025-08-31T09:26:33.015597Z",
     "start_time": "2025-08-31T09:26:32.859381Z"
    }
   },
   "source": [
    "data = load_dataset(name=\"adult\")\n",
    "\n",
    "partitioner = FederatedDataPartitioner(\n",
    "    X=data[\"X_train\"],\n",
    "    y=data[\"y_train\"],\n",
    "    feature_names=data[\"X_processed\"].columns.tolist(),\n",
    "    numeric_features=data[\"numeric_features\"],\n",
    "    categorical_features=data[\"categorical_features\"],\n",
    ")"
   ],
   "outputs": [],
   "execution_count": 2
  },
  {
   "cell_type": "code",
   "id": "7cd76493e75b7653",
   "metadata": {
    "ExecuteTime": {
     "end_time": "2025-08-31T09:26:47.696113Z",
     "start_time": "2025-08-31T09:26:33.016177Z"
    }
   },
   "source": [
    "print(\"\\n\" + \"=\" * 60)\n",
    "print(\"🔵 Test 1: Horizontal Partitioning\")\n",
    "print(\"=\" * 60)\n",
    "\n",
    "horizontal_partition = partitioner.horizontal_partition(\n",
    "    num_clients=SupervisedFLConfig.num_clients,\n",
    "    random_state=SupervisedFLConfig.random_seed,\n",
    ")\n",
    "\n",
    "horizontal_trainer = FederatedEiNetTrainer(horizontal_partition)\n",
    "\n",
    "horizontal_results = horizontal_trainer.train_federated_learning(\n",
    "    data[\"X_processed\"], epochs=SupervisedFLConfig.epochs, verbose=True\n",
    ")\n",
    "horizontal_eval = horizontal_trainer.evaluate_on_test(\n",
    "        data[\"X_test\"], data[\"y_test\"], data[\"X_processed\"].columns.tolist()\n",
    "    )"
   ],
   "outputs": [
    {
     "name": "stdout",
     "output_type": "stream",
     "text": [
      "\n",
      "============================================================\n",
      "🔵 Test 1: Horizontal Partitioning\n",
      "============================================================\n"
     ]
    },
    {
     "name": "stderr",
     "output_type": "stream",
     "text": [
      "Initializing PiecewiseLinear Leaf Layer: 100%|██████████| 3/3 [00:00<00:00,  9.35it/s]\n",
      "/Users/M279402/PycharmProjects/fl_spn/.venv/lib/python3.10/site-packages/simple_einet/layers/distributions/piecewise_linear.py:263: UserWarning: torch.searchsorted(): input value tensor is non-contiguous, this will lower the performance due to extra data copy when converting non-contiguous tensor to contiguous, please use contiguous input value tensor if possible. This message will only appear once per program. (Triggered internally at /Users/runner/work/pytorch/pytorch/pytorch/aten/src/ATen/native/BucketizationUtils.h:34.)\n",
      "  indices = torch.searchsorted(xp, x, right=False)\n",
      "Initializing PiecewiseLinear Leaf Layer: 100%|██████████| 3/3 [00:00<00:00, 11.34it/s]\n",
      "Initializing PiecewiseLinear Leaf Layer: 100%|██████████| 3/3 [00:00<00:00, 11.49it/s]\n"
     ]
    }
   ],
   "execution_count": 3
  },
  {
   "metadata": {
    "ExecuteTime": {
     "end_time": "2025-08-31T09:26:52.747634Z",
     "start_time": "2025-08-31T09:26:52.742535Z"
    }
   },
   "cell_type": "code",
   "source": "horizontal_eval",
   "id": "94ff8619a459524a",
   "outputs": [
    {
     "data": {
      "text/plain": [
       "{'client_evaluations': {'client_0': {'accuracy': 76.81591796875,\n",
       "   'f1_score': 53.88787595870688,\n",
       "   'n_test_features': 14,\n",
       "   'predictions': tensor([0, 0, 0,  ..., 0, 0, 0])},\n",
       "  'client_1': {'accuracy': 75.47816467285156,\n",
       "   'f1_score': 58.182378251662506,\n",
       "   'n_test_features': 14,\n",
       "   'predictions': tensor([0, 0, 0,  ..., 0, 1, 0])},\n",
       "  'client_2': {'accuracy': 73.23383331298828,\n",
       "   'f1_score': 58.71391505003748,\n",
       "   'n_test_features': 14,\n",
       "   'predictions': tensor([0, 0, 0,  ..., 0, 0, 1])}},\n",
       " 'ensemble_accuracy': 0.7699281370923162,\n",
       " 'ensemble_f1': 0.6992261134269504,\n",
       " 'ensemble_predictions': array([0, 0, 0, ..., 0, 0, 0]),\n",
       " 'ensemble_method': 'probability averaging'}"
      ]
     },
     "execution_count": 5,
     "metadata": {},
     "output_type": "execute_result"
    }
   ],
   "execution_count": 5
  },
  {
   "cell_type": "code",
   "id": "ff0f8447b655117e",
   "metadata": {
    "ExecuteTime": {
     "end_time": "2025-08-31T09:03:28.223204Z",
     "start_time": "2025-08-31T09:03:16.576607Z"
    }
   },
   "source": [
    "print(\"\\n\" + \"=\"*60)\n",
    "print(\"🟢 Test 2: Vertical Partitioning\")\n",
    "print(\"=\"*60)\n",
    "\n",
    "vertical_partition = partitioner.vertical_partition(\n",
    "    num_clients=SupervisedFLConfig.num_clients, \n",
    "    random_state=SupervisedFLConfig.random_seed)\n",
    "\n",
    "vertical_trainer = FederatedEiNetTrainer(vertical_partition)\n",
    "\n",
    "vertical_results = vertical_trainer.train_federated_learning(\n",
    "    data[\"X_processed\"], epochs=SupervisedFLConfig.epochs, verbose=True\n",
    ")\n",
    "\n",
    "# 在測試集上評估\n",
    "vertical_eval = vertical_trainer.evaluate_on_test(\n",
    "    data[\"X_test\"], data[\"y_test\"], data[\"X_processed\"].columns.tolist()\n",
    ")"
   ],
   "outputs": [
    {
     "name": "stdout",
     "output_type": "stream",
     "text": [
      "\n",
      "============================================================\n",
      "🟢 Test 2: Vertical Partitioning\n",
      "============================================================\n"
     ]
    },
    {
     "name": "stderr",
     "output_type": "stream",
     "text": [
      "Initializing PiecewiseLinear Leaf Layer: 100%|██████████| 3/3 [00:00<00:00, 33.18it/s]\n",
      "Initializing PiecewiseLinear Leaf Layer: 100%|██████████| 3/3 [00:00<00:00, 20.93it/s]\n",
      "Initializing PiecewiseLinear Leaf Layer: 100%|██████████| 3/3 [00:00<00:00,  7.66it/s]\n"
     ]
    }
   ],
   "execution_count": 4
  },
  {
   "cell_type": "code",
   "id": "5ac0d4741d16d3c0",
   "metadata": {
    "ExecuteTime": {
     "end_time": "2025-08-31T09:03:32.460188Z",
     "start_time": "2025-08-31T09:03:31.643393Z"
    }
   },
   "source": [
    "print(\"\\n\" + \"=\" * 60)\n",
    "print(\"🟡 Test 3: Hybrid Partitioning\")\n",
    "print(\"=\" * 60)\n",
    "\n",
    "hybrid_partition = partitioner.hybrid_partition(\n",
    "    num_clients=SupervisedFLConfig.num_clients,\n",
    "    sample_overlap_ratio=SupervisedFLConfig.sample_overlap_ratio,\n",
    "    feature_overlap_ratio=SupervisedFLConfig.feature_overlap_ratio,\n",
    "    random_state=SupervisedFLConfig.random_seed,\n",
    ")\n",
    "hybrid_trainer = FederatedEiNetTrainer(hybrid_partition)\n",
    "hybrid_results = hybrid_trainer.train_federated_learning(\n",
    "    data[\"X_processed\"], epochs=SupervisedFLConfig.epochs, verbose=True\n",
    ")\n",
    "hybrid_eval = hybrid_trainer.evaluate_on_test(\n",
    "        data[\"X_test\"], data[\"y_test\"], data[\"X_processed\"].columns.tolist()\n",
    "    )"
   ],
   "outputs": [
    {
     "name": "stdout",
     "output_type": "stream",
     "text": [
      "\n",
      "============================================================\n",
      "🟡 Test 3: Hybrid Partitioning\n",
      "============================================================\n"
     ]
    },
    {
     "name": "stderr",
     "output_type": "stream",
     "text": [
      "Initializing PiecewiseLinear Leaf Layer: 100%|██████████| 3/3 [00:00<00:00, 98.21it/s]\n",
      "Initializing PiecewiseLinear Leaf Layer: 100%|██████████| 3/3 [00:00<00:00, 83.27it/s]\n",
      "Initializing PiecewiseLinear Leaf Layer: 100%|██████████| 3/3 [00:00<00:00, 250.19it/s]\n"
     ]
    }
   ],
   "execution_count": 6
  },
  {
   "cell_type": "code",
   "id": "2f578568b687f546",
   "metadata": {
    "ExecuteTime": {
     "end_time": "2025-08-31T09:03:34.710369Z",
     "start_time": "2025-08-31T09:03:34.686244Z"
    }
   },
   "source": [
    "methods = ['Horizontal', 'Vertical', 'Hybrid']\n",
    "\n",
    "train_acc = [t.item() for t in [horizontal_results['weighted_accuracy'], \n",
    "             vertical_results['weighted_accuracy'], \n",
    "             hybrid_results['weighted_accuracy']]]\n",
    "\n",
    "f1_acc = [horizontal_results['weighted_f1'], \n",
    "          vertical_results['weighted_f1'], \n",
    "          hybrid_results['weighted_f1']]\n",
    "\n",
    "train_time = [horizontal_results['total_training_time'], \n",
    "              vertical_results['total_training_time'], \n",
    "              hybrid_results['total_training_time']]\n",
    "\n",
    "clients = [horizontal_results['num_clients'], \n",
    "           vertical_results['num_clients'], \n",
    "           hybrid_results['num_clients']]\n",
    "\n",
    "samples = [horizontal_results['total_samples'], \n",
    "           vertical_results['total_samples'], \n",
    "           hybrid_results['total_samples']]\n",
    "\n",
    "test_acc = [hybrid_eval['ensemble_accuracy']*100,\n",
    "            vertical_eval['ensemble_accuracy']*100,\n",
    "            hybrid_eval['ensemble_accuracy']*100]\n",
    "\n",
    "test_f1 = [hybrid_eval['ensemble_f1']*100,\n",
    "            vertical_eval['ensemble_f1']*100,\n",
    "            hybrid_eval['ensemble_f1']*100]\n",
    "\n",
    "colors = ['#F3AA60', '#EF6262', '#468897']\n"
   ],
   "outputs": [
    {
     "ename": "AttributeError",
     "evalue": "'float' object has no attribute 'item'",
     "output_type": "error",
     "traceback": [
      "\u001B[0;31m---------------------------------------------------------------------------\u001B[0m",
      "\u001B[0;31mAttributeError\u001B[0m                            Traceback (most recent call last)",
      "Cell \u001B[0;32mIn[7], line 3\u001B[0m\n\u001B[1;32m      1\u001B[0m methods \u001B[38;5;241m=\u001B[39m [\u001B[38;5;124m'\u001B[39m\u001B[38;5;124mHorizontal\u001B[39m\u001B[38;5;124m'\u001B[39m, \u001B[38;5;124m'\u001B[39m\u001B[38;5;124mVertical\u001B[39m\u001B[38;5;124m'\u001B[39m, \u001B[38;5;124m'\u001B[39m\u001B[38;5;124mHybrid\u001B[39m\u001B[38;5;124m'\u001B[39m]\n\u001B[0;32m----> 3\u001B[0m train_acc \u001B[38;5;241m=\u001B[39m [t\u001B[38;5;241m.\u001B[39mitem() \u001B[38;5;28;01mfor\u001B[39;00m t \u001B[38;5;129;01min\u001B[39;00m [horizontal_results[\u001B[38;5;124m'\u001B[39m\u001B[38;5;124mweighted_accuracy\u001B[39m\u001B[38;5;124m'\u001B[39m], \n\u001B[1;32m      4\u001B[0m              vertical_results[\u001B[38;5;124m'\u001B[39m\u001B[38;5;124mweighted_accuracy\u001B[39m\u001B[38;5;124m'\u001B[39m], \n\u001B[1;32m      5\u001B[0m              hybrid_results[\u001B[38;5;124m'\u001B[39m\u001B[38;5;124mweighted_accuracy\u001B[39m\u001B[38;5;124m'\u001B[39m]]]\n\u001B[1;32m      7\u001B[0m f1_acc \u001B[38;5;241m=\u001B[39m [horizontal_results[\u001B[38;5;124m'\u001B[39m\u001B[38;5;124mweighted_f1\u001B[39m\u001B[38;5;124m'\u001B[39m], \n\u001B[1;32m      8\u001B[0m           vertical_results[\u001B[38;5;124m'\u001B[39m\u001B[38;5;124mweighted_f1\u001B[39m\u001B[38;5;124m'\u001B[39m], \n\u001B[1;32m      9\u001B[0m           hybrid_results[\u001B[38;5;124m'\u001B[39m\u001B[38;5;124mweighted_f1\u001B[39m\u001B[38;5;124m'\u001B[39m]]\n\u001B[1;32m     11\u001B[0m train_time \u001B[38;5;241m=\u001B[39m [horizontal_results[\u001B[38;5;124m'\u001B[39m\u001B[38;5;124mtotal_training_time\u001B[39m\u001B[38;5;124m'\u001B[39m], \n\u001B[1;32m     12\u001B[0m               vertical_results[\u001B[38;5;124m'\u001B[39m\u001B[38;5;124mtotal_training_time\u001B[39m\u001B[38;5;124m'\u001B[39m], \n\u001B[1;32m     13\u001B[0m               hybrid_results[\u001B[38;5;124m'\u001B[39m\u001B[38;5;124mtotal_training_time\u001B[39m\u001B[38;5;124m'\u001B[39m]]\n",
      "Cell \u001B[0;32mIn[7], line 3\u001B[0m, in \u001B[0;36m<listcomp>\u001B[0;34m(.0)\u001B[0m\n\u001B[1;32m      1\u001B[0m methods \u001B[38;5;241m=\u001B[39m [\u001B[38;5;124m'\u001B[39m\u001B[38;5;124mHorizontal\u001B[39m\u001B[38;5;124m'\u001B[39m, \u001B[38;5;124m'\u001B[39m\u001B[38;5;124mVertical\u001B[39m\u001B[38;5;124m'\u001B[39m, \u001B[38;5;124m'\u001B[39m\u001B[38;5;124mHybrid\u001B[39m\u001B[38;5;124m'\u001B[39m]\n\u001B[0;32m----> 3\u001B[0m train_acc \u001B[38;5;241m=\u001B[39m [\u001B[43mt\u001B[49m\u001B[38;5;241;43m.\u001B[39;49m\u001B[43mitem\u001B[49m() \u001B[38;5;28;01mfor\u001B[39;00m t \u001B[38;5;129;01min\u001B[39;00m [horizontal_results[\u001B[38;5;124m'\u001B[39m\u001B[38;5;124mweighted_accuracy\u001B[39m\u001B[38;5;124m'\u001B[39m], \n\u001B[1;32m      4\u001B[0m              vertical_results[\u001B[38;5;124m'\u001B[39m\u001B[38;5;124mweighted_accuracy\u001B[39m\u001B[38;5;124m'\u001B[39m], \n\u001B[1;32m      5\u001B[0m              hybrid_results[\u001B[38;5;124m'\u001B[39m\u001B[38;5;124mweighted_accuracy\u001B[39m\u001B[38;5;124m'\u001B[39m]]]\n\u001B[1;32m      7\u001B[0m f1_acc \u001B[38;5;241m=\u001B[39m [horizontal_results[\u001B[38;5;124m'\u001B[39m\u001B[38;5;124mweighted_f1\u001B[39m\u001B[38;5;124m'\u001B[39m], \n\u001B[1;32m      8\u001B[0m           vertical_results[\u001B[38;5;124m'\u001B[39m\u001B[38;5;124mweighted_f1\u001B[39m\u001B[38;5;124m'\u001B[39m], \n\u001B[1;32m      9\u001B[0m           hybrid_results[\u001B[38;5;124m'\u001B[39m\u001B[38;5;124mweighted_f1\u001B[39m\u001B[38;5;124m'\u001B[39m]]\n\u001B[1;32m     11\u001B[0m train_time \u001B[38;5;241m=\u001B[39m [horizontal_results[\u001B[38;5;124m'\u001B[39m\u001B[38;5;124mtotal_training_time\u001B[39m\u001B[38;5;124m'\u001B[39m], \n\u001B[1;32m     12\u001B[0m               vertical_results[\u001B[38;5;124m'\u001B[39m\u001B[38;5;124mtotal_training_time\u001B[39m\u001B[38;5;124m'\u001B[39m], \n\u001B[1;32m     13\u001B[0m               hybrid_results[\u001B[38;5;124m'\u001B[39m\u001B[38;5;124mtotal_training_time\u001B[39m\u001B[38;5;124m'\u001B[39m]]\n",
      "\u001B[0;31mAttributeError\u001B[0m: 'float' object has no attribute 'item'"
     ]
    }
   ],
   "execution_count": 7
  },
  {
   "metadata": {
    "ExecuteTime": {
     "end_time": "2025-08-31T09:02:08.691276Z",
     "start_time": "2025-08-31T09:02:08.687534Z"
    }
   },
   "cell_type": "code",
   "source": "horizontal_results['client_results']",
   "id": "5cd4cf6c5536d9ab",
   "outputs": [
    {
     "data": {
      "text/plain": [
       "{'client_0': {'train_accuracy': tensor(79.2935),\n",
       "  'train_f1': 62.85624962769991,\n",
       "  'training_time': 21.034687280654907,\n",
       "  'n_samples': 12059,\n",
       "  'n_features': 14,\n",
       "  'feature_overlap': ['age',\n",
       "   'fnlwgt',\n",
       "   'education-num',\n",
       "   'capital-gain',\n",
       "   'capital-loss',\n",
       "   'hours-per-week',\n",
       "   'workclass',\n",
       "   'education',\n",
       "   'marital-status',\n",
       "   'occupation',\n",
       "   'relationship',\n",
       "   'race',\n",
       "   'sex',\n",
       "   'native-country'],\n",
       "  'config': EinetConfig(num_features=14, num_channels=1, num_sums=12, num_leaves=12, num_repetitions=3, num_classes=2, depth=2, dropout=0.0, leaf_type=<class 'simple_einet.layers.distributions.piecewise_linear.PiecewiseLinear'>, leaf_kwargs={'alpha': 0.1}, layer_type='linsum', structure='top-down'),\n",
       "  'domains_count': 14},\n",
       " 'client_1': {'train_accuracy': tensor(81.4247),\n",
       "  'train_f1': 72.15005804614411,\n",
       "  'training_time': 20.932882070541382,\n",
       "  'n_samples': 12059,\n",
       "  'n_features': 14,\n",
       "  'feature_overlap': ['age',\n",
       "   'fnlwgt',\n",
       "   'education-num',\n",
       "   'capital-gain',\n",
       "   'capital-loss',\n",
       "   'hours-per-week',\n",
       "   'workclass',\n",
       "   'education',\n",
       "   'marital-status',\n",
       "   'occupation',\n",
       "   'relationship',\n",
       "   'race',\n",
       "   'sex',\n",
       "   'native-country'],\n",
       "  'config': EinetConfig(num_features=14, num_channels=1, num_sums=12, num_leaves=12, num_repetitions=3, num_classes=2, depth=2, dropout=0.0, leaf_type=<class 'simple_einet.layers.distributions.piecewise_linear.PiecewiseLinear'>, leaf_kwargs={'alpha': 0.1}, layer_type='linsum', structure='top-down'),\n",
       "  'domains_count': 14},\n",
       " 'client_2': {'train_accuracy': tensor(77.8920),\n",
       "  'train_f1': 58.607899665920435,\n",
       "  'training_time': 20.814003944396973,\n",
       "  'n_samples': 12059,\n",
       "  'n_features': 14,\n",
       "  'feature_overlap': ['age',\n",
       "   'fnlwgt',\n",
       "   'education-num',\n",
       "   'capital-gain',\n",
       "   'capital-loss',\n",
       "   'hours-per-week',\n",
       "   'workclass',\n",
       "   'education',\n",
       "   'marital-status',\n",
       "   'occupation',\n",
       "   'relationship',\n",
       "   'race',\n",
       "   'sex',\n",
       "   'native-country'],\n",
       "  'config': EinetConfig(num_features=14, num_channels=1, num_sums=12, num_leaves=12, num_repetitions=3, num_classes=2, depth=2, dropout=0.0, leaf_type=<class 'simple_einet.layers.distributions.piecewise_linear.PiecewiseLinear'>, leaf_kwargs={'alpha': 0.1}, layer_type='linsum', structure='top-down'),\n",
       "  'domains_count': 14}}"
      ]
     },
     "execution_count": 42,
     "metadata": {},
     "output_type": "execute_result"
    }
   ],
   "execution_count": 42
  },
  {
   "metadata": {
    "ExecuteTime": {
     "end_time": "2025-08-31T09:00:00.616497Z",
     "start_time": "2025-08-31T09:00:00.611543Z"
    }
   },
   "cell_type": "code",
   "source": "hybrid_eval['client_evaluations']",
   "id": "8c5647804affeb0a",
   "outputs": [
    {
     "data": {
      "text/plain": [
       "{'client_0': {'accuracy': tensor(65.8154),\n",
       "  'f1_score': 62.921233729944795,\n",
       "  'n_test_features': 2,\n",
       "  'predictions': tensor([1, 0, 0,  ..., 0, 0, 1])},\n",
       " 'client_1': {'accuracy': tensor(66.4455),\n",
       "  'f1_score': 60.9241512967064,\n",
       "  'n_test_features': 2,\n",
       "  'predictions': tensor([0, 0, 0,  ..., 0, 0, 1])},\n",
       " 'client_2': {'accuracy': tensor(74.7153),\n",
       "  'f1_score': 43.43930263867975,\n",
       "  'n_test_features': 2,\n",
       "  'predictions': tensor([0, 0, 0,  ..., 0, 0, 0])}}"
      ]
     },
     "execution_count": 39,
     "metadata": {},
     "output_type": "execute_result"
    }
   ],
   "execution_count": 39
  },
  {
   "metadata": {},
   "cell_type": "markdown",
   "source": "## Plot the results",
   "id": "cd66665b6ceda93c"
  },
  {
   "cell_type": "code",
   "id": "838aa24b501de965",
   "metadata": {
    "ExecuteTime": {
     "end_time": "2025-08-29T14:20:47.014637Z",
     "start_time": "2025-08-29T14:20:46.603848Z"
    }
   },
   "source": [
    "import matplotlib.pyplot as plt\n",
    "import seaborn as sns\n",
    "import numpy as np\n",
    "\n",
    "# 假設已有：methods, colors, train_acc, test_acc, f1_acc, test_f1, SupervisedFLConfig\n",
    "# colors 與 methods 對應\n",
    "palette = {m: c for m, c in zip([\"Train\", \"Test\"], [colors[0], colors[1]])}  # 可自定顏色\n",
    "\n",
    "x = np.arange(len(methods)) \n",
    "width = 0.38 \n",
    "\n",
    "fig, axs = plt.subplots(1, 2, figsize=(12, 5))\n",
    "fig.suptitle(f'FL Methods Performance Comparison (epochs={SupervisedFLConfig.epochs})')\n",
    "\n",
    "# -------- Accuracy（群組：方法；組內：Train/Test）--------\n",
    "ax = axs[0]\n",
    "rects_train_acc = ax.bar(x - width/2, train_acc, width, label='Train', color=palette[\"Train\"])\n",
    "rects_test_acc  = ax.bar(x + width/2, test_acc,  width, label='Test',  color=palette[\"Test\"])\n",
    "ax.set_title('Accuracy')\n",
    "ax.set_ylim([0, 100])\n",
    "ax.set_ylabel(\"Score (%)\")\n",
    "ax.set_xticks(x, methods)\n",
    "ax.legend()\n",
    "\n",
    "ax.bar_label(rects_train_acc, padding=3, fmt=\"%.2f\")\n",
    "ax.bar_label(rects_test_acc,  padding=3, fmt=\"%.2f\")\n",
    "\n",
    "# -------- F1（群組：方法；組內：Train/Test）--------\n",
    "ax = axs[1]\n",
    "rects_train_f1 = ax.bar(x - width/2, f1_acc,  width, label='Train', color=palette[\"Train\"])\n",
    "rects_test_f1  = ax.bar(x + width/2, test_f1, width, label='Test',  color=palette[\"Test\"])\n",
    "ax.set_title('F1')\n",
    "ax.set_ylim([0, 100])\n",
    "ax.set_ylabel(\"Score (%)\")\n",
    "ax.set_xticks(x, methods)\n",
    "ax.legend()\n",
    "\n",
    "ax.bar_label(rects_train_f1, padding=3, fmt=\"%.2f\")\n",
    "ax.bar_label(rects_test_f1,  padding=3, fmt=\"%.2f\")\n",
    "\n",
    "plt.tight_layout(rect=[0, 0, 1, 0.99])\n",
    "plt.show()\n"
   ],
   "outputs": [
    {
     "data": {
      "text/plain": [
       "<Figure size 1200x500 with 2 Axes>"
      ],
      "image/png": "[encoded data removed]"
     },
     "metadata": {},
     "output_type": "display_data"
    }
   ],
   "execution_count": 35
  },
  {
   "cell_type": "code",
   "id": "cbfb5a15b05a85d9",
   "metadata": {
    "ExecuteTime": {
     "end_time": "2025-08-29T14:20:50.421911Z",
     "start_time": "2025-08-29T14:20:50.239815Z"
    }
   },
   "source": [
    "fig, axs = plt.subplots(1, 3, figsize=(15, 5))\n",
    "fig.suptitle('Other Config Comparison')\n",
    "\n",
    "titles = ['Training Time', 'Client Count', 'Total Samples']\n",
    "ydata = [train_time, clients, samples]\n",
    "ylabs = ['Training Time', 'Clients', 'Samples']\n",
    "\n",
    "for idx in range(3):\n",
    "    sns.barplot(\n",
    "        x=methods, y=ydata[idx], ax=axs[idx], hue=methods,\n",
    "        palette=colors_dict, errorbar=None, legend=False\n",
    "    )\n",
    "    axs[idx].set_title(titles[idx])\n",
    "    axs[idx].set_xlabel(\"\")  # 不額外標註\n",
    "    axs[idx].set_ylabel(ylabs[idx])\n",
    "    # 若要label在頂端\n",
    "    for i, val in enumerate(ydata[idx]):\n",
    "        axs[idx].text(i, val, f\"{val:.2f}\", ha='center', va='bottom', fontsize=10)\n",
    "\n",
    "plt.tight_layout(rect=[0, 0, 1, 0.99])\n",
    "plt.show()"
   ],
   "outputs": [
    {
     "data": {
      "text/plain": [
       "<Figure size 1500x500 with 3 Axes>"
      ],
      "image/png": "[encoded data removed]"
     },
     "metadata": {},
     "output_type": "display_data"
    }
   ],
   "execution_count": 36
  },
  {
   "cell_type": "code",
   "id": "2d8f22fc66e54cd6",
   "metadata": {},
   "source": [],
   "outputs": [],
   "execution_count": null
  }
 ],
 "metadata": {
  "kernelspec": {
   "display_name": "Python 3 (ipykernel)",
   "language": "python",
   "name": "python3"
  },
  "language_info": {
   "codemirror_mode": {
    "name": "ipython",
    "version": 3
   },
   "file_extension": ".py",
   "mimetype": "text/x-python",
   "name": "python",
   "nbconvert_exporter": "python",
   "pygments_lexer": "ipython3",
   "version": "3.10.2"
  }
 },
 "nbformat": 4,
 "nbformat_minor": 5
}
