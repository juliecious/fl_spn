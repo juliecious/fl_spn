{
 "cells": [
  {
   "cell_type": "code",
   "id": "initial_id",
   "metadata": {
    "collapsed": true,
    "ExecuteTime": {
     "end_time": "2025-08-29T09:42:01.136291Z",
     "start_time": "2025-08-29T09:42:00.104674Z"
    }
   },
   "source": [
    "from fl_spn.partitioner import FederatedDataPartitioner\n",
    "from trainer import FederatedEiNetTrainer\n",
    "from utils import load_dataset\n",
    "from fl_spn.config import SupervisedFLConfig"
   ],
   "outputs": [],
   "execution_count": 1
  },
  {
   "metadata": {
    "ExecuteTime": {
     "end_time": "2025-08-29T09:42:03.100938Z",
     "start_time": "2025-08-29T09:42:02.937325Z"
    }
   },
   "cell_type": "code",
   "source": [
    "data = load_dataset(name=\"adult\")\n",
    "\n",
    "partitioner = FederatedDataPartitioner(\n",
    "    X=data[\"X_train\"],\n",
    "    y=data[\"y_train\"],\n",
    "    feature_names=data[\"X_processed\"].columns.tolist(),\n",
    "    numeric_features=data[\"numeric_features\"],\n",
    "    categorical_features=data[\"categorical_features\"],\n",
    ")"
   ],
   "id": "9eada20cd7c73565",
   "outputs": [],
   "execution_count": 2
  },
  {
   "metadata": {
    "ExecuteTime": {
     "end_time": "2025-08-29T09:42:17.650131Z",
     "start_time": "2025-08-29T09:42:08.558412Z"
    }
   },
   "cell_type": "code",
   "source": [
    "print(\"\\n\" + \"=\" * 60)\n",
    "print(\"🔵 Test 1: Horizontal Partitioning\")\n",
    "print(\"=\" * 60)\n",
    "\n",
    "horizontal_partition = partitioner.horizontal_partition(\n",
    "    num_clients=SupervisedFLConfig.num_clients,\n",
    "    random_state=SupervisedFLConfig.random_seed,\n",
    ")\n",
    "\n",
    "horizontal_trainer = FederatedEiNetTrainer(horizontal_partition)\n",
    "\n",
    "horizontal_results = horizontal_trainer.train_federated_learning(\n",
    "    data[\"X_processed\"], epochs=SupervisedFLConfig.epochs, verbose=True\n",
    ")\n",
    "horizontal_eval = horizontal_trainer.evaluate_on_test(\n",
    "        data[\"X_test\"], data[\"y_test\"], data[\"X_processed\"].columns.tolist()\n",
    "    )"
   ],
   "id": "7cd76493e75b7653",
   "outputs": [
    {
     "name": "stderr",
     "output_type": "stream",
     "text": [
      "INFO:fl_spn.partitioner:🔄 Performing HORIZONTAL partitioning into 3 clients...\n",
      "INFO:fl_spn.partitioner:  Client 0: 12059 samples, 14 features\n",
      "INFO:fl_spn.partitioner:  Client 1: 12059 samples, 14 features\n",
      "INFO:fl_spn.partitioner:  Client 2: 12059 samples, 14 features\n",
      "INFO:trainer:\n",
      "🚀 Starting horizontal federated learning...\n",
      "INFO:trainer:Training parameters: epochs=10\n",
      "INFO:trainer:\n",
      "📍 Training client client_0...\n",
      "INFO:trainer:   Data shape: 12059 samples × 14 features\n",
      "INFO:trainer:   🔗 Overlapping features: 14 feature(s)- ['age', 'fnlwgt', 'education-num', 'capital-gain', 'capital-loss', 'hours-per-week', 'workclass', 'education', 'marital-status', 'occupation', 'relationship', 'race', 'sex', 'native-country']\n",
      "INFO:simple_einet.layers.distributions.piecewise_linear:Initializing piecewise linear distribution with data of shape torch.Size([12059, 1, 14]).\n"
     ]
    },
    {
     "name": "stdout",
     "output_type": "stream",
     "text": [
      "\n",
      "============================================================\n",
      "🔵 Test 1: Horizontal Partitioning\n",
      "============================================================\n"
     ]
    },
    {
     "name": "stderr",
     "output_type": "stream",
     "text": [
      "Initializing PiecewiseLinear Leaf Layer: 100%|██████████| 3/3 [00:00<00:00, 11.13it/s]\n",
      "INFO:trainer:    📊 Model config: depth=2, sums=12, leaves=12\n",
      "INFO:trainer:    🔧 Feature domains: 14 domain created\n",
      "/Users/M279402/PycharmProjects/fl_spn/.venv/lib/python3.10/site-packages/simple_einet/layers/distributions/piecewise_linear.py:263: UserWarning: torch.searchsorted(): input value tensor is non-contiguous, this will lower the performance due to extra data copy when converting non-contiguous tensor to contiguous, please use contiguous input value tensor if possible. This message will only appear once per program. (Triggered internally at /Users/runner/work/pytorch/pytorch/pytorch/aten/src/ATen/native/BucketizationUtils.h:34.)\n",
      "  indices = torch.searchsorted(xp, x, right=False)\n",
      "INFO:trainer:Epoch:  5, Loss: 0.6823, Train Acc: 54.40%, F1: 51.24%\n",
      "INFO:trainer:Epoch: 10, Loss: 0.6543, Train Acc: 57.13%, F1: 52.64%\n",
      "INFO:trainer:    ✅ Training accuracy: 57.127\n",
      "INFO:trainer:    📈 Training F1 score: 52.637\n",
      "INFO:trainer:    ⏱️ Training time: 1.912 seconds\n",
      "INFO:trainer:   🎯 Client client_0 training complete\n",
      "INFO:trainer:\n",
      "📍 Training client client_1...\n",
      "INFO:trainer:   Data shape: 12059 samples × 14 features\n",
      "INFO:trainer:   🔗 Overlapping features: 14 feature(s)- ['age', 'fnlwgt', 'education-num', 'capital-gain', 'capital-loss', 'hours-per-week', 'workclass', 'education', 'marital-status', 'occupation', 'relationship', 'race', 'sex', 'native-country']\n",
      "INFO:simple_einet.layers.distributions.piecewise_linear:Initializing piecewise linear distribution with data of shape torch.Size([12059, 1, 14]).\n",
      "Initializing PiecewiseLinear Leaf Layer: 100%|██████████| 3/3 [00:00<00:00, 11.87it/s]\n",
      "INFO:trainer:    📊 Model config: depth=2, sums=12, leaves=12\n",
      "INFO:trainer:    🔧 Feature domains: 14 domain created\n",
      "INFO:trainer:Epoch:  5, Loss: 0.6797, Train Acc: 60.35%, F1: 57.90%\n",
      "INFO:trainer:Epoch: 10, Loss: 0.6610, Train Acc: 70.55%, F1: 62.43%\n",
      "INFO:trainer:    ✅ Training accuracy: 70.553\n",
      "INFO:trainer:    📈 Training F1 score: 62.427\n",
      "INFO:trainer:    ⏱️ Training time: 1.911 seconds\n",
      "INFO:trainer:   🎯 Client client_1 training complete\n",
      "INFO:trainer:\n",
      "📍 Training client client_2...\n",
      "INFO:trainer:   Data shape: 12059 samples × 14 features\n",
      "INFO:trainer:   🔗 Overlapping features: 14 feature(s)- ['age', 'fnlwgt', 'education-num', 'capital-gain', 'capital-loss', 'hours-per-week', 'workclass', 'education', 'marital-status', 'occupation', 'relationship', 'race', 'sex', 'native-country']\n",
      "INFO:simple_einet.layers.distributions.piecewise_linear:Initializing piecewise linear distribution with data of shape torch.Size([12059, 1, 14]).\n",
      "Initializing PiecewiseLinear Leaf Layer: 100%|██████████| 3/3 [00:00<00:00, 11.80it/s]\n",
      "INFO:trainer:    📊 Model config: depth=2, sums=12, leaves=12\n",
      "INFO:trainer:    🔧 Feature domains: 14 domain created\n",
      "INFO:trainer:Epoch:  5, Loss: 0.6624, Train Acc: 61.31%, F1: 56.19%\n",
      "INFO:trainer:Epoch: 10, Loss: 0.6295, Train Acc: 66.18%, F1: 59.59%\n",
      "INFO:trainer:    ✅ Training accuracy: 66.183\n",
      "INFO:trainer:    📈 Training F1 score: 59.590\n",
      "INFO:trainer:    ⏱️ Training time: 1.982 seconds\n",
      "INFO:trainer:   🎯 Client client_2 training complete\n",
      "INFO:trainer:\n",
      "📊 horizontal federated learning complete!\n",
      "INFO:trainer:   ⏱️ Total training time: 8.02 seconds\n",
      "INFO:trainer:   🎯 Weighted average training accuracy: 64.621\n",
      "INFO:trainer:   📈 Weighted average F1 score: 58.218\n",
      "INFO:trainer:   🏢 Number of participating clients:  3\n",
      "INFO:trainer:   📊 Total samples: 36177\n",
      "INFO:trainer:\n",
      "📋 Evaluating federated EiNet models on test set...\n",
      "INFO:trainer:   Client client_0: Accuracy 57.081, F1 52.471 (14 features)\n",
      "INFO:trainer:   Client client_1: Accuracy 68.933, F1 60.168 (14 features)\n",
      "INFO:trainer:   Client client_2: Accuracy 66.512, F1 59.921 (14 features)\n",
      "INFO:trainer:\n",
      "🎯 Ensemble result (probability averaging):\n",
      "INFO:trainer:   Accuracy: 0.703\n",
      "INFO:trainer:   F1 score: 0.720\n"
     ]
    }
   ],
   "execution_count": 3
  },
  {
   "metadata": {
    "ExecuteTime": {
     "end_time": "2025-08-29T09:42:37.647071Z",
     "start_time": "2025-08-29T09:42:30.974101Z"
    }
   },
   "cell_type": "code",
   "source": [
    "print(\"\\n\" + \"=\"*60)\n",
    "print(\"🟢 Test 2: Vertical Partitioning\")\n",
    "print(\"=\"*60)\n",
    "\n",
    "vertical_partition = partitioner.vertical_partition(\n",
    "    num_clients=SupervisedFLConfig.num_clients, \n",
    "    random_state=SupervisedFLConfig.random_seed)\n",
    "\n",
    "vertical_trainer = FederatedEiNetTrainer(vertical_partition)\n",
    "\n",
    "vertical_results = vertical_trainer.train_federated_learning(\n",
    "    data[\"X_processed\"], epochs=SupervisedFLConfig.epochs, verbose=True\n",
    ")\n",
    "\n",
    "# 在測試集上評估\n",
    "vertical_eval = vertical_trainer.evaluate_on_test(\n",
    "    data[\"X_test\"], data[\"y_test\"], data[\"X_processed\"].columns.tolist()\n",
    ")"
   ],
   "id": "ff0f8447b655117e",
   "outputs": [
    {
     "name": "stderr",
     "output_type": "stream",
     "text": [
      "INFO:fl_spn.partitioner:🔄 Performing VERTICAL partitioning into 3 clients...\n",
      "INFO:fl_spn.partitioner:  Client 0: 36177 samples, 4 features\n",
      "INFO:fl_spn.partitioner:  Client 1: 36177 samples, 4 features\n",
      "INFO:fl_spn.partitioner:  Client 2: 36177 samples, 6 features\n",
      "INFO:trainer:\n",
      "🚀 Starting vertical federated learning...\n",
      "INFO:trainer:Training parameters: epochs=10\n",
      "INFO:trainer:\n",
      "📍 Training client client_0...\n",
      "INFO:trainer:   Data shape: 36177 samples × 4 features\n",
      "INFO:simple_einet.layers.distributions.piecewise_linear:Initializing piecewise linear distribution with data of shape torch.Size([36177, 1, 4]).\n"
     ]
    },
    {
     "name": "stdout",
     "output_type": "stream",
     "text": [
      "\n",
      "============================================================\n",
      "🟢 Test 2: Vertical Partitioning\n",
      "============================================================\n"
     ]
    },
    {
     "name": "stderr",
     "output_type": "stream",
     "text": [
      "Initializing PiecewiseLinear Leaf Layer: 100%|██████████| 3/3 [00:00<00:00, 27.46it/s]\n",
      "INFO:trainer:    📊 Model config: depth=1, sums=8, leaves=8\n",
      "INFO:trainer:    🔧 Feature domains: 4 domain created\n",
      "INFO:trainer:Epoch:  5, Loss: 0.6930, Train Acc: 63.44%, F1: 60.35%\n",
      "INFO:trainer:Epoch: 10, Loss: 0.6756, Train Acc: 63.45%, F1: 60.35%\n",
      "INFO:trainer:    ✅ Training accuracy: 63.446\n",
      "INFO:trainer:    📈 Training F1 score: 60.345\n",
      "INFO:trainer:    ⏱️ Training time: 1.120 seconds\n",
      "INFO:trainer:   🎯 Client client_0 training complete\n",
      "INFO:trainer:\n",
      "📍 Training client client_1...\n",
      "INFO:trainer:   Data shape: 36177 samples × 4 features\n",
      "INFO:simple_einet.layers.distributions.piecewise_linear:Initializing piecewise linear distribution with data of shape torch.Size([36177, 1, 4]).\n",
      "Initializing PiecewiseLinear Leaf Layer: 100%|██████████| 3/3 [00:00<00:00, 17.51it/s]\n",
      "INFO:trainer:    📊 Model config: depth=1, sums=8, leaves=8\n",
      "INFO:trainer:    🔧 Feature domains: 4 domain created\n",
      "INFO:trainer:Epoch:  5, Loss: 0.7059, Train Acc: 63.89%, F1: 60.04%\n",
      "INFO:trainer:Epoch: 10, Loss: 0.6803, Train Acc: 65.82%, F1: 61.20%\n",
      "INFO:trainer:    ✅ Training accuracy: 65.824\n",
      "INFO:trainer:    📈 Training F1 score: 61.196\n",
      "INFO:trainer:    ⏱️ Training time: 1.000 seconds\n",
      "INFO:trainer:   🎯 Client client_1 training complete\n",
      "INFO:trainer:\n",
      "📍 Training client client_2...\n",
      "INFO:trainer:   Data shape: 36177 samples × 6 features\n",
      "INFO:simple_einet.layers.distributions.piecewise_linear:Initializing piecewise linear distribution with data of shape torch.Size([36177, 1, 6]).\n",
      "Initializing PiecewiseLinear Leaf Layer: 100%|██████████| 3/3 [00:00<00:00,  5.11it/s]\n",
      "INFO:trainer:    📊 Model config: depth=2, sums=12, leaves=12\n",
      "INFO:trainer:    🔧 Feature domains: 6 domain created\n",
      "INFO:trainer:Epoch:  5, Loss: 0.7039, Train Acc: 76.66%, F1: 61.11%\n",
      "INFO:trainer:Epoch: 10, Loss: 0.6210, Train Acc: 78.20%, F1: 63.33%\n",
      "INFO:trainer:    ✅ Training accuracy: 78.204\n",
      "INFO:trainer:    📈 Training F1 score: 63.332\n",
      "INFO:trainer:    ⏱️ Training time: 2.648 seconds\n",
      "INFO:trainer:   🎯 Client client_2 training complete\n",
      "INFO:trainer:\n",
      "📊 vertical federated learning complete!\n",
      "INFO:trainer:   ⏱️ Total training time: 6.29 seconds\n",
      "INFO:trainer:   🎯 Weighted average training accuracy: 69.158\n",
      "INFO:trainer:   📈 Weighted average F1 score: 61.624\n",
      "INFO:trainer:   🏢 Number of participating clients:  3\n",
      "INFO:trainer:   📊 Total samples: 108531\n",
      "INFO:trainer:\n",
      "📋 Evaluating federated EiNet models on test set...\n",
      "INFO:trainer:   Client client_0: Accuracy 63.416, F1 60.390 (4 features)\n",
      "INFO:trainer:   Client client_1: Accuracy 66.158, F1 61.358 (4 features)\n",
      "INFO:trainer:   Client client_2: Accuracy 77.988, F1 63.007 (6 features)\n",
      "INFO:trainer:\n",
      "🎯 Ensemble result (majority voting):\n",
      "INFO:trainer:   Accuracy: 0.768\n",
      "INFO:trainer:   F1 score: 0.771\n"
     ]
    }
   ],
   "execution_count": 4
  },
  {
   "metadata": {
    "ExecuteTime": {
     "end_time": "2025-08-29T09:42:40.604561Z",
     "start_time": "2025-08-29T09:42:39.637390Z"
    }
   },
   "cell_type": "code",
   "source": [
    "print(\"\\n\" + \"=\" * 60)\n",
    "print(\"🟡 Test 3: Hybrid Partitioning\")\n",
    "print(\"=\" * 60)\n",
    "\n",
    "hybrid_partition = partitioner.hybrid_partition(\n",
    "    num_clients=SupervisedFLConfig.num_clients,\n",
    "    sample_overlap_ratio=SupervisedFLConfig.sample_overlap_ratio,\n",
    "    feature_overlap_ratio=SupervisedFLConfig.feature_overlap_ratio,\n",
    "    random_state=SupervisedFLConfig.random_seed,\n",
    ")\n",
    "hybrid_trainer = FederatedEiNetTrainer(hybrid_partition)\n",
    "hybrid_results = hybrid_trainer.train_federated_learning(\n",
    "    data[\"X_processed\"], epochs=SupervisedFLConfig.epochs, verbose=True\n",
    ")\n",
    "hybrid_eval = hybrid_trainer.evaluate_on_test(\n",
    "        data[\"X_test\"], data[\"y_test\"], data[\"X_processed\"].columns.tolist()\n",
    "    )"
   ],
   "id": "5ac0d4741d16d3c0",
   "outputs": [
    {
     "name": "stderr",
     "output_type": "stream",
     "text": [
      "INFO:fl_spn.partitioner:🔄 Performing HYBRID partitioning into 3 clients...\n",
      "INFO:fl_spn.partitioner:  Sample overlap ratio: 0.0%\n",
      "INFO:fl_spn.partitioner:  Feature overlap ratio: 0.0%\n",
      "INFO:fl_spn.partitioner:  Base samples: 18087; Overlap sample pool: 0\n",
      "INFO:fl_spn.partitioner:  Base features: 6; Overlap feature pool: 0\n",
      "INFO:fl_spn.partitioner:  Client 0: 6029 samples × 2 features\n",
      "INFO:fl_spn.partitioner:  Client 1: 6029 samples × 2 features\n",
      "INFO:fl_spn.partitioner:  Client 2: 6029 samples × 2 features\n",
      "INFO:trainer:\n",
      "🚀 Starting hybrid_robust federated learning...\n",
      "INFO:trainer:Training parameters: epochs=10\n",
      "INFO:trainer:\n",
      "📍 Training client client_0...\n",
      "INFO:trainer:   Data shape: 6029 samples × 2 features\n",
      "INFO:simple_einet.layers.distributions.piecewise_linear:Initializing piecewise linear distribution with data of shape torch.Size([6029, 1, 2]).\n"
     ]
    },
    {
     "name": "stdout",
     "output_type": "stream",
     "text": [
      "\n",
      "============================================================\n",
      "🟡 Test 3: Hybrid Partitioning\n",
      "============================================================\n"
     ]
    },
    {
     "name": "stderr",
     "output_type": "stream",
     "text": [
      "Initializing PiecewiseLinear Leaf Layer: 100%|██████████| 3/3 [00:00<00:00, 73.47it/s]\n",
      "INFO:trainer:    📊 Model config: depth=1, sums=4, leaves=4\n",
      "INFO:trainer:    🔧 Feature domains: 2 domain created\n",
      "INFO:trainer:Epoch:  5, Loss: 0.9271, Train Acc: 39.39%, F1: 37.51%\n",
      "INFO:trainer:Epoch: 10, Loss: 0.8908, Train Acc: 39.56%, F1: 37.65%\n",
      "INFO:trainer:    ✅ Training accuracy: 39.559\n",
      "INFO:trainer:    📈 Training F1 score: 37.650\n",
      "INFO:trainer:    ⏱️ Training time: 0.144 seconds\n",
      "INFO:trainer:   🎯 Client client_0 training complete\n",
      "INFO:trainer:\n",
      "📍 Training client client_1...\n",
      "INFO:trainer:   Data shape: 6029 samples × 2 features\n",
      "INFO:simple_einet.layers.distributions.piecewise_linear:Initializing piecewise linear distribution with data of shape torch.Size([6029, 1, 2]).\n",
      "Initializing PiecewiseLinear Leaf Layer: 100%|██████████| 3/3 [00:00<00:00, 35.23it/s]\n",
      "INFO:trainer:    📊 Model config: depth=1, sums=4, leaves=4\n",
      "INFO:trainer:    🔧 Feature domains: 2 domain created\n",
      "INFO:trainer:Epoch:  5, Loss: 0.7074, Train Acc: 52.02%, F1: 49.74%\n",
      "INFO:trainer:Epoch: 10, Loss: 0.6911, Train Acc: 61.82%, F1: 56.45%\n",
      "INFO:trainer:    ✅ Training accuracy: 61.818\n",
      "INFO:trainer:    📈 Training F1 score: 56.448\n",
      "INFO:trainer:    ⏱️ Training time: 0.224 seconds\n",
      "INFO:trainer:   🎯 Client client_1 training complete\n",
      "INFO:trainer:\n",
      "📍 Training client client_2...\n",
      "INFO:trainer:   Data shape: 6029 samples × 2 features\n",
      "INFO:simple_einet.layers.distributions.piecewise_linear:Initializing piecewise linear distribution with data of shape torch.Size([6029, 1, 2]).\n",
      "Initializing PiecewiseLinear Leaf Layer: 100%|██████████| 3/3 [00:00<00:00, 121.72it/s]\n",
      "INFO:trainer:    📊 Model config: depth=1, sums=4, leaves=4\n",
      "INFO:trainer:    🔧 Feature domains: 2 domain created\n",
      "INFO:trainer:Epoch:  5, Loss: 0.7281, Train Acc: 48.57%, F1: 48.03%\n",
      "INFO:trainer:Epoch: 10, Loss: 0.7031, Train Acc: 48.57%, F1: 48.03%\n",
      "INFO:trainer:    ✅ Training accuracy: 48.565\n",
      "INFO:trainer:    📈 Training F1 score: 48.026\n",
      "INFO:trainer:    ⏱️ Training time: 0.187 seconds\n",
      "INFO:trainer:   🎯 Client client_2 training complete\n",
      "INFO:trainer:\n",
      "📊 hybrid_robust federated learning complete!\n",
      "INFO:trainer:   ⏱️ Total training time: 0.81 seconds\n",
      "INFO:trainer:   🎯 Weighted average training accuracy: 49.981\n",
      "INFO:trainer:   📈 Weighted average F1 score: 47.375\n",
      "INFO:trainer:   🏢 Number of participating clients:  3\n",
      "INFO:trainer:   📊 Total samples: 18087\n",
      "INFO:trainer:\n",
      "📋 Evaluating federated EiNet models on test set...\n",
      "INFO:trainer:   Client client_0: Accuracy 39.713, F1 37.765 (2 features)\n",
      "INFO:trainer:   Client client_1: Accuracy 62.189, F1 56.837 (2 features)\n",
      "INFO:trainer:   Client client_2: Accuracy 47.850, F1 47.283 (2 features)\n",
      "INFO:trainer:\n",
      "🎯 Ensemble result (probability averaging):\n",
      "INFO:trainer:   Accuracy: 0.577\n",
      "INFO:trainer:   F1 score: 0.604\n"
     ]
    }
   ],
   "execution_count": 5
  },
  {
   "metadata": {
    "ExecuteTime": {
     "end_time": "2025-08-29T09:50:44.829914Z",
     "start_time": "2025-08-29T09:50:44.825862Z"
    }
   },
   "cell_type": "code",
   "source": [
    "import plotly.graph_objects as go\n",
    "from plotly.subplots import make_subplots\n",
    "\n",
    "methods = ['Horizontal', 'Vertical', 'Hybrid']\n",
    "\n",
    "train_acc = [horizontal_results['weighted_accuracy'], \n",
    "             vertical_results['weighted_accuracy'], \n",
    "             hybrid_results['weighted_accuracy']]\n",
    "\n",
    "f1_acc = [horizontal_results['weighted_f1'], \n",
    "          vertical_results['weighted_f1'], \n",
    "          hybrid_results['weighted_f1']]\n",
    "\n",
    "train_time = [horizontal_results['total_training_time'], \n",
    "              vertical_results['total_training_time'], \n",
    "              hybrid_results['total_training_time']]\n",
    "\n",
    "clients = [horizontal_results['num_clients'], \n",
    "           vertical_results['num_clients'], \n",
    "           hybrid_results['num_clients']]\n",
    "\n",
    "samples = [horizontal_results['total_samples'], \n",
    "           vertical_results['total_samples'], \n",
    "           hybrid_results['total_samples']]\n",
    "\n",
    "colors = ['#F3AA60', '#EF6262', '#468897']\n"
   ],
   "id": "2f578568b687f546",
   "outputs": [],
   "execution_count": 15
  },
  {
   "metadata": {
    "ExecuteTime": {
     "end_time": "2025-08-29T09:55:09.299759Z",
     "start_time": "2025-08-29T09:55:09.268378Z"
    }
   },
   "cell_type": "code",
   "source": [
    "fig = make_subplots(\n",
    "    rows=1, cols=2,\n",
    "    subplot_titles=('Accuracy', 'F1',)\n",
    ")\n",
    "\n",
    "for i, method in enumerate(methods):\n",
    "    # Accuracy bar\n",
    "    fig.add_trace(\n",
    "        go.Bar(name=f'Train {method}', x=[method], y=[train_acc[i]],\n",
    "               marker_color=colors[i], opacity=0.8, legendgroup=f'group{i}',\n",
    "               showlegend=False),\n",
    "        row=1, col=1\n",
    "    )\n",
    "    # Add annotation for accuracy\n",
    "    fig.add_annotation(\n",
    "        x=method, y=train_acc[i], text=f\"{train_acc[i]:.2f}\",\n",
    "        showarrow=False, font=dict(size=12, color=\"black\"),\n",
    "        xanchor='center', yanchor='bottom', row=1, col=1\n",
    "    )\n",
    "\n",
    "    # F1 bar (replace with train_f1[i] if needed)\n",
    "    fig.add_trace(\n",
    "        go.Bar(name=f'Train {method}', x=[method], y=[f1_acc[i]],\n",
    "               marker_color=colors[i], opacity=0.8, legendgroup=f'group{i}',\n",
    "               showlegend=False),\n",
    "        row=1, col=2\n",
    "    )\n",
    "    # Add annotation for F1\n",
    "    fig.add_annotation(\n",
    "        x=method, y=f1_acc[i], text=f\"{f1_acc[i]:.2f}\",\n",
    "        showarrow=False, font=dict(size=12, color=\"black\"),\n",
    "        xanchor='center', yanchor='bottom', row=1, col=2\n",
    "    )\n",
    "\n",
    "fig.update_yaxes(range=[0, 100])\n",
    "fig.update_layout(\n",
    "    title=f'FL Methods Performance Comparison (epochs={SupervisedFLConfig.epochs})',\n",
    ")\n",
    "fig.update_layout(template='plotly_white')\n",
    "fig.update_yaxes(ticksuffix=\"%\", range=[0, 100])\n",
    "fig.show()"
   ],
   "id": "838aa24b501de965",
   "outputs": [
    {
     "data": {
      "application/vnd.plotly.v1+json": {
       "data": [
        {
         "legendgroup": "group0",
         "marker": {
          "color": "#F3AA60"
         },
         "name": "Train Horizontal",
         "opacity": 0.8,
         "showlegend": false,
         "x": [
          "Horizontal"
         ],
         "y": [
          64.62117004394531
         ],
         "type": "bar",
         "xaxis": "x",
         "yaxis": "y"
        },
        {
         "legendgroup": "group0",
         "marker": {
          "color": "#F3AA60"
         },
         "name": "Train Horizontal",
         "opacity": 0.8,
         "showlegend": false,
         "x": [
          "Horizontal"
         ],
         "y": [
          58.21805578776019
         ],
         "type": "bar",
         "xaxis": "x2",
         "yaxis": "y2"
        },
        {
         "legendgroup": "group1",
         "marker": {
          "color": "#EF6262"
         },
         "name": "Train Vertical",
         "opacity": 0.8,
         "showlegend": false,
         "x": [
          "Vertical"
         ],
         "y": [
          69.15811920166016
         ],
         "type": "bar",
         "xaxis": "x",
         "yaxis": "y"
        },
        {
         "legendgroup": "group1",
         "marker": {
          "color": "#EF6262"
         },
         "name": "Train Vertical",
         "opacity": 0.8,
         "showlegend": false,
         "x": [
          "Vertical"
         ],
         "y": [
          61.624300211727856
         ],
         "type": "bar",
         "xaxis": "x2",
         "yaxis": "y2"
        },
        {
         "legendgroup": "group2",
         "marker": {
          "color": "#468897"
         },
         "name": "Train Hybrid",
         "opacity": 0.8,
         "showlegend": false,
         "x": [
          "Hybrid"
         ],
         "y": [
          49.980648040771484
         ],
         "type": "bar",
         "xaxis": "x",
         "yaxis": "y"
        },
        {
         "legendgroup": "group2",
         "marker": {
          "color": "#468897"
         },
         "name": "Train Hybrid",
         "opacity": 0.8,
         "showlegend": false,
         "x": [
          "Hybrid"
         ],
         "y": [
          47.37462692135252
         ],
         "type": "bar",
         "xaxis": "x2",
         "yaxis": "y2"
        }
       ],
       "layout": {
        "template": {
         "data": {
          "barpolar": [
           {
            "marker": {
             "line": {
              "color": "white",
              "width": 0.5
             },
             "pattern": {
              "fillmode": "overlay",
              "size": 10,
              "solidity": 0.2
             }
            },
            "type": "barpolar"
           }
          ],
          "bar": [
           {
            "error_x": {
             "color": "#2a3f5f"
            },
            "error_y": {
             "color": "#2a3f5f"
            },
            "marker": {
             "line": {
              "color": "white",
              "width": 0.5
             },
             "pattern": {
              "fillmode": "overlay",
              "size": 10,
              "solidity": 0.2
             }
            },
            "type": "bar"
           }
          ],
          "carpet": [
           {
            "aaxis": {
             "endlinecolor": "#2a3f5f",
             "gridcolor": "#C8D4E3",
             "linecolor": "#C8D4E3",
             "minorgridcolor": "#C8D4E3",
             "startlinecolor": "#2a3f5f"
            },
            "baxis": {
             "endlinecolor": "#2a3f5f",
             "gridcolor": "#C8D4E3",
             "linecolor": "#C8D4E3",
             "minorgridcolor": "#C8D4E3",
             "startlinecolor": "#2a3f5f"
            },
            "type": "carpet"
           }
          ],
          "choropleth": [
           {
            "colorbar": {
             "outlinewidth": 0,
             "ticks": ""
            },
            "type": "choropleth"
           }
          ],
          "contourcarpet": [
           {
            "colorbar": {
             "outlinewidth": 0,
             "ticks": ""
            },
            "type": "contourcarpet"
           }
          ],
          "contour": [
           {
            "colorbar": {
             "outlinewidth": 0,
             "ticks": ""
            },
            "colorscale": [
             [
              0.0,
              "#0d0887"
             ],
             [
              0.1111111111111111,
              "#46039f"
             ],
             [
              0.2222222222222222,
              "#7201a8"
             ],
             [
              0.3333333333333333,
              "#9c179e"
             ],
             [
              0.4444444444444444,
              "#bd3786"
             ],
             [
              0.5555555555555556,
              "#d8576b"
             ],
             [
              0.6666666666666666,
              "#ed7953"
             ],
             [
              0.7777777777777778,
              "#fb9f3a"
             ],
             [
              0.8888888888888888,
              "#fdca26"
             ],
             [
              1.0,
              "#f0f921"
             ]
            ],
            "type": "contour"
           }
          ],
          "heatmap": [
           {
            "colorbar": {
             "outlinewidth": 0,
             "ticks": ""
            },
            "colorscale": [
             [
              0.0,
              "#0d0887"
             ],
             [
              0.1111111111111111,
              "#46039f"
             ],
             [
              0.2222222222222222,
              "#7201a8"
             ],
             [
              0.3333333333333333,
              "#9c179e"
             ],
             [
              0.4444444444444444,
              "#bd3786"
             ],
             [
              0.5555555555555556,
              "#d8576b"
             ],
             [
              0.6666666666666666,
              "#ed7953"
             ],
             [
              0.7777777777777778,
              "#fb9f3a"
             ],
             [
              0.8888888888888888,
              "#fdca26"
             ],
             [
              1.0,
              "#f0f921"
             ]
            ],
            "type": "heatmap"
           }
          ],
          "histogram2dcontour": [
           {
            "colorbar": {
             "outlinewidth": 0,
             "ticks": ""
            },
            "colorscale": [
             [
              0.0,
              "#0d0887"
             ],
             [
              0.1111111111111111,
              "#46039f"
             ],
             [
              0.2222222222222222,
              "#7201a8"
             ],
             [
              0.3333333333333333,
              "#9c179e"
             ],
             [
              0.4444444444444444,
              "#bd3786"
             ],
             [
              0.5555555555555556,
              "#d8576b"
             ],
             [
              0.6666666666666666,
              "#ed7953"
             ],
             [
              0.7777777777777778,
              "#fb9f3a"
             ],
             [
              0.8888888888888888,
              "#fdca26"
             ],
             [
              1.0,
              "#f0f921"
             ]
            ],
            "type": "histogram2dcontour"
           }
          ],
          "histogram2d": [
           {
            "colorbar": {
             "outlinewidth": 0,
             "ticks": ""
            },
            "colorscale": [
             [
              0.0,
              "#0d0887"
             ],
             [
              0.1111111111111111,
              "#46039f"
             ],
             [
              0.2222222222222222,
              "#7201a8"
             ],
             [
              0.3333333333333333,
              "#9c179e"
             ],
             [
              0.4444444444444444,
              "#bd3786"
             ],
             [
              0.5555555555555556,
              "#d8576b"
             ],
             [
              0.6666666666666666,
              "#ed7953"
             ],
             [
              0.7777777777777778,
              "#fb9f3a"
             ],
             [
              0.8888888888888888,
              "#fdca26"
             ],
             [
              1.0,
              "#f0f921"
             ]
            ],
            "type": "histogram2d"
           }
          ],
          "histogram": [
           {
            "marker": {
             "pattern": {
              "fillmode": "overlay",
              "size": 10,
              "solidity": 0.2
             }
            },
            "type": "histogram"
           }
          ],
          "mesh3d": [
           {
            "colorbar": {
             "outlinewidth": 0,
             "ticks": ""
            },
            "type": "mesh3d"
           }
          ],
          "parcoords": [
           {
            "line": {
             "colorbar": {
              "outlinewidth": 0,
              "ticks": ""
             }
            },
            "type": "parcoords"
           }
          ],
          "pie": [
           {
            "automargin": true,
            "type": "pie"
           }
          ],
          "scatter3d": [
           {
            "line": {
             "colorbar": {
              "outlinewidth": 0,
              "ticks": ""
             }
            },
            "marker": {
             "colorbar": {
              "outlinewidth": 0,
              "ticks": ""
             }
            },
            "type": "scatter3d"
           }
          ],
          "scattercarpet": [
           {
            "marker": {
             "colorbar": {
              "outlinewidth": 0,
              "ticks": ""
             }
            },
            "type": "scattercarpet"
           }
          ],
          "scattergeo": [
           {
            "marker": {
             "colorbar": {
              "outlinewidth": 0,
              "ticks": ""
             }
            },
            "type": "scattergeo"
           }
          ],
          "scattergl": [
           {
            "marker": {
             "colorbar": {
              "outlinewidth": 0,
              "ticks": ""
             }
            },
            "type": "scattergl"
           }
          ],
          "scattermapbox": [
           {
            "marker": {
             "colorbar": {
              "outlinewidth": 0,
              "ticks": ""
             }
            },
            "type": "scattermapbox"
           }
          ],
          "scattermap": [
           {
            "marker": {
             "colorbar": {
              "outlinewidth": 0,
              "ticks": ""
             }
            },
            "type": "scattermap"
           }
          ],
          "scatterpolargl": [
           {
            "marker": {
             "colorbar": {
              "outlinewidth": 0,
              "ticks": ""
             }
            },
            "type": "scatterpolargl"
           }
          ],
          "scatterpolar": [
           {
            "marker": {
             "colorbar": {
              "outlinewidth": 0,
              "ticks": ""
             }
            },
            "type": "scatterpolar"
           }
          ],
          "scatter": [
           {
            "fillpattern": {
             "fillmode": "overlay",
             "size": 10,
             "solidity": 0.2
            },
            "type": "scatter"
           }
          ],
          "scatterternary": [
           {
            "marker": {
             "colorbar": {
              "outlinewidth": 0,
              "ticks": ""
             }
            },
            "type": "scatterternary"
           }
          ],
          "surface": [
           {
            "colorbar": {
             "outlinewidth": 0,
             "ticks": ""
            },
            "colorscale": [
             [
              0.0,
              "#0d0887"
             ],
             [
              0.1111111111111111,
              "#46039f"
             ],
             [
              0.2222222222222222,
              "#7201a8"
             ],
             [
              0.3333333333333333,
              "#9c179e"
             ],
             [
              0.4444444444444444,
              "#bd3786"
             ],
             [
              0.5555555555555556,
              "#d8576b"
             ],
             [
              0.6666666666666666,
              "#ed7953"
             ],
             [
              0.7777777777777778,
              "#fb9f3a"
             ],
             [
              0.8888888888888888,
              "#fdca26"
             ],
             [
              1.0,
              "#f0f921"
             ]
            ],
            "type": "surface"
           }
          ],
          "table": [
           {
            "cells": {
             "fill": {
              "color": "#EBF0F8"
             },
             "line": {
              "color": "white"
             }
            },
            "header": {
             "fill": {
              "color": "#C8D4E3"
             },
             "line": {
              "color": "white"
             }
            },
            "type": "table"
           }
          ]
         },
         "layout": {
          "annotationdefaults": {
           "arrowcolor": "#2a3f5f",
           "arrowhead": 0,
           "arrowwidth": 1
          },
          "autotypenumbers": "strict",
          "coloraxis": {
           "colorbar": {
            "outlinewidth": 0,
            "ticks": ""
           }
          },
          "colorscale": {
           "diverging": [
            [
             0,
             "#8e0152"
            ],
            [
             0.1,
             "#c51b7d"
            ],
            [
             0.2,
             "#de77ae"
            ],
            [
             0.3,
             "#f1b6da"
            ],
            [
             0.4,
             "#fde0ef"
            ],
            [
             0.5,
             "#f7f7f7"
            ],
            [
             0.6,
             "#e6f5d0"
            ],
            [
             0.7,
             "#b8e186"
            ],
            [
             0.8,
             "#7fbc41"
            ],
            [
             0.9,
             "#4d9221"
            ],
            [
             1,
             "#276419"
            ]
           ],
           "sequential": [
            [
             0.0,
             "#0d0887"
            ],
            [
             0.1111111111111111,
             "#46039f"
            ],
            [
             0.2222222222222222,
             "#7201a8"
            ],
            [
             0.3333333333333333,
             "#9c179e"
            ],
            [
             0.4444444444444444,
             "#bd3786"
            ],
            [
             0.5555555555555556,
             "#d8576b"
            ],
            [
             0.6666666666666666,
             "#ed7953"
            ],
            [
             0.7777777777777778,
             "#fb9f3a"
            ],
            [
             0.8888888888888888,
             "#fdca26"
            ],
            [
             1.0,
             "#f0f921"
            ]
           ],
           "sequentialminus": [
            [
             0.0,
             "#0d0887"
            ],
            [
             0.1111111111111111,
             "#46039f"
            ],
            [
             0.2222222222222222,
             "#7201a8"
            ],
            [
             0.3333333333333333,
             "#9c179e"
            ],
            [
             0.4444444444444444,
             "#bd3786"
            ],
            [
             0.5555555555555556,
             "#d8576b"
            ],
            [
             0.6666666666666666,
             "#ed7953"
            ],
            [
             0.7777777777777778,
             "#fb9f3a"
            ],
            [
             0.8888888888888888,
             "#fdca26"
            ],
            [
             1.0,
             "#f0f921"
            ]
           ]
          },
          "colorway": [
           "#636efa",
           "#EF553B",
           "#00cc96",
           "#ab63fa",
           "#FFA15A",
           "#19d3f3",
           "#FF6692",
           "#B6E880",
           "#FF97FF",
           "#FECB52"
          ],
          "font": {
           "color": "#2a3f5f"
          },
          "geo": {
           "bgcolor": "white",
           "lakecolor": "white",
           "landcolor": "white",
           "showlakes": true,
           "showland": true,
           "subunitcolor": "#C8D4E3"
          },
          "hoverlabel": {
           "align": "left"
          },
          "hovermode": "closest",
          "mapbox": {
           "style": "light"
          },
          "paper_bgcolor": "white",
          "plot_bgcolor": "white",
          "polar": {
           "angularaxis": {
            "gridcolor": "#EBF0F8",
            "linecolor": "#EBF0F8",
            "ticks": ""
           },
           "bgcolor": "white",
           "radialaxis": {
            "gridcolor": "#EBF0F8",
            "linecolor": "#EBF0F8",
            "ticks": ""
           }
          },
          "scene": {
           "xaxis": {
            "backgroundcolor": "white",
            "gridcolor": "#DFE8F3",
            "gridwidth": 2,
            "linecolor": "#EBF0F8",
            "showbackground": true,
            "ticks": "",
            "zerolinecolor": "#EBF0F8"
           },
           "yaxis": {
            "backgroundcolor": "white",
            "gridcolor": "#DFE8F3",
            "gridwidth": 2,
            "linecolor": "#EBF0F8",
            "showbackground": true,
            "ticks": "",
            "zerolinecolor": "#EBF0F8"
           },
           "zaxis": {
            "backgroundcolor": "white",
            "gridcolor": "#DFE8F3",
            "gridwidth": 2,
            "linecolor": "#EBF0F8",
            "showbackground": true,
            "ticks": "",
            "zerolinecolor": "#EBF0F8"
           }
          },
          "shapedefaults": {
           "line": {
            "color": "#2a3f5f"
           }
          },
          "ternary": {
           "aaxis": {
            "gridcolor": "#DFE8F3",
            "linecolor": "#A2B1C6",
            "ticks": ""
           },
           "baxis": {
            "gridcolor": "#DFE8F3",
            "linecolor": "#A2B1C6",
            "ticks": ""
           },
           "bgcolor": "white",
           "caxis": {
            "gridcolor": "#DFE8F3",
            "linecolor": "#A2B1C6",
            "ticks": ""
           }
          },
          "title": {
           "x": 0.05
          },
          "xaxis": {
           "automargin": true,
           "gridcolor": "#EBF0F8",
           "linecolor": "#EBF0F8",
           "ticks": "",
           "title": {
            "standoff": 15
           },
           "zerolinecolor": "#EBF0F8",
           "zerolinewidth": 2
          },
          "yaxis": {
           "automargin": true,
           "gridcolor": "#EBF0F8",
           "linecolor": "#EBF0F8",
           "ticks": "",
           "title": {
            "standoff": 15
           },
           "zerolinecolor": "#EBF0F8",
           "zerolinewidth": 2
          }
         }
        },
        "xaxis": {
         "anchor": "y",
         "domain": [
          0.0,
          0.45
         ]
        },
        "yaxis": {
         "anchor": "x",
         "domain": [
          0.0,
          1.0
         ],
         "range": [
          0,
          100
         ],
         "ticksuffix": "%"
        },
        "xaxis2": {
         "anchor": "y2",
         "domain": [
          0.55,
          1.0
         ]
        },
        "yaxis2": {
         "anchor": "x2",
         "domain": [
          0.0,
          1.0
         ],
         "range": [
          0,
          100
         ],
         "ticksuffix": "%"
        },
        "annotations": [
         {
          "font": {
           "size": 16
          },
          "showarrow": false,
          "text": "Accuracy",
          "x": 0.225,
          "xanchor": "center",
          "xref": "paper",
          "y": 1.0,
          "yanchor": "bottom",
          "yref": "paper"
         },
         {
          "font": {
           "size": 16
          },
          "showarrow": false,
          "text": "F1",
          "x": 0.775,
          "xanchor": "center",
          "xref": "paper",
          "y": 1.0,
          "yanchor": "bottom",
          "yref": "paper"
         },
         {
          "font": {
           "color": "black",
           "size": 12
          },
          "showarrow": false,
          "text": "64.62",
          "x": "Horizontal",
          "xanchor": "center",
          "xref": "x",
          "y": 64.62117004394531,
          "yanchor": "bottom",
          "yref": "y"
         },
         {
          "font": {
           "color": "black",
           "size": 12
          },
          "showarrow": false,
          "text": "58.22",
          "x": "Horizontal",
          "xanchor": "center",
          "xref": "x2",
          "y": 58.21805578776019,
          "yanchor": "bottom",
          "yref": "y2"
         },
         {
          "font": {
           "color": "black",
           "size": 12
          },
          "showarrow": false,
          "text": "69.16",
          "x": "Vertical",
          "xanchor": "center",
          "xref": "x",
          "y": 69.15811920166016,
          "yanchor": "bottom",
          "yref": "y"
         },
         {
          "font": {
           "color": "black",
           "size": 12
          },
          "showarrow": false,
          "text": "61.62",
          "x": "Vertical",
          "xanchor": "center",
          "xref": "x2",
          "y": 61.624300211727856,
          "yanchor": "bottom",
          "yref": "y2"
         },
         {
          "font": {
           "color": "black",
           "size": 12
          },
          "showarrow": false,
          "text": "49.98",
          "x": "Hybrid",
          "xanchor": "center",
          "xref": "x",
          "y": 49.980648040771484,
          "yanchor": "bottom",
          "yref": "y"
         },
         {
          "font": {
           "color": "black",
           "size": 12
          },
          "showarrow": false,
          "text": "47.37",
          "x": "Hybrid",
          "xanchor": "center",
          "xref": "x2",
          "y": 47.37462692135252,
          "yanchor": "bottom",
          "yref": "y2"
         }
        ],
        "title": {
         "text": "FL Methods Performance Comparison (epochs=10)"
        }
       },
       "config": {
        "plotlyServerURL": "https://plot.ly"
       }
      }
     },
     "metadata": {},
     "output_type": "display_data"
    }
   ],
   "execution_count": 29
  },
  {
   "metadata": {
    "ExecuteTime": {
     "end_time": "2025-08-29T09:57:59.025417Z",
     "start_time": "2025-08-29T09:57:58.994219Z"
    }
   },
   "cell_type": "code",
   "source": [
    "fig = make_subplots(\n",
    "    rows=1, cols=3,\n",
    "    subplot_titles=('Training Time', 'Client Count', 'Total Samples')\n",
    ")\n",
    "\n",
    "fig.add_trace(\n",
    "    go.Bar(x=methods, y=train_time, marker_color=colors,\n",
    "           name='Train Time', showlegend=False),\n",
    "    row=1, col=1\n",
    ")\n",
    "fig.add_trace(\n",
    "    go.Bar(x=methods, y=clients, marker_color=colors,\n",
    "           name='Clients', showlegend=False),\n",
    "    row=1, col=2\n",
    ")\n",
    "fig.add_trace(\n",
    "    go.Bar(x=methods, y=samples, marker_color=colors,\n",
    "           name='Samples', showlegend=False),\n",
    "    row=1, col=3\n",
    ")\n",
    "fig.update_layout(\n",
    "    title=f'Other Config Comparison',\n",
    ")\n",
    "fig.update_layout(template='plotly_white')\n",
    "fig.show()"
   ],
   "id": "cbfb5a15b05a85d9",
   "outputs": [
    {
     "data": {
      "application/vnd.plotly.v1+json": {
       "data": [
        {
         "marker": {
          "color": [
           "#F3AA60",
           "#EF6262",
           "#468897"
          ]
         },
         "name": "Train Time",
         "showlegend": false,
         "x": [
          "Horizontal",
          "Vertical",
          "Hybrid"
         ],
         "y": [
          8.022408962249756,
          6.2926599979400635,
          0.8095951080322266
         ],
         "type": "bar",
         "xaxis": "x",
         "yaxis": "y"
        },
        {
         "marker": {
          "color": [
           "#F3AA60",
           "#EF6262",
           "#468897"
          ]
         },
         "name": "Clients",
         "showlegend": false,
         "x": [
          "Horizontal",
          "Vertical",
          "Hybrid"
         ],
         "y": [
          3,
          3,
          3
         ],
         "type": "bar",
         "xaxis": "x2",
         "yaxis": "y2"
        },
        {
         "marker": {
          "color": [
           "#F3AA60",
           "#EF6262",
           "#468897"
          ]
         },
         "name": "Samples",
         "showlegend": false,
         "x": [
          "Horizontal",
          "Vertical",
          "Hybrid"
         ],
         "y": [
          36177,
          108531,
          18087
         ],
         "type": "bar",
         "xaxis": "x3",
         "yaxis": "y3"
        }
       ],
       "layout": {
        "template": {
         "data": {
          "barpolar": [
           {
            "marker": {
             "line": {
              "color": "white",
              "width": 0.5
             },
             "pattern": {
              "fillmode": "overlay",
              "size": 10,
              "solidity": 0.2
             }
            },
            "type": "barpolar"
           }
          ],
          "bar": [
           {
            "error_x": {
             "color": "#2a3f5f"
            },
            "error_y": {
             "color": "#2a3f5f"
            },
            "marker": {
             "line": {
              "color": "white",
              "width": 0.5
             },
             "pattern": {
              "fillmode": "overlay",
              "size": 10,
              "solidity": 0.2
             }
            },
            "type": "bar"
           }
          ],
          "carpet": [
           {
            "aaxis": {
             "endlinecolor": "#2a3f5f",
             "gridcolor": "#C8D4E3",
             "linecolor": "#C8D4E3",
             "minorgridcolor": "#C8D4E3",
             "startlinecolor": "#2a3f5f"
            },
            "baxis": {
             "endlinecolor": "#2a3f5f",
             "gridcolor": "#C8D4E3",
             "linecolor": "#C8D4E3",
             "minorgridcolor": "#C8D4E3",
             "startlinecolor": "#2a3f5f"
            },
            "type": "carpet"
           }
          ],
          "choropleth": [
           {
            "colorbar": {
             "outlinewidth": 0,
             "ticks": ""
            },
            "type": "choropleth"
           }
          ],
          "contourcarpet": [
           {
            "colorbar": {
             "outlinewidth": 0,
             "ticks": ""
            },
            "type": "contourcarpet"
           }
          ],
          "contour": [
           {
            "colorbar": {
             "outlinewidth": 0,
             "ticks": ""
            },
            "colorscale": [
             [
              0.0,
              "#0d0887"
             ],
             [
              0.1111111111111111,
              "#46039f"
             ],
             [
              0.2222222222222222,
              "#7201a8"
             ],
             [
              0.3333333333333333,
              "#9c179e"
             ],
             [
              0.4444444444444444,
              "#bd3786"
             ],
             [
              0.5555555555555556,
              "#d8576b"
             ],
             [
              0.6666666666666666,
              "#ed7953"
             ],
             [
              0.7777777777777778,
              "#fb9f3a"
             ],
             [
              0.8888888888888888,
              "#fdca26"
             ],
             [
              1.0,
              "#f0f921"
             ]
            ],
            "type": "contour"
           }
          ],
          "heatmap": [
           {
            "colorbar": {
             "outlinewidth": 0,
             "ticks": ""
            },
            "colorscale": [
             [
              0.0,
              "#0d0887"
             ],
             [
              0.1111111111111111,
              "#46039f"
             ],
             [
              0.2222222222222222,
              "#7201a8"
             ],
             [
              0.3333333333333333,
              "#9c179e"
             ],
             [
              0.4444444444444444,
              "#bd3786"
             ],
             [
              0.5555555555555556,
              "#d8576b"
             ],
             [
              0.6666666666666666,
              "#ed7953"
             ],
             [
              0.7777777777777778,
              "#fb9f3a"
             ],
             [
              0.8888888888888888,
              "#fdca26"
             ],
             [
              1.0,
              "#f0f921"
             ]
            ],
            "type": "heatmap"
           }
          ],
          "histogram2dcontour": [
           {
            "colorbar": {
             "outlinewidth": 0,
             "ticks": ""
            },
            "colorscale": [
             [
              0.0,
              "#0d0887"
             ],
             [
              0.1111111111111111,
              "#46039f"
             ],
             [
              0.2222222222222222,
              "#7201a8"
             ],
             [
              0.3333333333333333,
              "#9c179e"
             ],
             [
              0.4444444444444444,
              "#bd3786"
             ],
             [
              0.5555555555555556,
              "#d8576b"
             ],
             [
              0.6666666666666666,
              "#ed7953"
             ],
             [
              0.7777777777777778,
              "#fb9f3a"
             ],
             [
              0.8888888888888888,
              "#fdca26"
             ],
             [
              1.0,
              "#f0f921"
             ]
            ],
            "type": "histogram2dcontour"
           }
          ],
          "histogram2d": [
           {
            "colorbar": {
             "outlinewidth": 0,
             "ticks": ""
            },
            "colorscale": [
             [
              0.0,
              "#0d0887"
             ],
             [
              0.1111111111111111,
              "#46039f"
             ],
             [
              0.2222222222222222,
              "#7201a8"
             ],
             [
              0.3333333333333333,
              "#9c179e"
             ],
             [
              0.4444444444444444,
              "#bd3786"
             ],
             [
              0.5555555555555556,
              "#d8576b"
             ],
             [
              0.6666666666666666,
              "#ed7953"
             ],
             [
              0.7777777777777778,
              "#fb9f3a"
             ],
             [
              0.8888888888888888,
              "#fdca26"
             ],
             [
              1.0,
              "#f0f921"
             ]
            ],
            "type": "histogram2d"
           }
          ],
          "histogram": [
           {
            "marker": {
             "pattern": {
              "fillmode": "overlay",
              "size": 10,
              "solidity": 0.2
             }
            },
            "type": "histogram"
           }
          ],
          "mesh3d": [
           {
            "colorbar": {
             "outlinewidth": 0,
             "ticks": ""
            },
            "type": "mesh3d"
           }
          ],
          "parcoords": [
           {
            "line": {
             "colorbar": {
              "outlinewidth": 0,
              "ticks": ""
             }
            },
            "type": "parcoords"
           }
          ],
          "pie": [
           {
            "automargin": true,
            "type": "pie"
           }
          ],
          "scatter3d": [
           {
            "line": {
             "colorbar": {
              "outlinewidth": 0,
              "ticks": ""
             }
            },
            "marker": {
             "colorbar": {
              "outlinewidth": 0,
              "ticks": ""
             }
            },
            "type": "scatter3d"
           }
          ],
          "scattercarpet": [
           {
            "marker": {
             "colorbar": {
              "outlinewidth": 0,
              "ticks": ""
             }
            },
            "type": "scattercarpet"
           }
          ],
          "scattergeo": [
           {
            "marker": {
             "colorbar": {
              "outlinewidth": 0,
              "ticks": ""
             }
            },
            "type": "scattergeo"
           }
          ],
          "scattergl": [
           {
            "marker": {
             "colorbar": {
              "outlinewidth": 0,
              "ticks": ""
             }
            },
            "type": "scattergl"
           }
          ],
          "scattermapbox": [
           {
            "marker": {
             "colorbar": {
              "outlinewidth": 0,
              "ticks": ""
             }
            },
            "type": "scattermapbox"
           }
          ],
          "scattermap": [
           {
            "marker": {
             "colorbar": {
              "outlinewidth": 0,
              "ticks": ""
             }
            },
            "type": "scattermap"
           }
          ],
          "scatterpolargl": [
           {
            "marker": {
             "colorbar": {
              "outlinewidth": 0,
              "ticks": ""
             }
            },
            "type": "scatterpolargl"
           }
          ],
          "scatterpolar": [
           {
            "marker": {
             "colorbar": {
              "outlinewidth": 0,
              "ticks": ""
             }
            },
            "type": "scatterpolar"
           }
          ],
          "scatter": [
           {
            "fillpattern": {
             "fillmode": "overlay",
             "size": 10,
             "solidity": 0.2
            },
            "type": "scatter"
           }
          ],
          "scatterternary": [
           {
            "marker": {
             "colorbar": {
              "outlinewidth": 0,
              "ticks": ""
             }
            },
            "type": "scatterternary"
           }
          ],
          "surface": [
           {
            "colorbar": {
             "outlinewidth": 0,
             "ticks": ""
            },
            "colorscale": [
             [
              0.0,
              "#0d0887"
             ],
             [
              0.1111111111111111,
              "#46039f"
             ],
             [
              0.2222222222222222,
              "#7201a8"
             ],
             [
              0.3333333333333333,
              "#9c179e"
             ],
             [
              0.4444444444444444,
              "#bd3786"
             ],
             [
              0.5555555555555556,
              "#d8576b"
             ],
             [
              0.6666666666666666,
              "#ed7953"
             ],
             [
              0.7777777777777778,
              "#fb9f3a"
             ],
             [
              0.8888888888888888,
              "#fdca26"
             ],
             [
              1.0,
              "#f0f921"
             ]
            ],
            "type": "surface"
           }
          ],
          "table": [
           {
            "cells": {
             "fill": {
              "color": "#EBF0F8"
             },
             "line": {
              "color": "white"
             }
            },
            "header": {
             "fill": {
              "color": "#C8D4E3"
             },
             "line": {
              "color": "white"
             }
            },
            "type": "table"
           }
          ]
         },
         "layout": {
          "annotationdefaults": {
           "arrowcolor": "#2a3f5f",
           "arrowhead": 0,
           "arrowwidth": 1
          },
          "autotypenumbers": "strict",
          "coloraxis": {
           "colorbar": {
            "outlinewidth": 0,
            "ticks": ""
           }
          },
          "colorscale": {
           "diverging": [
            [
             0,
             "#8e0152"
            ],
            [
             0.1,
             "#c51b7d"
            ],
            [
             0.2,
             "#de77ae"
            ],
            [
             0.3,
             "#f1b6da"
            ],
            [
             0.4,
             "#fde0ef"
            ],
            [
             0.5,
             "#f7f7f7"
            ],
            [
             0.6,
             "#e6f5d0"
            ],
            [
             0.7,
             "#b8e186"
            ],
            [
             0.8,
             "#7fbc41"
            ],
            [
             0.9,
             "#4d9221"
            ],
            [
             1,
             "#276419"
            ]
           ],
           "sequential": [
            [
             0.0,
             "#0d0887"
            ],
            [
             0.1111111111111111,
             "#46039f"
            ],
            [
             0.2222222222222222,
             "#7201a8"
            ],
            [
             0.3333333333333333,
             "#9c179e"
            ],
            [
             0.4444444444444444,
             "#bd3786"
            ],
            [
             0.5555555555555556,
             "#d8576b"
            ],
            [
             0.6666666666666666,
             "#ed7953"
            ],
            [
             0.7777777777777778,
             "#fb9f3a"
            ],
            [
             0.8888888888888888,
             "#fdca26"
            ],
            [
             1.0,
             "#f0f921"
            ]
           ],
           "sequentialminus": [
            [
             0.0,
             "#0d0887"
            ],
            [
             0.1111111111111111,
             "#46039f"
            ],
            [
             0.2222222222222222,
             "#7201a8"
            ],
            [
             0.3333333333333333,
             "#9c179e"
            ],
            [
             0.4444444444444444,
             "#bd3786"
            ],
            [
             0.5555555555555556,
             "#d8576b"
            ],
            [
             0.6666666666666666,
             "#ed7953"
            ],
            [
             0.7777777777777778,
             "#fb9f3a"
            ],
            [
             0.8888888888888888,
             "#fdca26"
            ],
            [
             1.0,
             "#f0f921"
            ]
           ]
          },
          "colorway": [
           "#636efa",
           "#EF553B",
           "#00cc96",
           "#ab63fa",
           "#FFA15A",
           "#19d3f3",
           "#FF6692",
           "#B6E880",
           "#FF97FF",
           "#FECB52"
          ],
          "font": {
           "color": "#2a3f5f"
          },
          "geo": {
           "bgcolor": "white",
           "lakecolor": "white",
           "landcolor": "white",
           "showlakes": true,
           "showland": true,
           "subunitcolor": "#C8D4E3"
          },
          "hoverlabel": {
           "align": "left"
          },
          "hovermode": "closest",
          "mapbox": {
           "style": "light"
          },
          "paper_bgcolor": "white",
          "plot_bgcolor": "white",
          "polar": {
           "angularaxis": {
            "gridcolor": "#EBF0F8",
            "linecolor": "#EBF0F8",
            "ticks": ""
           },
           "bgcolor": "white",
           "radialaxis": {
            "gridcolor": "#EBF0F8",
            "linecolor": "#EBF0F8",
            "ticks": ""
           }
          },
          "scene": {
           "xaxis": {
            "backgroundcolor": "white",
            "gridcolor": "#DFE8F3",
            "gridwidth": 2,
            "linecolor": "#EBF0F8",
            "showbackground": true,
            "ticks": "",
            "zerolinecolor": "#EBF0F8"
           },
           "yaxis": {
            "backgroundcolor": "white",
            "gridcolor": "#DFE8F3",
            "gridwidth": 2,
            "linecolor": "#EBF0F8",
            "showbackground": true,
            "ticks": "",
            "zerolinecolor": "#EBF0F8"
           },
           "zaxis": {
            "backgroundcolor": "white",
            "gridcolor": "#DFE8F3",
            "gridwidth": 2,
            "linecolor": "#EBF0F8",
            "showbackground": true,
            "ticks": "",
            "zerolinecolor": "#EBF0F8"
           }
          },
          "shapedefaults": {
           "line": {
            "color": "#2a3f5f"
           }
          },
          "ternary": {
           "aaxis": {
            "gridcolor": "#DFE8F3",
            "linecolor": "#A2B1C6",
            "ticks": ""
           },
           "baxis": {
            "gridcolor": "#DFE8F3",
            "linecolor": "#A2B1C6",
            "ticks": ""
           },
           "bgcolor": "white",
           "caxis": {
            "gridcolor": "#DFE8F3",
            "linecolor": "#A2B1C6",
            "ticks": ""
           }
          },
          "title": {
           "x": 0.05
          },
          "xaxis": {
           "automargin": true,
           "gridcolor": "#EBF0F8",
           "linecolor": "#EBF0F8",
           "ticks": "",
           "title": {
            "standoff": 15
           },
           "zerolinecolor": "#EBF0F8",
           "zerolinewidth": 2
          },
          "yaxis": {
           "automargin": true,
           "gridcolor": "#EBF0F8",
           "linecolor": "#EBF0F8",
           "ticks": "",
           "title": {
            "standoff": 15
           },
           "zerolinecolor": "#EBF0F8",
           "zerolinewidth": 2
          }
         }
        },
        "xaxis": {
         "anchor": "y",
         "domain": [
          0.0,
          0.2888888888888889
         ]
        },
        "yaxis": {
         "anchor": "x",
         "domain": [
          0.0,
          1.0
         ]
        },
        "xaxis2": {
         "anchor": "y2",
         "domain": [
          0.35555555555555557,
          0.6444444444444445
         ]
        },
        "yaxis2": {
         "anchor": "x2",
         "domain": [
          0.0,
          1.0
         ]
        },
        "xaxis3": {
         "anchor": "y3",
         "domain": [
          0.7111111111111111,
          1.0
         ]
        },
        "yaxis3": {
         "anchor": "x3",
         "domain": [
          0.0,
          1.0
         ]
        },
        "annotations": [
         {
          "font": {
           "size": 16
          },
          "showarrow": false,
          "text": "Training Time",
          "x": 0.14444444444444446,
          "xanchor": "center",
          "xref": "paper",
          "y": 1.0,
          "yanchor": "bottom",
          "yref": "paper"
         },
         {
          "font": {
           "size": 16
          },
          "showarrow": false,
          "text": "Client Count",
          "x": 0.5,
          "xanchor": "center",
          "xref": "paper",
          "y": 1.0,
          "yanchor": "bottom",
          "yref": "paper"
         },
         {
          "font": {
           "size": 16
          },
          "showarrow": false,
          "text": "Total Samples",
          "x": 0.8555555555555556,
          "xanchor": "center",
          "xref": "paper",
          "y": 1.0,
          "yanchor": "bottom",
          "yref": "paper"
         }
        ],
        "title": {
         "text": "Other Config Comparison"
        }
       },
       "config": {
        "plotlyServerURL": "https://plot.ly"
       }
      }
     },
     "metadata": {},
     "output_type": "display_data"
    }
   ],
   "execution_count": 34
  },
  {
   "metadata": {},
   "cell_type": "code",
   "outputs": [],
   "execution_count": null,
   "source": "",
   "id": "2d8f22fc66e54cd6"
  }
 ],
 "metadata": {
  "kernelspec": {
   "display_name": "Python 3",
   "language": "python",
   "name": "python3"
  },
  "language_info": {
   "codemirror_mode": {
    "name": "ipython",
    "version": 2
   },
   "file_extension": ".py",
   "mimetype": "text/x-python",
   "name": "python",
   "nbconvert_exporter": "python",
   "pygments_lexer": "ipython2",
   "version": "2.7.6"
  }
 },
 "nbformat": 4,
 "nbformat_minor": 5
}
