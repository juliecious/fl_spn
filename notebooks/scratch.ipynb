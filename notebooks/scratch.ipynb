{
 "cells": [
  {
   "cell_type": "code",
   "id": "initial_id",
   "metadata": {
    "collapsed": true,
    "ExecuteTime": {
     "end_time": "2025-08-28T11:36:21.293714Z",
     "start_time": "2025-08-28T11:36:21.291415Z"
    }
   },
   "source": [
    "import torch\n",
    "import pandas as pd\n",
    "import numpy as np\n",
    "from sklearn.datasets import fetch_openml\n",
    "from sklearn.model_selection import train_test_split\n",
    "from sklearn.preprocessing import LabelEncoder, StandardScaler\n",
    "from sklearn.compose import ColumnTransformer\n",
    "from sklearn.preprocessing import OneHotEncoder\n",
    "import matplotlib.pyplot as plt\n",
    "import seaborn as sns\n",
    "\n",
    "from simple_einet.einet import Einet, EinetConfig\n",
    "from simple_einet.layers.distributions.piecewise_linear import PiecewiseLinear\n",
    "from simple_einet.dist import DataType, Domain"
   ],
   "outputs": [],
   "execution_count": 21
  },
  {
   "metadata": {},
   "cell_type": "markdown",
   "source": [
    "### Import, Preprocess and Split the Dataset \n",
    "\n",
    "Traditional non-federated learning mode"
   ],
   "id": "32fde84733b0454"
  },
  {
   "metadata": {
    "ExecuteTime": {
     "end_time": "2025-08-28T13:34:44.667443Z",
     "start_time": "2025-08-28T13:34:44.582326Z"
    }
   },
   "cell_type": "code",
   "source": [
    "data = fetch_openml('adult', version=2, as_frame=True)\n",
    "df = data.frame\n",
    "\n",
    "df = df.replace('?', np.nan)\n",
    "df_clean = df.dropna()\n",
    "X = df_clean.drop('class', axis=1)\n",
    "y = df_clean['class']\n"
   ],
   "id": "85c54b159b178d05",
   "outputs": [],
   "execution_count": 39
  },
  {
   "metadata": {
    "ExecuteTime": {
     "end_time": "2025-08-28T13:34:46.177918Z",
     "start_time": "2025-08-28T13:34:46.174531Z"
    }
   },
   "cell_type": "code",
   "source": [
    "numeric_features = X.select_dtypes(include=['int64', 'float64']).columns.tolist()\n",
    "categorical_features = X.select_dtypes(include=['category', 'object']).columns.tolist()\n",
    "\n",
    "print(f\"Numerical feat: ({len(numeric_features)}): {numeric_features}\")\n",
    "print(f\"Categorical feat: ({len(categorical_features)}): {categorical_features}\")"
   ],
   "id": "be3d3b302abe2e80",
   "outputs": [
    {
     "name": "stdout",
     "output_type": "stream",
     "text": [
      "Numerical feat: (6): ['age', 'fnlwgt', 'education-num', 'capital-gain', 'capital-loss', 'hours-per-week']\n",
      "Categorical feat: (8): ['workclass', 'education', 'marital-status', 'occupation', 'relationship', 'race', 'sex', 'native-country']\n"
     ]
    }
   ],
   "execution_count": 40
  },
  {
   "metadata": {
    "ExecuteTime": {
     "end_time": "2025-08-28T11:35:18.748634Z",
     "start_time": "2025-08-28T11:35:18.661004Z"
    }
   },
   "cell_type": "code",
   "source": [
    "preprocessor = ColumnTransformer(\n",
    "    transformers=[\n",
    "        ('num', StandardScaler(), numeric_features),\n",
    "        ('cat', LabelEncoder(), categorical_features)\n",
    "    ]\n",
    ")\n",
    "X_numeric = StandardScaler().fit_transform(X[numeric_features])\n",
    "X_numeric_df = pd.DataFrame(X_numeric, columns=numeric_features, index=X.index)\n",
    "\n",
    "X_categorical_encoded = pd.DataFrame(index=X.index)\n",
    "for col in categorical_features:\n",
    "    le = LabelEncoder()\n",
    "    X_categorical_encoded[col] = le.fit_transform(X[col].astype(str))\n",
    "    \n",
    "X_processed = pd.concat([X_numeric_df, X_categorical_encoded], axis=1)\n",
    "y_encoded = LabelEncoder().fit_transform(y)\n",
    "\n",
    "print(f\"X shape after preprocessed: {X_processed.shape}\")\n",
    "print(f\"Target unique: {np.unique(y_encoded)}\")"
   ],
   "id": "f743203e4dff30ad",
   "outputs": [
    {
     "name": "stdout",
     "output_type": "stream",
     "text": [
      "X shape after preprocessed: (45222, 14)\n",
      "Target unique: [0 1]\n"
     ]
    }
   ],
   "execution_count": 19
  },
  {
   "metadata": {
    "ExecuteTime": {
     "end_time": "2025-08-28T11:35:42.249416Z",
     "start_time": "2025-08-28T11:35:42.228661Z"
    }
   },
   "cell_type": "code",
   "source": [
    "X_train, X_test, y_train, y_test = train_test_split(\n",
    "    X_processed.values, y_encoded, test_size=0.33, random_state=42, stratify=y_encoded\n",
    ")\n",
    "\n",
    "X_train_tensor = torch.tensor(X_train).float()\n",
    "X_test_tensor = torch.tensor(X_test).float()\n",
    "y_train_tensor = torch.tensor(y_train).long()\n",
    "y_test_tensor = torch.tensor(y_test).long()\n",
    "\n",
    "print(f\"X Train shape: {X_train_tensor.shape}\")\n",
    "print(f\"X Test shape: {X_test_tensor.shape}\")"
   ],
   "id": "5dcbb518a0c83617",
   "outputs": [
    {
     "name": "stdout",
     "output_type": "stream",
     "text": [
      "X Train shape: torch.Size([30298, 14])\n",
      "X Test shape: torch.Size([14924, 14])\n"
     ]
    }
   ],
   "execution_count": 20
  },
  {
   "metadata": {},
   "cell_type": "markdown",
   "source": "### Construct the domain used for Einet with Piecewise Distribution",
   "id": "dc321f3d87cb6ca8"
  },
  {
   "metadata": {
    "ExecuteTime": {
     "end_time": "2025-08-28T11:37:24.022536Z",
     "start_time": "2025-08-28T11:37:24.018251Z"
    }
   },
   "cell_type": "code",
   "source": [
    "domains = []\n",
    "all_features = numeric_features + categorical_features\n",
    "\n",
    "for i, feature in enumerate(all_features):\n",
    "    if feature in numeric_features:\n",
    "        # 數值型特徵使用連續域\n",
    "        domains.append(Domain(data_type=DataType.CONTINUOUS))\n",
    "    else:\n",
    "        # 類別型特徵使用離散域\n",
    "        # 獲取唯一值作為離散值域\n",
    "        unique_values = sorted(X_processed[feature].unique())\n",
    "        domains.append(Domain(data_type=DataType.DISCRETE, values=unique_values))\n",
    "\n",
    "print(f\"Defined {len(domains)} feature domains.\")"
   ],
   "id": "3410b08c067a53d0",
   "outputs": [
    {
     "name": "stdout",
     "output_type": "stream",
     "text": [
      "Defined 14 feature domains.\n"
     ]
    }
   ],
   "execution_count": 23
  },
  {
   "metadata": {},
   "cell_type": "markdown",
   "source": "### Configure Einet",
   "id": "cf6c7182cb8ce924"
  },
  {
   "metadata": {
    "ExecuteTime": {
     "end_time": "2025-08-28T11:44:38.442259Z",
     "start_time": "2025-08-28T11:44:38.437176Z"
    }
   },
   "cell_type": "code",
   "source": [
    "# 重塑訓練資料為 EiNet 所需的格式 [batch_size, channels, features]\n",
    "# 這裡 channels=1，因為我們沒有多通道資料\n",
    "X_train_reshaped = X_train_tensor.unsqueeze(1)  # [batch_size, 1, features]\n",
    "\n",
    "# 配置 EiNet 使用 PiecewiseLinear 分布\n",
    "config = EinetConfig(\n",
    "    num_features=X_train_tensor.shape[1],  # 特徵數量\n",
    "    depth=2,  # 網路深度\n",
    "    num_sums=10,  # sum nodes 數量\n",
    "    num_leaves=10,  # leaf nodes 數量  \n",
    "    num_repetitions=5,  # 重複數量\n",
    "    num_classes=2,  # 分類類別數（<=50K, >50K）\n",
    "    leaf_type=PiecewiseLinear,  # 使用 PiecewiseLinear 分布\n",
    "    leaf_kwargs={'alpha': 0.1},  # Laplace 平滑參數\n",
    "    dropout=0.0\n",
    ")\n",
    "\n",
    "# 初始化模型\n",
    "model = Einet(config)\n",
    "print(f\"模型參數數量: {sum(p.numel() for p in model.parameters())}\")"
   ],
   "id": "ab20438e31edb91f",
   "outputs": [
    {
     "name": "stdout",
     "output_type": "stream",
     "text": [
      "模型參數數量: 1119\n"
     ]
    }
   ],
   "execution_count": 32
  },
  {
   "metadata": {
    "ExecuteTime": {
     "end_time": "2025-08-28T11:44:50.238767Z",
     "start_time": "2025-08-28T11:44:49.631879Z"
    }
   },
   "cell_type": "code",
   "source": "model.leaf.base_leaf.initialize(X_train_reshaped, domains)",
   "id": "382ca27e7db14426",
   "outputs": [
    {
     "name": "stderr",
     "output_type": "stream",
     "text": [
      "Initializing PiecewiseLinear Leaf Layer: 100%|██████████| 5/5 [00:00<00:00,  8.41it/s]\n"
     ]
    }
   ],
   "execution_count": 33
  },
  {
   "metadata": {},
   "cell_type": "markdown",
   "source": "### Train the model",
   "id": "27a7b48db94d88f1"
  },
  {
   "metadata": {
    "ExecuteTime": {
     "end_time": "2025-08-28T19:04:00.385991Z",
     "start_time": "2025-08-28T19:03:55.902262Z"
    }
   },
   "cell_type": "code",
   "source": [
    "optimizer = torch.optim.Adam(model.parameters(), lr=0.01)\n",
    "cross_entropy = torch.nn.CrossEntropyLoss()\n",
    "\n",
    "def accuracy(model, X, y):\n",
    "    with torch.no_grad():\n",
    "        outputs = model(X)\n",
    "        predictions = outputs.argmax(-1) \n",
    "        correct = (predictions == y).sum()\n",
    "        total = y.shape[0]\n",
    "        return 100. * correct / total\n",
    "\n",
    "\n",
    "def f1(model, X, y, num_classes=None):\n",
    "    with torch.no_grad():\n",
    "        outputs = model(X)\n",
    "        predictions = outputs.argmax(-1)\n",
    "        # 假設 y 和 predictions 為 1D tensor\n",
    "        if num_classes is None:\n",
    "            num_classes = int(torch.max(y).item()) + 1\n",
    "        f1_scores = []\n",
    "        for c in range(num_classes):\n",
    "            tp = ((predictions == c) & (y == c)).sum().item()\n",
    "            fp = ((predictions == c) & (y != c)).sum().item()\n",
    "            fn = ((predictions != c) & (y == c)).sum().item()\n",
    "            if tp + fp + fn == 0:\n",
    "                f1 = 0.0  # 防止0除\n",
    "            else:\n",
    "                precision = tp / (tp + fp) if (tp + fp) != 0 else 0.0\n",
    "                recall = tp / (tp + fn) if (tp + fn) != 0 else 0.0\n",
    "                if precision + recall == 0:\n",
    "                    f1 = 0.0\n",
    "                else:\n",
    "                    f1 = 2 * (precision * recall) / (precision + recall)\n",
    "            f1_scores.append(f1)\n",
    "        # 取 macro-average F1\n",
    "        return 100. * sum(f1_scores) / len(f1_scores)\n",
    "\n",
    "\n",
    "X_test_reshaped = X_test_tensor.unsqueeze(1)\n",
    "\n",
    "num_epochs = 10\n",
    "print(\"Start training...\")\n",
    "for epoch in range(num_epochs):\n",
    "    optimizer.zero_grad()\n",
    "    log_likelihoods = model(X_train_reshaped)\n",
    "    loss = cross_entropy(log_likelihoods, y_train_tensor)\n",
    "    loss.backward()\n",
    "    optimizer.step()\n",
    "    \n",
    "    if (epoch + 1) % 5 == 0:\n",
    "        acc_train = accuracy(model, X_train_reshaped, y_train_tensor)\n",
    "        acc_test = accuracy(model, X_test_reshaped, y_test_tensor)\n",
    "        print(f\"Epoch: {epoch+1:2d}, Loss: {loss.item():.4f}, \"\n",
    "              f\"Train Acc: {acc_train:.2f}%, Test Acc: {acc_test:.2f}%\")\n",
    "\n",
    "print(\"Finished training！\")"
   ],
   "id": "8f2638bd26999126",
   "outputs": [
    {
     "name": "stdout",
     "output_type": "stream",
     "text": [
      "Start training...\n",
      "Epoch:  5, Loss: 0.4959, Train Acc: 64.07%, Test Acc: 62.89%\n",
      "Epoch: 10, Loss: 0.4865, Train Acc: 64.86%, Test Acc: 64.05%\n",
      "Finished training！\n"
     ]
    }
   ],
   "execution_count": 194
  },
  {
   "metadata": {},
   "cell_type": "markdown",
   "source": [
    "### Going Federated by constructing a Data Partitioner for \n",
    "- Horizontal \n",
    "- Vertical\n",
    "- Hybrid "
   ],
   "id": "6cfaacb3075bcab7"
  },
  {
   "metadata": {
    "ExecuteTime": {
     "end_time": "2025-08-28T13:33:55.616795Z",
     "start_time": "2025-08-28T13:33:55.612297Z"
    }
   },
   "cell_type": "code",
   "source": [
    "import random\n",
    "from typing import Dict, List"
   ],
   "id": "ef09254762fcf4b",
   "outputs": [],
   "execution_count": 36
  },
  {
   "metadata": {
    "ExecuteTime": {
     "end_time": "2025-08-28T15:11:22.506041Z",
     "start_time": "2025-08-28T15:11:22.485120Z"
    }
   },
   "cell_type": "code",
   "source": [
    "# 健壯版聯邦學習資料分割器（與之前相同）\n",
    "class FederatedDataPartitionerRobust:\n",
    "    \"\"\"健壯版聯邦學習資料分割器\"\"\"\n",
    "    \n",
    "    def __init__(self, X, y, feature_names, numeric_features, categorical_features):\n",
    "        self.X = X\n",
    "        self.y = y\n",
    "        self.feature_names = feature_names\n",
    "        self.numeric_features = numeric_features\n",
    "        self.categorical_features = categorical_features\n",
    "        \n",
    "    def horizontal_partition(self, num_clients: int = 3, random_state: int = 42) -> Dict:\n",
    "        \"\"\"水平分割：相同特徵，不同樣本\"\"\"\n",
    "        print(f\"🔄 執行水平分割，分成 {num_clients} 個客戶端...\")\n",
    "        \n",
    "        np.random.seed(random_state)\n",
    "        n_samples = len(self.X)\n",
    "        indices = np.arange(n_samples)\n",
    "        np.random.shuffle(indices)\n",
    "        \n",
    "        clients = {}\n",
    "        samples_per_client = n_samples // num_clients\n",
    "        \n",
    "        for i in range(num_clients):\n",
    "            start_idx = i * samples_per_client\n",
    "            if i == num_clients - 1:\n",
    "                end_idx = n_samples\n",
    "            else:\n",
    "                end_idx = (i + 1) * samples_per_client\n",
    "                \n",
    "            client_indices = indices[start_idx:end_idx]\n",
    "            \n",
    "            clients[f'client_{i}'] = {\n",
    "                'X': self.X[client_indices],\n",
    "                'y': self.y[client_indices],\n",
    "                'features': self.feature_names,\n",
    "                'numeric_features': self.numeric_features,\n",
    "                'categorical_features': self.categorical_features,\n",
    "                'n_samples': len(client_indices),\n",
    "                'n_features': len(self.feature_names),\n",
    "                'sample_indices': client_indices,\n",
    "                'feature_indices': list(range(len(self.feature_names))),\n",
    "                'feature_overlap': self.feature_names  # 完全重疊\n",
    "            }\n",
    "            \n",
    "            print(f\"  客戶端 {i}: {len(client_indices)} 樣本, {len(self.feature_names)} 特徵\")\n",
    "            \n",
    "        return {\n",
    "            'type': 'horizontal',\n",
    "            'clients': clients,\n",
    "            'total_samples': n_samples,\n",
    "            'total_features': len(self.feature_names)\n",
    "        }\n",
    "    \n",
    "    def vertical_partition(self, num_clients: int = 3, random_state: int = 42) -> Dict:\n",
    "        \"\"\"垂直分割：相同樣本，不同特徵\"\"\"\n",
    "        print(f\"🔄 執行垂直分割，分成 {num_clients} 個客戶端...\")\n",
    "        \n",
    "        random.seed(random_state)\n",
    "        all_features = self.feature_names.copy()\n",
    "        random.shuffle(all_features)\n",
    "        \n",
    "        features_per_client = len(all_features) // num_clients\n",
    "        clients = {}\n",
    "        \n",
    "        for i in range(num_clients):\n",
    "            start_idx = i * features_per_client\n",
    "            if i == num_clients - 1:\n",
    "                end_idx = len(all_features)\n",
    "            else:\n",
    "                end_idx = (i + 1) * features_per_client\n",
    "                \n",
    "            client_features = all_features[start_idx:end_idx]\n",
    "            client_numeric = [f for f in client_features if f in self.numeric_features]\n",
    "            client_categorical = [f for f in client_features if f in self.categorical_features]\n",
    "            \n",
    "            feature_indices = [self.feature_names.index(f) for f in client_features]\n",
    "            \n",
    "            clients[f'client_{i}'] = {\n",
    "                'X': self.X[:, feature_indices],\n",
    "                'y': self.y,\n",
    "                'features': client_features,\n",
    "                'numeric_features': client_numeric,\n",
    "                'categorical_features': client_categorical,\n",
    "                'n_samples': len(self.X),\n",
    "                'n_features': len(client_features),\n",
    "                'feature_indices': feature_indices,\n",
    "                'sample_indices': list(range(len(self.X))),\n",
    "                'feature_overlap': []  # 垂直分割無特徵重疊\n",
    "            }\n",
    "            \n",
    "            print(f\"  客戶端 {i}: {len(self.X)} 樣本, {len(client_features)} 特徵\")\n",
    "            \n",
    "        return {\n",
    "            'type': 'vertical', \n",
    "            'clients': clients,\n",
    "            'total_samples': len(self.X),\n",
    "            'total_features': len(self.feature_names)\n",
    "        }\n",
    "    \n",
    "    def hybrid_partition(self, num_clients: int = 4, \n",
    "                        sample_overlap_ratio: float = 0.3,\n",
    "                        feature_overlap_ratio: float = 0.2,\n",
    "                        random_state: int = 42) -> Dict:\n",
    "        \"\"\"健壯版混合分割：正確實現樣本和特徵重疊\"\"\"\n",
    "        print(f\"🔄 執行健壯版混合分割，分成 {num_clients} 個客戶端...\")\n",
    "        print(f\"  樣本重疊比例: {sample_overlap_ratio:.1%}\")\n",
    "        print(f\"  特徵重疊比例: {feature_overlap_ratio:.1%}\")\n",
    "        \n",
    "        np.random.seed(random_state)\n",
    "        random.seed(random_state)\n",
    "        \n",
    "        n_samples = len(self.X)\n",
    "        n_features = len(self.feature_names)\n",
    "        \n",
    "        # 樣本分配策略\n",
    "        base_samples_per_client = max(1, int(n_samples * 0.5 / num_clients))\n",
    "        overlap_sample_count = int(n_samples * sample_overlap_ratio)\n",
    "        all_sample_indices = np.arange(n_samples, dtype=int)\n",
    "        np.random.shuffle(all_sample_indices)\n",
    "        \n",
    "        base_samples_end = min(base_samples_per_client * num_clients, n_samples)\n",
    "        base_sample_indices = all_sample_indices[:base_samples_end]\n",
    "        \n",
    "        if overlap_sample_count > 0 and base_samples_end < n_samples:\n",
    "            remaining_samples = all_sample_indices[base_samples_end:]\n",
    "            overlap_sample_indices = remaining_samples[:min(overlap_sample_count, len(remaining_samples))]\n",
    "        else:\n",
    "            overlap_sample_indices = np.array([], dtype=int)\n",
    "        \n",
    "        # 特徵分配策略\n",
    "        base_features_per_client = max(1, int(n_features * 0.6 / num_clients))\n",
    "        overlap_feature_count = int(n_features * feature_overlap_ratio)\n",
    "        all_feature_indices = np.arange(n_features, dtype=int)\n",
    "        np.random.shuffle(all_feature_indices)\n",
    "        \n",
    "        base_features_end = min(base_features_per_client * num_clients, n_features)\n",
    "        base_feature_indices = all_feature_indices[:base_features_end]\n",
    "        \n",
    "        if overlap_feature_count > 0 and base_features_end < n_features:\n",
    "            remaining_features = all_feature_indices[base_features_end:]\n",
    "            overlap_feature_indices = remaining_features[:min(overlap_feature_count, len(remaining_features))]\n",
    "        else:\n",
    "            overlap_feature_indices = np.array([], dtype=int)\n",
    "        \n",
    "        print(f\"  基礎樣本: {len(base_sample_indices)} 個，重疊樣本池: {len(overlap_sample_indices)} 個\")\n",
    "        print(f\"  基礎特徵: {len(base_feature_indices)} 個，重疊特徵池: {len(overlap_feature_indices)} 個\")\n",
    "        \n",
    "        # 為每個客戶端分配資料\n",
    "        clients = {}\n",
    "        \n",
    "        for i in range(num_clients):\n",
    "            # 樣本分配\n",
    "            client_base_start = i * base_samples_per_client\n",
    "            client_base_end = min((i + 1) * base_samples_per_client, len(base_sample_indices))\n",
    "            client_base_samples = base_sample_indices[client_base_start:client_base_end]\n",
    "            \n",
    "            if len(overlap_sample_indices) > 0:\n",
    "                overlap_sample_size = min(len(overlap_sample_indices), len(client_base_samples) // 2)\n",
    "                if overlap_sample_size > 0:\n",
    "                    client_overlap_samples = np.random.choice(\n",
    "                        overlap_sample_indices, size=overlap_sample_size, replace=False\n",
    "                    )\n",
    "                else:\n",
    "                    client_overlap_samples = np.array([], dtype=int)\n",
    "            else:\n",
    "                client_overlap_samples = np.array([], dtype=int)\n",
    "            \n",
    "            if len(client_overlap_samples) > 0:\n",
    "                client_sample_indices = np.concatenate([client_base_samples, client_overlap_samples])\n",
    "            else:\n",
    "                client_sample_indices = client_base_samples.copy()\n",
    "            client_sample_indices = np.unique(client_sample_indices)\n",
    "            \n",
    "            # 特徵分配\n",
    "            client_base_feat_start = i * base_features_per_client\n",
    "            client_base_feat_end = min((i + 1) * base_features_per_client, len(base_feature_indices))\n",
    "            client_base_features = base_feature_indices[client_base_feat_start:client_base_feat_end]\n",
    "            \n",
    "            if len(overlap_feature_indices) > 0:\n",
    "                guaranteed_overlap_size = max(1, len(overlap_feature_indices) // 2)\n",
    "                guaranteed_overlap_features = overlap_feature_indices[:guaranteed_overlap_size]\n",
    "                client_overlap_features = guaranteed_overlap_features\n",
    "            else:\n",
    "                client_overlap_features = np.array([], dtype=int)\n",
    "            \n",
    "            if len(client_overlap_features) > 0:\n",
    "                client_feature_indices = np.concatenate([client_base_features, client_overlap_features])\n",
    "            else:\n",
    "                client_feature_indices = client_base_features.copy()\n",
    "            client_feature_indices = np.unique(client_feature_indices.astype(int))\n",
    "            \n",
    "            # 確保至少有一個特徵\n",
    "            if len(client_feature_indices) == 0:\n",
    "                client_feature_indices = np.array([0], dtype=int)\n",
    "            \n",
    "            # 獲取特徵名稱\n",
    "            client_features = [self.feature_names[idx] for idx in client_feature_indices]\n",
    "            client_numeric = [f for f in client_features if f in self.numeric_features]\n",
    "            client_categorical = [f for f in client_features if f in self.categorical_features]\n",
    "            \n",
    "            # 計算重疊特徵\n",
    "            overlap_features_names = []\n",
    "            if len(client_overlap_features) > 0:\n",
    "                overlap_features_names = [self.feature_names[idx] for idx in client_overlap_features]\n",
    "            \n",
    "            clients[f'client_{i}'] = {\n",
    "                'X': self.X[np.ix_(client_sample_indices, client_feature_indices)],\n",
    "                'y': self.y[client_sample_indices],\n",
    "                'features': client_features,\n",
    "                'numeric_features': client_numeric,\n",
    "                'categorical_features': client_categorical,\n",
    "                'n_samples': len(client_sample_indices),\n",
    "                'n_features': len(client_features),\n",
    "                'feature_indices': client_feature_indices,\n",
    "                'sample_indices': client_sample_indices,\n",
    "                'base_sample_count': len(client_base_samples),\n",
    "                'overlap_sample_count': len(client_overlap_samples),\n",
    "                'base_feature_count': len(client_base_features),\n",
    "                'overlap_feature_count': len(client_overlap_features),\n",
    "                'feature_overlap': overlap_features_names\n",
    "            }\n",
    "            \n",
    "            print(f\"  客戶端 {i}: {len(client_sample_indices)} 樣本 × {len(client_features)} 特徵\")\n",
    "        \n",
    "        return {\n",
    "            'type': 'hybrid_robust',\n",
    "            'clients': clients,\n",
    "            'total_samples': n_samples,\n",
    "            'total_features': n_features,\n",
    "            'sample_overlap_ratio': sample_overlap_ratio,\n",
    "            'feature_overlap_ratio': feature_overlap_ratio\n",
    "        }\n"
   ],
   "id": "d4de123a4fe1bd89",
   "outputs": [],
   "execution_count": 84
  },
  {
   "metadata": {
    "ExecuteTime": {
     "end_time": "2025-08-28T19:14:26.446939Z",
     "start_time": "2025-08-28T19:14:26.428777Z"
    }
   },
   "cell_type": "code",
   "source": [
    "from tqdm import tqdm\n",
    "from sklearn.metrics import accuracy_score, f1_score\n",
    "import time\n",
    "\n",
    "\n",
    "def _accuracy(model, X, y):\n",
    "    with torch.no_grad():\n",
    "        outputs = model(X)\n",
    "        predictions = outputs.argmax(-1) \n",
    "        correct = (predictions == y).sum()\n",
    "        total = y.shape[0]\n",
    "        return 100. * correct / total\n",
    "\n",
    "\n",
    "def _f1_score(model, X, y, num_classes=None):\n",
    "    with torch.no_grad():\n",
    "        outputs = model(X)\n",
    "        predictions = outputs.argmax(-1)\n",
    "        # 假設 y 和 predictions 為 1D tensor\n",
    "        if num_classes is None:\n",
    "            num_classes = int(torch.max(y).item()) + 1\n",
    "        f1_scores = []\n",
    "        for c in range(num_classes):\n",
    "            tp = ((predictions == c) & (y == c)).sum().item()\n",
    "            fp = ((predictions == c) & (y != c)).sum().item()\n",
    "            fn = ((predictions != c) & (y == c)).sum().item()\n",
    "            if tp + fp + fn == 0:\n",
    "                f1 = 0.0  # 防止0除\n",
    "            else:\n",
    "                precision = tp / (tp + fp) if (tp + fp) != 0 else 0.0\n",
    "                recall = tp / (tp + fn) if (tp + fn) != 0 else 0.0\n",
    "                if precision + recall == 0:\n",
    "                    f1 = 0.0\n",
    "                else:\n",
    "                    f1 = 2 * (precision * recall) / (precision + recall)\n",
    "            f1_scores.append(f1)\n",
    "        # 取 macro-average F1\n",
    "        return 100. * sum(f1_scores) / len(f1_scores)\n",
    "    \n",
    "# 基於 simple-einet API 的聯邦學習訓練器\n",
    "class FederatedEiNetTrainer:\n",
    "    \"\"\"\n",
    "    聯邦 EiNet 訓練器 - 使用 simple-einet API 風格\n",
    "    \"\"\"\n",
    "    \n",
    "    def __init__(self, partition_info: Dict):\n",
    "        self.partition_info = partition_info\n",
    "        self.client_models = {}\n",
    "        self.client_domains = {}\n",
    "        self.training_history = {}\n",
    "        \n",
    "    def create_domains(self, features: List[str], numeric_features: List[str], \n",
    "                      categorical_features: List[str], X_processed: pd.DataFrame) -> List:\n",
    "        \"\"\"為給定特徵創建 domains\"\"\"\n",
    "        domains = []\n",
    "        \n",
    "        for feature in features:\n",
    "            if feature in numeric_features:\n",
    "                if feature in X_processed.columns:\n",
    "                    min_val = float(X_processed[feature].min())\n",
    "                    max_val = float(X_processed[feature].max())\n",
    "                    domains.append(Domain.continuous_range(min_val, max_val))\n",
    "                else:\n",
    "                    # 如果特徵不在 X_processed 中，使用預設範圍\n",
    "                    domains.append(Domain.continuous_range(-3.0, 3.0))\n",
    "            else:\n",
    "                if feature in X_processed.columns:\n",
    "                    values = sorted(X_processed[feature].unique().tolist())\n",
    "                    domains.append(Domain.discrete_bins(values))\n",
    "                else:\n",
    "                    # 如果特徵不在 X_processed 中，使用預設值\n",
    "                    domains.append(Domain.discrete_bins([0, 1]))\n",
    "                \n",
    "        return domains\n",
    "    \n",
    "    def train_client(self, client_id: str, client_data: Dict, X_processed: pd.DataFrame,\n",
    "                    epochs: int = 100, verbose: bool = False) -> Dict:\n",
    "        \"\"\"訓練單個客戶端的 EiNet 模型\"\"\"\n",
    "        \n",
    "        X_client = client_data['X']\n",
    "        y_client = client_data['y']\n",
    "        \n",
    "        X_client_reshaped = X_client.unsqueeze(1)\n",
    "        \n",
    "        # 創建該客戶端特徵的 domains\n",
    "        domains = self.create_domains(\n",
    "            client_data['features'],\n",
    "            client_data['numeric_features'],\n",
    "            client_data['categorical_features'],\n",
    "            X_processed,\n",
    "        )\n",
    "        \n",
    "        num_features = client_data['n_features']\n",
    "        \n",
    "        # 動態調整模型複雜度\n",
    "        if num_features < 3:\n",
    "            depth, num_sums, num_leaves = 1, 4, 4\n",
    "        elif num_features < 6:\n",
    "            depth, num_sums, num_leaves = 1, 8, 8  \n",
    "        else:\n",
    "            depth, num_sums, num_leaves = 2, 12, 12\n",
    "            \n",
    "        config = EinetConfig(\n",
    "            num_features=num_features,\n",
    "            depth=depth,\n",
    "            num_sums=num_sums,\n",
    "            num_leaves=num_leaves,\n",
    "            num_repetitions=3,\n",
    "            num_classes=2,\n",
    "            leaf_type=PiecewiseLinear,\n",
    "            leaf_kwargs={'alpha': 0.1},\n",
    "            dropout=0.0\n",
    "        )\n",
    "        \n",
    "        model = Einet(config)\n",
    "        model.leaf.base_leaf.initialize(X_client_reshaped, domains)\n",
    "        \n",
    "        cross_entropy = torch.nn.CrossEntropyLoss()\n",
    "        optimizer = torch.optim.Adam(model.parameters(), lr=0.01)\n",
    "        \n",
    "        if verbose:\n",
    "            print(f\"    📊 模型配置: depth={depth}, sums={num_sums}, leaves={num_leaves}\")\n",
    "            print(f\"    🔧 特徵域: {len(domains)} 個 domain\")\n",
    "        \n",
    "        start_time = time.time()\n",
    "        \n",
    "        for epoch in range(epochs):\n",
    "            optimizer.zero_grad()\n",
    "            ll = model(X_client_reshaped)\n",
    "            loss = cross_entropy(ll, y_client)\n",
    "            loss.backward()\n",
    "            optimizer.step()\n",
    "            \n",
    "            if (epoch + 1) % 5 == 0:\n",
    "                acc_train = _accuracy(model, X_client_reshaped, y_client)\n",
    "                f1_train = _f1_score(model, X_client_reshaped, y_client)\n",
    "                print(f\"Epoch: {epoch+1:2d}, Loss: {loss.item():.4f}, \"\n",
    "                      f\"Train Acc: {acc_train:.2f}%, F1: {f1_train:.2f}%\")\n",
    "            \n",
    "        training_time = time.time() - start_time\n",
    "        \n",
    "        train_accuracy = _accuracy(model, X_client_reshaped, y_client)\n",
    "        train_f1 = _f1_score(model, X_client_reshaped, y_client)\n",
    "        \n",
    "        if verbose:\n",
    "            print(f\"    ✅ 訓練準確率: {train_accuracy:.3f}\")\n",
    "            print(f\"    📈 訓練 F1 分數: {train_f1:.3f}\")\n",
    "            print(f\"    ⏱️  訓練時間: {training_time:.3f} 秒\")\n",
    "        \n",
    "        return {\n",
    "            'client_id': client_id,\n",
    "            'model': model,\n",
    "            'domains': domains,\n",
    "            'train_accuracy': train_accuracy,\n",
    "            'train_f1': train_f1,\n",
    "            'training_time': training_time,\n",
    "            'config': config\n",
    "        }\n",
    "    \n",
    "    def train_federated_learning(self, X_processed: pd.DataFrame, epochs: int = 100, \n",
    "                               verbose: bool = True) -> Dict:\n",
    "        \"\"\"執行聯邦學習訓練\"\"\"\n",
    "        \n",
    "        print(f\"\\n🚀 開始 {self.partition_info['type']} 聯邦學習訓練...\")\n",
    "        print(f\"訓練參數: epochs={epochs}\")\n",
    "        \n",
    "        start_time = time.time()\n",
    "        results = {}\n",
    "        \n",
    "        # 訓練每個客戶端\n",
    "        for client_id, client_data in self.partition_info['clients'].items():\n",
    "            if verbose:\n",
    "                print(f\"\\n📍 訓練 {client_id}...\")\n",
    "                print(f\"   資料規模: {client_data['n_samples']} 樣本 × {client_data['n_features']} 特徵\")\n",
    "                if client_data.get('feature_overlap'):\n",
    "                    print(f\"   🔗 重疊特徵: {len(client_data['feature_overlap'])} 個 {client_data['feature_overlap']}\")\n",
    "                \n",
    "            # 訓練客戶端模型\n",
    "            client_result = self.train_client(\n",
    "                client_id, client_data, X_processed, epochs, verbose=verbose\n",
    "            )\n",
    "            \n",
    "            # 儲存結果\n",
    "            self.client_models[client_id] = client_result['model']\n",
    "            self.client_domains[client_id] = client_result['domains']\n",
    "            \n",
    "            results[client_id] = {\n",
    "                'train_accuracy': client_result['train_accuracy'],\n",
    "                'train_f1': client_result['train_f1'],\n",
    "                'training_time': client_result['training_time'],\n",
    "                'n_samples': client_data['n_samples'],\n",
    "                'n_features': client_data['n_features'],\n",
    "                'feature_overlap': client_data.get('feature_overlap', []),\n",
    "                'config': client_result['config'],\n",
    "                'domains_count': len(client_result['domains'])\n",
    "            }\n",
    "            \n",
    "            if verbose:\n",
    "                print(f\"   🎯 {client_id} 訓練完成\")\n",
    "        \n",
    "        # 計算整體統計\n",
    "        total_samples = sum(r['n_samples'] for r in results.values())\n",
    "        weighted_accuracy = sum(\n",
    "            r['train_accuracy'] * r['n_samples'] for r in results.values()\n",
    "        ) / total_samples\n",
    "        \n",
    "        weighted_f1 = sum(\n",
    "            r['train_f1'] * r['n_samples'] for r in results.values()\n",
    "        ) / total_samples\n",
    "        \n",
    "        total_time = time.time() - start_time\n",
    "        \n",
    "        if verbose:\n",
    "            print(f\"\\n📊 {self.partition_info['type']} 聯邦學習完成！\")\n",
    "            print(f\"   ⏱️  總訓練時間: {total_time:.2f} 秒\")\n",
    "            print(f\"   🎯 加權平均訓練準確率: {weighted_accuracy:.3f}\")\n",
    "            print(f\"   📈 加權平均 F1 分數: {weighted_f1:.3f}\")\n",
    "            print(f\"   🏢 參與客戶端: {len(results)} 個\")\n",
    "            print(f\"   📊 總樣本數: {total_samples}\")\n",
    "        \n",
    "        return {\n",
    "            'type': self.partition_info['type'],\n",
    "            'client_results': results,\n",
    "            'weighted_accuracy': weighted_accuracy,\n",
    "            'weighted_f1': weighted_f1,\n",
    "            'total_training_time': total_time,\n",
    "            'total_samples': total_samples,\n",
    "            'num_clients': len(results)\n",
    "        }\n",
    "    \n",
    "    def evaluate_on_test(self, X_test, y_test, test_feature_names) -> Dict:\n",
    "        \"\"\"在測試集上評估聯邦模型\"\"\"\n",
    "        \n",
    "        print(f\"\\n📋 在測試集上評估聯邦 EiNet 模型...\")\n",
    "        \n",
    "        client_evaluations = {}\n",
    "        predictions_ensemble = []\n",
    "        probabilities_ensemble = []\n",
    "        \n",
    "        for client_id, model in self.client_models.items():\n",
    "            client_data = self.partition_info['clients'][client_id]\n",
    "            \n",
    "            # 找到客戶端特徵在測試集中的對應索引\n",
    "            client_feature_indices = []\n",
    "            for feature in client_data['features']:\n",
    "                if feature in test_feature_names:\n",
    "                    client_feature_indices.append(test_feature_names.index(feature))\n",
    "            \n",
    "            if len(client_feature_indices) == 0:\n",
    "                print(f\"   ⚠️  {client_id}: 沒有對應的測試特徵\")\n",
    "                continue\n",
    "                \n",
    "            # 提取客戶端對應的測試特徵\n",
    "            X_test_client = X_test[:, client_feature_indices]\n",
    "            \n",
    "            # 按照 simple-einet 風格 reshape\n",
    "            X_test_client_reshaped = torch.tensor(X_test_client).unsqueeze(1)\n",
    "            \n",
    "            # 預測\n",
    "            try:\n",
    "                acc = accuracy(model, X_test_client_reshaped, y_test)\n",
    "                fscore = f1(model, X_test_client_reshaped, torch.from_numpy(y_test))\n",
    "                \n",
    "                probs = torch.exp(model(X_test_client_reshaped))\n",
    "                predictions = probs.argmax(dim=-1)  \n",
    "                \n",
    "                client_evaluations[client_id] = {\n",
    "                    'accuracy': acc,\n",
    "                    'f1_score': fscore,\n",
    "                    'n_test_features': len(client_feature_indices),\n",
    "                    'predictions': predictions,\n",
    "                }\n",
    "                \n",
    "                predictions_ensemble.append(predictions.detach().numpy())\n",
    "                probabilities_ensemble.append(probs.detach().numpy())\n",
    "                \n",
    "                print(f\"   {client_id}: 準確率 {acc:.3f}, F1 {fscore:.3f} ({len(client_feature_indices)} 特徵)\")\n",
    "                \n",
    "            except Exception as e:\n",
    "                print(f\"   ❌ {client_id}: 評估失敗 - {str(e)}\")\n",
    "        \n",
    "        # 集成預測（簡單投票和平均機率）\n",
    "        if predictions_ensemble and probabilities_ensemble:\n",
    "            # 投票集成\n",
    "            predictions_array = np.array(predictions_ensemble)\n",
    "            ensemble_predictions_vote = np.apply_along_axis(\n",
    "                lambda x: np.bincount(x).argmax(), axis=0, arr=predictions_array\n",
    "            )\n",
    "            \n",
    "            # 機率平均集成\n",
    "            ensemble_probabilities = np.mean(probabilities_ensemble, axis=0)\n",
    "            ensemble_predictions_prob = np.argmax(ensemble_probabilities, axis=1)\n",
    "            \n",
    "            vote_accuracy = accuracy_score(y_test, ensemble_predictions_vote)\n",
    "            vote_f1 = f1_score(y_test, ensemble_predictions_vote, average='weighted')\n",
    "            # \n",
    "            prob_accuracy = accuracy_score(y_test, ensemble_predictions_prob)\n",
    "            prob_f1 = f1_score(y_test, ensemble_predictions_prob, average='weighted')\n",
    "            \n",
    "            # 選擇更好的集成方法\n",
    "            if prob_accuracy >= vote_accuracy:\n",
    "                ensemble_accuracy = prob_accuracy\n",
    "                ensemble_f1 = prob_f1\n",
    "                ensemble_predictions = ensemble_predictions_prob\n",
    "                ensemble_method = \"機率平均\"\n",
    "            else:\n",
    "                ensemble_accuracy = vote_accuracy\n",
    "                ensemble_f1 = vote_f1\n",
    "                ensemble_predictions = ensemble_predictions_vote\n",
    "                ensemble_method = \"投票\"\n",
    "                \n",
    "        else:\n",
    "            ensemble_accuracy = 0.0\n",
    "            ensemble_f1 = 0.0\n",
    "            ensemble_predictions = None\n",
    "            ensemble_method = \"無\"\n",
    "        \n",
    "        print(f\"\\n🎯 集成結果 ({ensemble_method}):\")\n",
    "        print(f\"   準確率: {ensemble_accuracy:.3f}\")\n",
    "        print(f\"   F1 分數: {ensemble_f1:.3f}\")\n",
    "        \n",
    "        return {\n",
    "            'client_evaluations': client_evaluations,\n",
    "            'ensemble_accuracy': ensemble_accuracy,\n",
    "            'ensemble_f1': ensemble_f1,\n",
    "            'ensemble_predictions': ensemble_predictions,\n",
    "            'ensemble_method': ensemble_method\n",
    "        }\n"
   ],
   "id": "37b367d3a1b8bdcb",
   "outputs": [],
   "execution_count": 208
  },
  {
   "metadata": {
    "ExecuteTime": {
     "end_time": "2025-08-28T19:14:26.684958Z",
     "start_time": "2025-08-28T19:14:26.682945Z"
    }
   },
   "cell_type": "code",
   "source": [
    "partitioner = FederatedDataPartitionerRobust(\n",
    "    X=X_train_tensor, \n",
    "    y=y_train_tensor,\n",
    "    feature_names=X_processed.columns.tolist(),\n",
    "    numeric_features=numeric_features,\n",
    "    categorical_features=categorical_features\n",
    ")"
   ],
   "id": "3e7199f1de972d22",
   "outputs": [],
   "execution_count": 209
  },
  {
   "metadata": {
    "ExecuteTime": {
     "end_time": "2025-08-28T19:34:59.523501Z",
     "start_time": "2025-08-28T19:34:32.547737Z"
    }
   },
   "cell_type": "code",
   "source": [
    "# 實驗 1: 水平聯邦學習 - Simple-EiNet 風格\n",
    "print(\"\\n\" + \"=\"*60)\n",
    "print(\"🔵 實驗 1: 水平聯邦學習 (使用 Simple-EiNet API)\")\n",
    "print(\"相同特徵，不同樣本\")\n",
    "print(\"=\"*60)\n",
    "\n",
    "horizontal_partition = partitioner.horizontal_partition(num_clients=3, random_state=42)\n",
    "horizontal_trainer = FederatedEiNetTrainer(horizontal_partition)\n",
    "horizontal_results = horizontal_trainer.train_federated_learning(\n",
    "    X_processed, epochs=50, verbose=True\n",
    ")\n",
    "\n",
    "# 在測試集上評估\n",
    "horizontal_eval = horizontal_trainer.evaluate_on_test(\n",
    "    X_test, y_test, X_processed.columns.tolist()\n",
    ")"
   ],
   "id": "4128c3494ca9045",
   "outputs": [
    {
     "name": "stdout",
     "output_type": "stream",
     "text": [
      "\n",
      "============================================================\n",
      "🔵 實驗 1: 水平聯邦學習 (使用 Simple-EiNet API)\n",
      "相同特徵，不同樣本\n",
      "============================================================\n",
      "🔄 執行水平分割，分成 3 個客戶端...\n",
      "  客戶端 0: 10099 樣本, 14 特徵\n",
      "  客戶端 1: 10099 樣本, 14 特徵\n",
      "  客戶端 2: 10100 樣本, 14 特徵\n",
      "\n",
      "🚀 開始 horizontal 聯邦學習訓練...\n",
      "訓練參數: epochs=50\n",
      "\n",
      "📍 訓練 client_0...\n",
      "   資料規模: 10099 樣本 × 14 特徵\n",
      "   🔗 重疊特徵: 14 個 ['age', 'fnlwgt', 'education-num', 'capital-gain', 'capital-loss', 'hours-per-week', 'workclass', 'education', 'marital-status', 'occupation', 'relationship', 'race', 'sex', 'native-country']\n"
     ]
    },
    {
     "name": "stderr",
     "output_type": "stream",
     "text": [
      "Initializing PiecewiseLinear Leaf Layer: 100%|██████████| 3/3 [00:00<00:00, 12.29it/s]\n"
     ]
    },
    {
     "name": "stdout",
     "output_type": "stream",
     "text": [
      "    📊 模型配置: depth=2, sums=12, leaves=12\n",
      "    🔧 特徵域: 14 個 domain\n",
      "Epoch:  5, Loss: 0.5638, Train Acc: 74.47%, F1: 45.40%\n",
      "Epoch: 10, Loss: 0.5520, Train Acc: 74.75%, F1: 45.59%\n",
      "Epoch: 15, Loss: 0.5409, Train Acc: 75.63%, F1: 46.02%\n",
      "Epoch: 20, Loss: 0.5303, Train Acc: 75.91%, F1: 46.35%\n",
      "Epoch: 25, Loss: 0.5198, Train Acc: 76.26%, F1: 46.83%\n",
      "Epoch: 30, Loss: 0.5095, Train Acc: 76.42%, F1: 47.15%\n",
      "Epoch: 35, Loss: 0.4995, Train Acc: 76.56%, F1: 47.46%\n",
      "Epoch: 40, Loss: 0.4898, Train Acc: 76.70%, F1: 47.84%\n",
      "Epoch: 45, Loss: 0.4807, Train Acc: 76.94%, F1: 48.91%\n",
      "Epoch: 50, Loss: 0.4723, Train Acc: 77.34%, F1: 50.69%\n",
      "    ✅ 訓練準確率: 77.344\n",
      "    📈 訓練 F1 分數: 50.689\n",
      "    ⏱️  訓練時間: 8.634 秒\n",
      "   🎯 client_0 訓練完成\n",
      "\n",
      "📍 訓練 client_1...\n",
      "   資料規模: 10099 樣本 × 14 特徵\n",
      "   🔗 重疊特徵: 14 個 ['age', 'fnlwgt', 'education-num', 'capital-gain', 'capital-loss', 'hours-per-week', 'workclass', 'education', 'marital-status', 'occupation', 'relationship', 'race', 'sex', 'native-country']\n"
     ]
    },
    {
     "name": "stderr",
     "output_type": "stream",
     "text": [
      "Initializing PiecewiseLinear Leaf Layer: 100%|██████████| 3/3 [00:00<00:00, 12.64it/s]\n"
     ]
    },
    {
     "name": "stdout",
     "output_type": "stream",
     "text": [
      "    📊 模型配置: depth=2, sums=12, leaves=12\n",
      "    🔧 特徵域: 14 個 domain\n",
      "Epoch:  5, Loss: 0.6626, Train Acc: 66.94%, F1: 53.84%\n",
      "Epoch: 10, Loss: 0.6321, Train Acc: 68.78%, F1: 54.67%\n",
      "Epoch: 15, Loss: 0.6051, Train Acc: 71.68%, F1: 56.54%\n",
      "Epoch: 20, Loss: 0.5810, Train Acc: 72.51%, F1: 56.97%\n",
      "Epoch: 25, Loss: 0.5598, Train Acc: 73.18%, F1: 57.51%\n",
      "Epoch: 30, Loss: 0.5411, Train Acc: 73.99%, F1: 57.74%\n",
      "Epoch: 35, Loss: 0.5246, Train Acc: 75.06%, F1: 56.62%\n",
      "Epoch: 40, Loss: 0.5099, Train Acc: 75.97%, F1: 57.24%\n",
      "Epoch: 45, Loss: 0.4968, Train Acc: 76.53%, F1: 57.91%\n",
      "Epoch: 50, Loss: 0.4849, Train Acc: 77.02%, F1: 58.76%\n",
      "    ✅ 訓練準確率: 77.018\n",
      "    📈 訓練 F1 分數: 58.756\n",
      "    ⏱️  訓練時間: 7.875 秒\n",
      "   🎯 client_1 訓練完成\n",
      "\n",
      "📍 訓練 client_2...\n",
      "   資料規模: 10100 樣本 × 14 特徵\n",
      "   🔗 重疊特徵: 14 個 ['age', 'fnlwgt', 'education-num', 'capital-gain', 'capital-loss', 'hours-per-week', 'workclass', 'education', 'marital-status', 'occupation', 'relationship', 'race', 'sex', 'native-country']\n"
     ]
    },
    {
     "name": "stderr",
     "output_type": "stream",
     "text": [
      "Initializing PiecewiseLinear Leaf Layer: 100%|██████████| 3/3 [00:00<00:00, 13.28it/s]\n"
     ]
    },
    {
     "name": "stdout",
     "output_type": "stream",
     "text": [
      "    📊 模型配置: depth=2, sums=12, leaves=12\n",
      "    🔧 特徵域: 14 個 domain\n",
      "Epoch:  5, Loss: 0.5673, Train Acc: 64.93%, F1: 59.41%\n",
      "Epoch: 10, Loss: 0.5474, Train Acc: 65.49%, F1: 56.98%\n",
      "Epoch: 15, Loss: 0.5314, Train Acc: 75.15%, F1: 58.84%\n",
      "Epoch: 20, Loss: 0.5189, Train Acc: 75.67%, F1: 50.61%\n",
      "Epoch: 25, Loss: 0.5093, Train Acc: 75.38%, F1: 47.99%\n",
      "Epoch: 30, Loss: 0.5016, Train Acc: 75.33%, F1: 47.29%\n",
      "Epoch: 35, Loss: 0.4949, Train Acc: 75.48%, F1: 47.75%\n",
      "Epoch: 40, Loss: 0.4885, Train Acc: 75.74%, F1: 48.87%\n",
      "Epoch: 45, Loss: 0.4822, Train Acc: 76.03%, F1: 50.12%\n",
      "Epoch: 50, Loss: 0.4764, Train Acc: 77.02%, F1: 54.90%\n",
      "    ✅ 訓練準確率: 77.020\n",
      "    📈 訓練 F1 分數: 54.904\n",
      "    ⏱️  訓練時間: 7.911 秒\n",
      "   🎯 client_2 訓練完成\n",
      "\n",
      "📊 horizontal 聯邦學習完成！\n",
      "   ⏱️  總訓練時間: 25.77 秒\n",
      "   🎯 加權平均訓練準確率: 77.127\n",
      "   📈 加權平均 F1 分數: 54.783\n",
      "   🏢 參與客戶端: 3 個\n",
      "   📊 總樣本數: 30298\n",
      "\n",
      "📋 在測試集上評估聯邦 EiNet 模型...\n",
      "   client_0: 準確率 76.910, F1 51.522 (14 特徵)\n",
      "   client_1: 準確率 75.603, F1 57.866 (14 特徵)\n",
      "   client_2: 準確率 76.983, F1 53.435 (14 特徵)\n",
      "\n",
      "🎯 集成結果 (投票):\n",
      "   準確率: 0.767\n",
      "   F1 分數: 0.689\n"
     ]
    }
   ],
   "execution_count": 213
  },
  {
   "metadata": {
    "ExecuteTime": {
     "end_time": "2025-08-28T19:34:26.328484Z",
     "start_time": "2025-08-28T19:34:09.080119Z"
    }
   },
   "cell_type": "code",
   "source": [
    "# 實驗 2: 垂直聯邦學習 - Simple-EiNet 風格\n",
    "print(\"\\n\" + \"=\"*60)\n",
    "print(\"🟢 實驗 2: 垂直聯邦學習 (使用 Simple-EiNet API)\")\n",
    "print(\"相同樣本，不同特徵\")\n",
    "print(\"=\"*60)\n",
    "\n",
    "vertical_partition = partitioner.vertical_partition(num_clients=3, random_state=42)\n",
    "vertical_trainer = FederatedEiNetTrainer(vertical_partition)\n",
    "vertical_results = vertical_trainer.train_federated_learning(\n",
    "    X_processed, epochs=50, verbose=True\n",
    ")\n",
    "\n",
    "# 在測試集上評估\n",
    "vertical_eval = vertical_trainer.evaluate_on_test(\n",
    "    X_test, y_test, X_processed.columns.tolist()\n",
    ")"
   ],
   "id": "333830b854d0cdb1",
   "outputs": [
    {
     "name": "stdout",
     "output_type": "stream",
     "text": [
      "\n",
      "============================================================\n",
      "🟢 實驗 2: 垂直聯邦學習 (使用 Simple-EiNet API)\n",
      "相同樣本，不同特徵\n",
      "============================================================\n",
      "🔄 執行垂直分割，分成 3 個客戶端...\n",
      "  客戶端 0: 30298 樣本, 4 特徵\n",
      "  客戶端 1: 30298 樣本, 4 特徵\n",
      "  客戶端 2: 30298 樣本, 6 特徵\n",
      "\n",
      "🚀 開始 vertical 聯邦學習訓練...\n",
      "訓練參數: epochs=50\n",
      "\n",
      "📍 訓練 client_0...\n",
      "   資料規模: 30298 樣本 × 4 特徵\n"
     ]
    },
    {
     "name": "stderr",
     "output_type": "stream",
     "text": [
      "Initializing PiecewiseLinear Leaf Layer: 100%|██████████| 3/3 [00:00<00:00, 34.67it/s]"
     ]
    },
    {
     "name": "stdout",
     "output_type": "stream",
     "text": [
      "    📊 模型配置: depth=1, sums=8, leaves=8\n",
      "    🔧 特徵域: 4 個 domain\n"
     ]
    },
    {
     "name": "stderr",
     "output_type": "stream",
     "text": [
      "\n"
     ]
    },
    {
     "name": "stdout",
     "output_type": "stream",
     "text": [
      "Epoch:  5, Loss: 0.6917, Train Acc: 55.01%, F1: 49.16%\n",
      "Epoch: 10, Loss: 0.6772, Train Acc: 59.30%, F1: 52.30%\n",
      "Epoch: 15, Loss: 0.6640, Train Acc: 59.97%, F1: 53.70%\n",
      "Epoch: 20, Loss: 0.6522, Train Acc: 60.14%, F1: 54.51%\n",
      "Epoch: 25, Loss: 0.6416, Train Acc: 64.24%, F1: 59.41%\n",
      "Epoch: 30, Loss: 0.6320, Train Acc: 64.32%, F1: 59.50%\n",
      "Epoch: 35, Loss: 0.6234, Train Acc: 64.69%, F1: 59.73%\n",
      "Epoch: 40, Loss: 0.6156, Train Acc: 64.67%, F1: 59.72%\n",
      "Epoch: 45, Loss: 0.6083, Train Acc: 64.73%, F1: 59.74%\n",
      "Epoch: 50, Loss: 0.6014, Train Acc: 67.48%, F1: 64.59%\n",
      "    ✅ 訓練準確率: 67.476\n",
      "    📈 訓練 F1 分數: 64.593\n",
      "    ⏱️  訓練時間: 3.350 秒\n",
      "   🎯 client_0 訓練完成\n",
      "\n",
      "📍 訓練 client_1...\n",
      "   資料規模: 30298 樣本 × 4 特徵\n"
     ]
    },
    {
     "name": "stderr",
     "output_type": "stream",
     "text": [
      "Initializing PiecewiseLinear Leaf Layer: 100%|██████████| 3/3 [00:00<00:00, 30.33it/s]"
     ]
    },
    {
     "name": "stdout",
     "output_type": "stream",
     "text": [
      "    📊 模型配置: depth=1, sums=8, leaves=8\n",
      "    🔧 特徵域: 4 個 domain\n"
     ]
    },
    {
     "name": "stderr",
     "output_type": "stream",
     "text": [
      "\n"
     ]
    },
    {
     "name": "stdout",
     "output_type": "stream",
     "text": [
      "Epoch:  5, Loss: 0.6369, Train Acc: 62.34%, F1: 52.83%\n",
      "Epoch: 10, Loss: 0.6219, Train Acc: 67.71%, F1: 57.57%\n",
      "Epoch: 15, Loss: 0.6105, Train Acc: 67.95%, F1: 57.68%\n",
      "Epoch: 20, Loss: 0.6018, Train Acc: 68.72%, F1: 58.14%\n",
      "Epoch: 25, Loss: 0.5946, Train Acc: 69.28%, F1: 58.55%\n",
      "Epoch: 30, Loss: 0.5884, Train Acc: 69.56%, F1: 59.97%\n",
      "Epoch: 35, Loss: 0.5829, Train Acc: 69.61%, F1: 60.04%\n",
      "Epoch: 40, Loss: 0.5780, Train Acc: 70.26%, F1: 60.22%\n",
      "Epoch: 45, Loss: 0.5736, Train Acc: 71.45%, F1: 61.06%\n",
      "Epoch: 50, Loss: 0.5695, Train Acc: 71.48%, F1: 61.10%\n",
      "    ✅ 訓練準確率: 71.480\n",
      "    📈 訓練 F1 分數: 61.100\n",
      "    ⏱️  訓練時間: 3.154 秒\n",
      "   🎯 client_1 訓練完成\n",
      "\n",
      "📍 訓練 client_2...\n",
      "   資料規模: 30298 樣本 × 6 特徵\n"
     ]
    },
    {
     "name": "stderr",
     "output_type": "stream",
     "text": [
      "Initializing PiecewiseLinear Leaf Layer: 100%|██████████| 3/3 [00:00<00:00,  8.92it/s]\n"
     ]
    },
    {
     "name": "stdout",
     "output_type": "stream",
     "text": [
      "    📊 模型配置: depth=2, sums=12, leaves=12\n",
      "    🔧 特徵域: 6 個 domain\n",
      "Epoch:  5, Loss: 0.8716, Train Acc: 23.88%, F1: 19.76%\n",
      "Epoch: 10, Loss: 0.7564, Train Acc: 40.39%, F1: 40.39%\n",
      "Epoch: 15, Loss: 0.6650, Train Acc: 68.05%, F1: 60.72%\n",
      "Epoch: 20, Loss: 0.5985, Train Acc: 76.10%, F1: 59.36%\n",
      "Epoch: 25, Loss: 0.5550, Train Acc: 77.05%, F1: 56.94%\n",
      "Epoch: 30, Loss: 0.5302, Train Acc: 77.06%, F1: 56.22%\n",
      "Epoch: 35, Loss: 0.5182, Train Acc: 76.61%, F1: 53.76%\n",
      "Epoch: 40, Loss: 0.5135, Train Acc: 76.75%, F1: 52.88%\n",
      "Epoch: 45, Loss: 0.5118, Train Acc: 76.78%, F1: 53.06%\n",
      "Epoch: 50, Loss: 0.5108, Train Acc: 76.80%, F1: 53.25%\n",
      "    ✅ 訓練準確率: 76.804\n",
      "    📈 訓練 F1 分數: 53.249\n",
      "    ⏱️  訓練時間: 9.415 秒\n",
      "   🎯 client_2 訓練完成\n",
      "\n",
      "📊 vertical 聯邦學習完成！\n",
      "   ⏱️  總訓練時間: 16.83 秒\n",
      "   🎯 加權平均訓練準確率: 71.920\n",
      "   📈 加權平均 F1 分數: 59.647\n",
      "   🏢 參與客戶端: 3 個\n",
      "   📊 總樣本數: 90894\n",
      "\n",
      "📋 在測試集上評估聯邦 EiNet 模型...\n",
      "   client_0: 準確率 67.281, F1 64.491 (4 特徵)\n",
      "   client_1: 準確率 71.268, F1 60.285 (4 特徵)\n",
      "   client_2: 準確率 76.622, F1 52.684 (6 特徵)\n",
      "\n",
      "🎯 集成結果 (投票):\n",
      "   準確率: 0.784\n",
      "   F1 分數: 0.761\n"
     ]
    }
   ],
   "execution_count": 212
  },
  {
   "metadata": {
    "ExecuteTime": {
     "end_time": "2025-08-28T19:35:12.015909Z",
     "start_time": "2025-08-28T19:35:07.137784Z"
    }
   },
   "cell_type": "code",
   "source": [
    "# 實驗 3: 混合聯邦學習 - Simple-EiNet 風格\n",
    "print(\"\\n\" + \"=\"*60)\n",
    "print(\"🟡 實驗 3: 混合聯邦學習 (使用 Simple-EiNet API)\")\n",
    "print(\"不同樣本 + 不同特徵，具有重疊\")\n",
    "print(\"=\"*60)\n",
    "\n",
    "hybrid_partition = partitioner.hybrid_partition(\n",
    "    num_clients=4, \n",
    "    sample_overlap_ratio=0.3,\n",
    "    feature_overlap_ratio=0.2,\n",
    "    random_state=42\n",
    ")\n",
    "hybrid_trainer = FederatedEiNetTrainer(hybrid_partition)\n",
    "hybrid_results = hybrid_trainer.train_federated_learning(\n",
    "    X_processed, epochs=50, verbose=True\n",
    ")\n",
    "\n",
    "# 在測試集上評估\n",
    "hybrid_eval = hybrid_trainer.evaluate_on_test(\n",
    "    X_test, y_test, X_processed.columns.tolist()\n",
    ")"
   ],
   "id": "506e7d9d88ed2a5d",
   "outputs": [
    {
     "name": "stdout",
     "output_type": "stream",
     "text": [
      "\n",
      "============================================================\n",
      "🟡 實驗 3: 混合聯邦學習 (使用 Simple-EiNet API)\n",
      "不同樣本 + 不同特徵，具有重疊\n",
      "============================================================\n",
      "🔄 執行健壯版混合分割，分成 4 個客戶端...\n",
      "  樣本重疊比例: 30.0%\n",
      "  特徵重疊比例: 20.0%\n",
      "  基礎樣本: 15148 個，重疊樣本池: 9089 個\n",
      "  基礎特徵: 8 個，重疊特徵池: 2 個\n",
      "  客戶端 0: 5680 樣本 × 3 特徵\n",
      "  客戶端 1: 5680 樣本 × 3 特徵\n",
      "  客戶端 2: 5680 樣本 × 3 特徵\n",
      "  客戶端 3: 5680 樣本 × 3 特徵\n",
      "\n",
      "🚀 開始 hybrid_robust 聯邦學習訓練...\n",
      "訓練參數: epochs=50\n",
      "\n",
      "📍 訓練 client_0...\n",
      "   資料規模: 5680 樣本 × 3 特徵\n",
      "   🔗 重疊特徵: 1 個 ['age']\n"
     ]
    },
    {
     "name": "stderr",
     "output_type": "stream",
     "text": [
      "Initializing PiecewiseLinear Leaf Layer: 100%|██████████| 3/3 [00:00<00:00, 49.64it/s]"
     ]
    },
    {
     "name": "stdout",
     "output_type": "stream",
     "text": [
      "    📊 模型配置: depth=1, sums=8, leaves=8\n",
      "    🔧 特徵域: 3 個 domain\n",
      "Epoch:  5, Loss: 0.7731, Train Acc: 55.97%, F1: 54.08%\n"
     ]
    },
    {
     "name": "stderr",
     "output_type": "stream",
     "text": [
      "\n"
     ]
    },
    {
     "name": "stdout",
     "output_type": "stream",
     "text": [
      "Epoch: 10, Loss: 0.7505, Train Acc: 59.05%, F1: 55.79%\n",
      "Epoch: 15, Loss: 0.7307, Train Acc: 59.91%, F1: 55.88%\n",
      "Epoch: 20, Loss: 0.7134, Train Acc: 60.11%, F1: 56.02%\n",
      "Epoch: 25, Loss: 0.6986, Train Acc: 60.09%, F1: 56.02%\n",
      "Epoch: 30, Loss: 0.6859, Train Acc: 60.07%, F1: 55.86%\n",
      "Epoch: 35, Loss: 0.6749, Train Acc: 60.76%, F1: 56.26%\n",
      "Epoch: 40, Loss: 0.6654, Train Acc: 61.48%, F1: 56.65%\n",
      "Epoch: 45, Loss: 0.6569, Train Acc: 62.02%, F1: 56.72%\n",
      "Epoch: 50, Loss: 0.6492, Train Acc: 62.61%, F1: 57.12%\n",
      "    ✅ 訓練準確率: 62.606\n",
      "    📈 訓練 F1 分數: 57.117\n",
      "    ⏱️  訓練時間: 1.063 秒\n",
      "   🎯 client_0 訓練完成\n",
      "\n",
      "📍 訓練 client_1...\n",
      "   資料規模: 5680 樣本 × 3 特徵\n",
      "   🔗 重疊特徵: 1 個 ['age']\n"
     ]
    },
    {
     "name": "stderr",
     "output_type": "stream",
     "text": [
      "Initializing PiecewiseLinear Leaf Layer: 100%|██████████| 3/3 [00:00<00:00, 81.25it/s]"
     ]
    },
    {
     "name": "stdout",
     "output_type": "stream",
     "text": [
      "    📊 模型配置: depth=1, sums=8, leaves=8\n",
      "    🔧 特徵域: 3 個 domain\n",
      "Epoch:  5, Loss: 0.7064, Train Acc: 57.27%, F1: 49.79%\n"
     ]
    },
    {
     "name": "stderr",
     "output_type": "stream",
     "text": [
      "\n"
     ]
    },
    {
     "name": "stdout",
     "output_type": "stream",
     "text": [
      "Epoch: 10, Loss: 0.6878, Train Acc: 62.36%, F1: 53.40%\n",
      "Epoch: 15, Loss: 0.6711, Train Acc: 66.78%, F1: 57.53%\n",
      "Epoch: 20, Loss: 0.6562, Train Acc: 65.85%, F1: 58.05%\n",
      "Epoch: 25, Loss: 0.6429, Train Acc: 67.82%, F1: 61.41%\n",
      "Epoch: 30, Loss: 0.6311, Train Acc: 67.89%, F1: 62.62%\n",
      "Epoch: 35, Loss: 0.6205, Train Acc: 67.92%, F1: 62.70%\n",
      "Epoch: 40, Loss: 0.6110, Train Acc: 68.12%, F1: 62.85%\n",
      "Epoch: 45, Loss: 0.6023, Train Acc: 68.36%, F1: 62.89%\n",
      "Epoch: 50, Loss: 0.5943, Train Acc: 68.66%, F1: 62.15%\n",
      "    ✅ 訓練準確率: 68.662\n",
      "    📈 訓練 F1 分數: 62.150\n",
      "    ⏱️  訓練時間: 1.027 秒\n",
      "   🎯 client_1 訓練完成\n",
      "\n",
      "📍 訓練 client_2...\n",
      "   資料規模: 5680 樣本 × 3 特徵\n",
      "   🔗 重疊特徵: 1 個 ['age']\n"
     ]
    },
    {
     "name": "stderr",
     "output_type": "stream",
     "text": [
      "Initializing PiecewiseLinear Leaf Layer: 100%|██████████| 3/3 [00:00<00:00, 50.65it/s]"
     ]
    },
    {
     "name": "stdout",
     "output_type": "stream",
     "text": [
      "    📊 模型配置: depth=1, sums=8, leaves=8\n",
      "    🔧 特徵域: 3 個 domain\n"
     ]
    },
    {
     "name": "stderr",
     "output_type": "stream",
     "text": [
      "\n"
     ]
    },
    {
     "name": "stdout",
     "output_type": "stream",
     "text": [
      "Epoch:  5, Loss: 0.7451, Train Acc: 58.59%, F1: 50.85%\n",
      "Epoch: 10, Loss: 0.7055, Train Acc: 60.18%, F1: 51.34%\n",
      "Epoch: 15, Loss: 0.6716, Train Acc: 60.81%, F1: 51.52%\n",
      "Epoch: 20, Loss: 0.6433, Train Acc: 61.16%, F1: 51.77%\n",
      "Epoch: 25, Loss: 0.6202, Train Acc: 62.15%, F1: 51.82%\n",
      "Epoch: 30, Loss: 0.6017, Train Acc: 64.75%, F1: 55.23%\n",
      "Epoch: 35, Loss: 0.5868, Train Acc: 66.90%, F1: 55.14%\n",
      "Epoch: 40, Loss: 0.5749, Train Acc: 67.75%, F1: 58.56%\n",
      "Epoch: 45, Loss: 0.5651, Train Acc: 68.54%, F1: 59.19%\n",
      "Epoch: 50, Loss: 0.5570, Train Acc: 70.92%, F1: 60.07%\n",
      "    ✅ 訓練準確率: 70.915\n",
      "    📈 訓練 F1 分數: 60.072\n",
      "    ⏱️  訓練時間: 1.032 秒\n",
      "   🎯 client_2 訓練完成\n",
      "\n",
      "📍 訓練 client_3...\n",
      "   資料規模: 5680 樣本 × 3 特徵\n",
      "   🔗 重疊特徵: 1 個 ['age']\n"
     ]
    },
    {
     "name": "stderr",
     "output_type": "stream",
     "text": [
      "Initializing PiecewiseLinear Leaf Layer: 100%|██████████| 3/3 [00:00<00:00, 43.41it/s]"
     ]
    },
    {
     "name": "stdout",
     "output_type": "stream",
     "text": [
      "    📊 模型配置: depth=1, sums=8, leaves=8\n",
      "    🔧 特徵域: 3 個 domain\n"
     ]
    },
    {
     "name": "stderr",
     "output_type": "stream",
     "text": [
      "\n"
     ]
    },
    {
     "name": "stdout",
     "output_type": "stream",
     "text": [
      "Epoch:  5, Loss: 0.6588, Train Acc: 67.31%, F1: 57.06%\n",
      "Epoch: 10, Loss: 0.6324, Train Acc: 68.56%, F1: 58.35%\n",
      "Epoch: 15, Loss: 0.6096, Train Acc: 69.68%, F1: 59.31%\n",
      "Epoch: 20, Loss: 0.5900, Train Acc: 73.47%, F1: 62.20%\n",
      "Epoch: 25, Loss: 0.5733, Train Acc: 74.89%, F1: 63.33%\n",
      "Epoch: 30, Loss: 0.5590, Train Acc: 74.88%, F1: 63.75%\n",
      "Epoch: 35, Loss: 0.5467, Train Acc: 76.23%, F1: 65.46%\n",
      "Epoch: 40, Loss: 0.5361, Train Acc: 76.36%, F1: 65.69%\n",
      "Epoch: 45, Loss: 0.5268, Train Acc: 76.97%, F1: 66.71%\n",
      "Epoch: 50, Loss: 0.5187, Train Acc: 77.32%, F1: 67.40%\n",
      "    ✅ 訓練準確率: 77.324\n",
      "    📈 訓練 F1 分數: 67.399\n",
      "    ⏱️  訓練時間: 1.074 秒\n",
      "   🎯 client_3 訓練完成\n",
      "\n",
      "📊 hybrid_robust 聯邦學習完成！\n",
      "   ⏱️  總訓練時間: 4.55 秒\n",
      "   🎯 加權平均訓練準確率: 69.877\n",
      "   📈 加權平均 F1 分數: 61.685\n",
      "   🏢 參與客戶端: 4 個\n",
      "   📊 總樣本數: 22720\n",
      "\n",
      "📋 在測試集上評估聯邦 EiNet 模型...\n",
      "   client_0: 準確率 63.488, F1 58.239 (3 特徵)\n",
      "   client_1: 準確率 69.097, F1 62.560 (3 特徵)\n",
      "   client_2: 準確率 68.152, F1 59.245 (3 特徵)\n",
      "   client_3: 準確率 76.722, F1 64.905 (3 特徵)\n",
      "\n",
      "🎯 集成結果 (投票):\n",
      "   準確率: 0.777\n",
      "   F1 分數: 0.752\n"
     ]
    }
   ],
   "execution_count": 214
  },
  {
   "metadata": {
    "ExecuteTime": {
     "end_time": "2025-08-28T19:36:15.160982Z",
     "start_time": "2025-08-28T19:36:15.154711Z"
    }
   },
   "cell_type": "code",
   "source": [
    "# 全面的實驗結果分析和對比\n",
    "print(\"\\n\" + \"=\"*80)\n",
    "print(\"📊 Simple-EiNet 聲邦學習實驗結果總結與分析\")\n",
    "print(\"=\"*80)\n",
    "\n",
    "# 收集所有結果\n",
    "all_results = {\n",
    "    '水平聯邦學習 (EiNet)': {\n",
    "        'results': horizontal_results,\n",
    "        'eval': horizontal_eval,\n",
    "        'description': '相同特徵，不同樣本',\n",
    "        'api_type': 'Simple-EiNet API'\n",
    "    },\n",
    "    '垂直聯邦學習 (EiNet)': {\n",
    "        'results': vertical_results,\n",
    "        'eval': vertical_eval,\n",
    "        'description': '相同樣本，不同特徵',\n",
    "        'api_type': 'Simple-EiNet API'\n",
    "    },\n",
    "    '混合聯邦學習 (EiNet)': {\n",
    "        'results': hybrid_results,\n",
    "        'eval': hybrid_eval,\n",
    "        'description': '不同樣本+特徵，具有重疊',\n",
    "        'api_type': 'Simple-EiNet API'\n",
    "    }\n",
    "}\n",
    "\n",
    "# 創建對比表格\n",
    "print(\"\\n🎯 Simple-EiNet API 實驗結果對比:\")\n",
    "print(\"-\" * 110)\n",
    "print(f\"{'方法':<20} {'描述':<22} {'客戶端數':<8} {'訓練準確率':<12} {'測試準確率':<12} {'訓練時間(s)':<12} {'集成方法':<12}\")\n",
    "print(\"-\" * 110)\n",
    "\n",
    "for method_name, data in all_results.items():\n",
    "    results = data['results']\n",
    "    eval_data = data['eval']\n",
    "    description = data['description']\n",
    "    \n",
    "    ensemble_method = eval_data.get('ensemble_method', 'N/A')\n",
    "    \n",
    "    print(f\"{method_name:<20} {description:<22} {results['num_clients']:<8} \"\n",
    "          f\"{results['weighted_accuracy']:<12.3f} {eval_data['ensemble_accuracy']:<12.3f} \"\n",
    "          f\"{results['total_training_time']:<12.2f} {ensemble_method:<12}\")\n",
    "\n",
    "print(\"-\" * 110)\n",
    "\n",
    "# Simple-EiNet API 特色分析\n",
    "print(\"\\n🔧 Simple-EiNet API 特色功能展示:\")\n",
    "\n",
    "print(\"\\n1️⃣ **Domain 自動設定**\")\n",
    "for method_name, data in all_results.items():\n",
    "    results = data['results']\n",
    "    client_results = results['client_results']\n",
    "    print(f\"   {method_name}:\")\n",
    "    for client_id, client_result in client_results.items():\n",
    "        domains_count = client_result['domains_count']\n",
    "        n_features = client_result['n_features']\n",
    "        print(f\"     {client_id}: {domains_count} 個 Domain (對應 {n_features} 個特徵)\")\n",
    "\n",
    "print(\"\\n2️⃣ **EiNet 模型配置自動調整**\")\n",
    "for method_name, data in all_results.items():\n",
    "    results = data['results']\n",
    "    client_results = results['client_results']\n",
    "    print(f\"   {method_name}:\")\n",
    "    for client_id, client_result in client_results.items():\n",
    "        config = client_result['config']\n",
    "        print(f\"     {client_id}: depth={config.depth}, sums={config.num_sums}, leaves={config.num_leaves}\")\n",
    "\n",
    "# 性能分析\n",
    "print(\"\\n📈 性能分析:\")\n",
    "print(\"\\n   🏆 **最佳表現**:\")\n",
    "best_test_acc = max([data['eval']['ensemble_accuracy'] for data in all_results.values()])\n",
    "best_method = [name for name, data in all_results.items() \n",
    "               if data['eval']['ensemble_accuracy'] == best_test_acc][0]\n",
    "print(f\"      • 測試準確率最高: {best_method} ({best_test_acc:.3f})\")\n",
    "\n",
    "fastest_time = min([data['results']['total_training_time'] for data in all_results.values()])\n",
    "fastest_method = [name for name, data in all_results.items() \n",
    "                  if data['results']['total_training_time'] == fastest_time][0]\n",
    "print(f\"      • 訓練速度最快: {fastest_method} ({fastest_time:.2f}s)\")\n"
   ],
   "id": "76a0c631b379072a",
   "outputs": [
    {
     "name": "stdout",
     "output_type": "stream",
     "text": [
      "\n",
      "================================================================================\n",
      "📊 Simple-EiNet 聲邦學習實驗結果總結與分析\n",
      "================================================================================\n",
      "\n",
      "🎯 Simple-EiNet API 實驗結果對比:\n",
      "--------------------------------------------------------------------------------------------------------------\n",
      "方法                   描述                     客戶端數     訓練準確率        測試準確率        訓練時間(s)      集成方法        \n",
      "--------------------------------------------------------------------------------------------------------------\n",
      "水平聯邦學習 (EiNet)       相同特徵，不同樣本              3        77.127       0.767        25.77        投票          \n",
      "垂直聯邦學習 (EiNet)       相同樣本，不同特徵              3        71.920       0.784        16.83        投票          \n",
      "混合聯邦學習 (EiNet)       不同樣本+特徵，具有重疊           4        69.877       0.777        4.55         投票          \n",
      "--------------------------------------------------------------------------------------------------------------\n",
      "\n",
      "🔧 Simple-EiNet API 特色功能展示:\n",
      "\n",
      "1️⃣ **Domain 自動設定**\n",
      "   水平聯邦學習 (EiNet):\n",
      "     client_0: 14 個 Domain (對應 14 個特徵)\n",
      "     client_1: 14 個 Domain (對應 14 個特徵)\n",
      "     client_2: 14 個 Domain (對應 14 個特徵)\n",
      "   垂直聯邦學習 (EiNet):\n",
      "     client_0: 4 個 Domain (對應 4 個特徵)\n",
      "     client_1: 4 個 Domain (對應 4 個特徵)\n",
      "     client_2: 6 個 Domain (對應 6 個特徵)\n",
      "   混合聯邦學習 (EiNet):\n",
      "     client_0: 3 個 Domain (對應 3 個特徵)\n",
      "     client_1: 3 個 Domain (對應 3 個特徵)\n",
      "     client_2: 3 個 Domain (對應 3 個特徵)\n",
      "     client_3: 3 個 Domain (對應 3 個特徵)\n",
      "\n",
      "2️⃣ **EiNet 模型配置自動調整**\n",
      "   水平聯邦學習 (EiNet):\n",
      "     client_0: depth=2, sums=12, leaves=12\n",
      "     client_1: depth=2, sums=12, leaves=12\n",
      "     client_2: depth=2, sums=12, leaves=12\n",
      "   垂直聯邦學習 (EiNet):\n",
      "     client_0: depth=1, sums=8, leaves=8\n",
      "     client_1: depth=1, sums=8, leaves=8\n",
      "     client_2: depth=2, sums=12, leaves=12\n",
      "   混合聯邦學習 (EiNet):\n",
      "     client_0: depth=1, sums=8, leaves=8\n",
      "     client_1: depth=1, sums=8, leaves=8\n",
      "     client_2: depth=1, sums=8, leaves=8\n",
      "     client_3: depth=1, sums=8, leaves=8\n",
      "\n",
      "📈 性能分析:\n",
      "\n",
      "   🏆 **最佳表現**:\n",
      "      • 測試準確率最高: 垂直聯邦學習 (EiNet) (0.784)\n",
      "      • 訓練速度最快: 混合聯邦學習 (EiNet) (4.55s)\n"
     ]
    }
   ],
   "execution_count": 217
  },
  {
   "metadata": {
    "ExecuteTime": {
     "end_time": "2025-08-28T19:49:49.245148Z",
     "start_time": "2025-08-28T19:49:49.241135Z"
    }
   },
   "cell_type": "code",
   "source": "horizontal_results",
   "id": "8bea47f89c34f7dc",
   "outputs": [
    {
     "data": {
      "text/plain": [
       "{'type': 'horizontal',\n",
       " 'client_results': {'client_0': {'train_accuracy': tensor(77.3443),\n",
       "   'train_f1': 50.68946154750993,\n",
       "   'training_time': 8.634259939193726,\n",
       "   'n_samples': 10099,\n",
       "   'n_features': 14,\n",
       "   'feature_overlap': ['age',\n",
       "    'fnlwgt',\n",
       "    'education-num',\n",
       "    'capital-gain',\n",
       "    'capital-loss',\n",
       "    'hours-per-week',\n",
       "    'workclass',\n",
       "    'education',\n",
       "    'marital-status',\n",
       "    'occupation',\n",
       "    'relationship',\n",
       "    'race',\n",
       "    'sex',\n",
       "    'native-country'],\n",
       "   'config': EinetConfig(num_features=14, num_channels=1, num_sums=12, num_leaves=12, num_repetitions=3, num_classes=2, depth=2, dropout=0.0, leaf_type=<class 'simple_einet.layers.distributions.piecewise_linear.PiecewiseLinear'>, leaf_kwargs={'alpha': 0.1}, layer_type='linsum', structure='top-down'),\n",
       "   'domains_count': 14},\n",
       "  'client_1': {'train_accuracy': tensor(77.0175),\n",
       "   'train_f1': 58.75558478665693,\n",
       "   'training_time': 7.875133991241455,\n",
       "   'n_samples': 10099,\n",
       "   'n_features': 14,\n",
       "   'feature_overlap': ['age',\n",
       "    'fnlwgt',\n",
       "    'education-num',\n",
       "    'capital-gain',\n",
       "    'capital-loss',\n",
       "    'hours-per-week',\n",
       "    'workclass',\n",
       "    'education',\n",
       "    'marital-status',\n",
       "    'occupation',\n",
       "    'relationship',\n",
       "    'race',\n",
       "    'sex',\n",
       "    'native-country'],\n",
       "   'config': EinetConfig(num_features=14, num_channels=1, num_sums=12, num_leaves=12, num_repetitions=3, num_classes=2, depth=2, dropout=0.0, leaf_type=<class 'simple_einet.layers.distributions.piecewise_linear.PiecewiseLinear'>, leaf_kwargs={'alpha': 0.1}, layer_type='linsum', structure='top-down'),\n",
       "   'domains_count': 14},\n",
       "  'client_2': {'train_accuracy': tensor(77.0198),\n",
       "   'train_f1': 54.90401022294527,\n",
       "   'training_time': 7.910770893096924,\n",
       "   'n_samples': 10100,\n",
       "   'n_features': 14,\n",
       "   'feature_overlap': ['age',\n",
       "    'fnlwgt',\n",
       "    'education-num',\n",
       "    'capital-gain',\n",
       "    'capital-loss',\n",
       "    'hours-per-week',\n",
       "    'workclass',\n",
       "    'education',\n",
       "    'marital-status',\n",
       "    'occupation',\n",
       "    'relationship',\n",
       "    'race',\n",
       "    'sex',\n",
       "    'native-country'],\n",
       "   'config': EinetConfig(num_features=14, num_channels=1, num_sums=12, num_leaves=12, num_repetitions=3, num_classes=2, depth=2, dropout=0.0, leaf_type=<class 'simple_einet.layers.distributions.piecewise_linear.PiecewiseLinear'>, leaf_kwargs={'alpha': 0.1}, layer_type='linsum', structure='top-down'),\n",
       "   'domains_count': 14}},\n",
       " 'weighted_accuracy': tensor(77.1272),\n",
       " 'weighted_f1': 54.78302284574884,\n",
       " 'total_training_time': 25.765505075454712,\n",
       " 'total_samples': 30298,\n",
       " 'num_clients': 3}"
      ]
     },
     "execution_count": 230,
     "metadata": {},
     "output_type": "execute_result"
    }
   ],
   "execution_count": 230
  },
  {
   "metadata": {
    "ExecuteTime": {
     "end_time": "2025-08-28T19:50:50.826049Z",
     "start_time": "2025-08-28T19:50:50.803324Z"
    }
   },
   "cell_type": "code",
   "source": [
    "import plotly.graph_objects as go\n",
    "from plotly.subplots import make_subplots\n",
    "import pandas as pd\n",
    "\n",
    "# Create data from the provided JSON\n",
    "methods = ['Horizontal FL', 'Vertical FL', 'Hybrid FL']\n",
    "train_acc = [horizontal_results['weighted_accuracy'], vertical_results['weighted_accuracy'], hybrid_results['weighted_accuracy']]\n",
    "f1_acc = [horizontal_results['weighted_f1'], vertical_results['weighted_f1'], hybrid_results['weighted_f1']]\n",
    "train_time = [horizontal_results['total_training_time'], vertical_results['total_training_time'], hybrid_results['total_training_time']]\n",
    "clients = [horizontal_results['num_clients'], vertical_results['num_clients'], hybrid_results['num_clients']]\n",
    "samples = [horizontal_results['total_samples'], vertical_results['total_samples'], hybrid_results['total_samples']]  # in thousands\n",
    "\n",
    "colors = ['#F3AA60', '#EF6262', '#468897']\n",
    "\n",
    "# Create subplots with 2x2 layout\n",
    "fig = make_subplots(\n",
    "    rows=2, cols=2,\n",
    "    subplot_titles=('Accuracy Comparison', 'Training Time (s)', \n",
    "                   'Client Count', 'Sample Size (k)', ''),\n",
    "    specs=[[{\"secondary_y\": False}, {\"secondary_y\": False},],\n",
    "           [{\"secondary_y\": False}, {\"secondary_y\": False},]]\n",
    ")\n",
    "\n",
    "# Panel 1: Accuracy comparison (grouped bars)\n",
    "for i, method in enumerate(methods):\n",
    "    fig.add_trace(\n",
    "        go.Bar(name=f'Train {method}', x=[method], y=[train_acc[i]], \n",
    "               marker_color=colors[i], opacity=0.8, legendgroup=f'group{i}',\n",
    "               showlegend=False),\n",
    "        row=1, col=1\n",
    "    )\n",
    "\n",
    "# Panel 2: Training time\n",
    "fig.add_trace(\n",
    "    go.Bar(x=methods, y=train_time, marker_color=colors,\n",
    "           name='Train Time', showlegend=False),\n",
    "    row=1, col=2\n",
    ")\n",
    "\n",
    "# Panel 3: Client count\n",
    "fig.add_trace(\n",
    "    go.Bar(x=methods, y=clients, marker_color=colors,\n",
    "           name='Clients', showlegend=False),\n",
    "    row=2, col=1\n",
    ")\n",
    "\n",
    "# Panel 4: Sample size\n",
    "fig.add_trace(\n",
    "    go.Bar(x=methods, y=samples, marker_color=colors,\n",
    "           name='Samples', showlegend=False),\n",
    "    row=2, col=2\n",
    ")\n",
    "\n",
    "# Add method legend\n",
    "for i, method in enumerate(methods):\n",
    "    fig.add_trace(\n",
    "        go.Scatter(x=[None], y=[None], mode='markers',\n",
    "                  marker=dict(size=10, color=colors[i]),\n",
    "                  name=method, showlegend=True)\n",
    "    )\n",
    "\n",
    "# Update layout\n",
    "fig.update_layout(\n",
    "    title='FL Methods Multi-Panel Comparison',\n",
    "    legend=dict(orientation='h', yanchor='bottom', y=1.08, xanchor='center', x=0.5),\n",
    "    barmode='group'\n",
    ")\n",
    "\n",
    "# Update axes labels\n",
    "fig.update_yaxes(title_text=\"Accuracy & F1(%)\", row=1, col=1)\n",
    "fig.update_yaxes(title_text=\"Time (s)\", row=1, col=2)\n",
    "fig.update_yaxes(title_text=\"Count\", row=2, col=1)\n",
    "fig.update_yaxes(title_text=\"Samples (k)\", row=2, col=2)\n",
    "\n",
    "fig.update_traces(cliponaxis=False)\n",
    "\n",
    "# Save the chart\n",
    "fig.show()"
   ],
   "id": "3a6b23de33ae3f12",
   "outputs": [
    {
     "data": {
      "application/vnd.plotly.v1+json": {
       "data": [
        {
         "legendgroup": "group0",
         "marker": {
          "color": "#F3AA60"
         },
         "name": "Train Horizontal FL",
         "opacity": 0.8,
         "showlegend": false,
         "x": [
          "Horizontal FL"
         ],
         "y": [
          77.12720489501953
         ],
         "type": "bar",
         "xaxis": "x",
         "yaxis": "y",
         "cliponaxis": false
        },
        {
         "legendgroup": "group1",
         "marker": {
          "color": "#EF6262"
         },
         "name": "Train Vertical FL",
         "opacity": 0.8,
         "showlegend": false,
         "x": [
          "Vertical FL"
         ],
         "y": [
          71.92003631591797
         ],
         "type": "bar",
         "xaxis": "x",
         "yaxis": "y",
         "cliponaxis": false
        },
        {
         "legendgroup": "group2",
         "marker": {
          "color": "#468897"
         },
         "name": "Train Hybrid FL",
         "opacity": 0.8,
         "showlegend": false,
         "x": [
          "Hybrid FL"
         ],
         "y": [
          69.87676239013672
         ],
         "type": "bar",
         "xaxis": "x",
         "yaxis": "y",
         "cliponaxis": false
        },
        {
         "marker": {
          "color": [
           "#F3AA60",
           "#EF6262",
           "#468897"
          ]
         },
         "name": "Train Time",
         "showlegend": false,
         "x": [
          "Horizontal FL",
          "Vertical FL",
          "Hybrid FL"
         ],
         "y": [
          25.765505075454712,
          16.830388069152832,
          4.54571008682251
         ],
         "type": "bar",
         "xaxis": "x2",
         "yaxis": "y2",
         "cliponaxis": false
        },
        {
         "marker": {
          "color": [
           "#F3AA60",
           "#EF6262",
           "#468897"
          ]
         },
         "name": "Clients",
         "showlegend": false,
         "x": [
          "Horizontal FL",
          "Vertical FL",
          "Hybrid FL"
         ],
         "y": [
          3,
          3,
          4
         ],
         "type": "bar",
         "xaxis": "x3",
         "yaxis": "y3",
         "cliponaxis": false
        },
        {
         "marker": {
          "color": [
           "#F3AA60",
           "#EF6262",
           "#468897"
          ]
         },
         "name": "Samples",
         "showlegend": false,
         "x": [
          "Horizontal FL",
          "Vertical FL",
          "Hybrid FL"
         ],
         "y": [
          30298,
          90894,
          22720
         ],
         "type": "bar",
         "xaxis": "x4",
         "yaxis": "y4",
         "cliponaxis": false
        },
        {
         "marker": {
          "color": "#F3AA60",
          "size": 10
         },
         "mode": "markers",
         "name": "Horizontal FL",
         "showlegend": true,
         "x": [
          null
         ],
         "y": [
          null
         ],
         "type": "scatter",
         "cliponaxis": false
        },
        {
         "marker": {
          "color": "#EF6262",
          "size": 10
         },
         "mode": "markers",
         "name": "Vertical FL",
         "showlegend": true,
         "x": [
          null
         ],
         "y": [
          null
         ],
         "type": "scatter",
         "cliponaxis": false
        },
        {
         "marker": {
          "color": "#468897",
          "size": 10
         },
         "mode": "markers",
         "name": "Hybrid FL",
         "showlegend": true,
         "x": [
          null
         ],
         "y": [
          null
         ],
         "type": "scatter",
         "cliponaxis": false
        }
       ],
       "layout": {
        "template": {
         "data": {
          "histogram2dcontour": [
           {
            "type": "histogram2dcontour",
            "colorbar": {
             "outlinewidth": 0,
             "ticks": ""
            },
            "colorscale": [
             [
              0.0,
              "#0d0887"
             ],
             [
              0.1111111111111111,
              "#46039f"
             ],
             [
              0.2222222222222222,
              "#7201a8"
             ],
             [
              0.3333333333333333,
              "#9c179e"
             ],
             [
              0.4444444444444444,
              "#bd3786"
             ],
             [
              0.5555555555555556,
              "#d8576b"
             ],
             [
              0.6666666666666666,
              "#ed7953"
             ],
             [
              0.7777777777777778,
              "#fb9f3a"
             ],
             [
              0.8888888888888888,
              "#fdca26"
             ],
             [
              1.0,
              "#f0f921"
             ]
            ]
           }
          ],
          "choropleth": [
           {
            "type": "choropleth",
            "colorbar": {
             "outlinewidth": 0,
             "ticks": ""
            }
           }
          ],
          "histogram2d": [
           {
            "type": "histogram2d",
            "colorbar": {
             "outlinewidth": 0,
             "ticks": ""
            },
            "colorscale": [
             [
              0.0,
              "#0d0887"
             ],
             [
              0.1111111111111111,
              "#46039f"
             ],
             [
              0.2222222222222222,
              "#7201a8"
             ],
             [
              0.3333333333333333,
              "#9c179e"
             ],
             [
              0.4444444444444444,
              "#bd3786"
             ],
             [
              0.5555555555555556,
              "#d8576b"
             ],
             [
              0.6666666666666666,
              "#ed7953"
             ],
             [
              0.7777777777777778,
              "#fb9f3a"
             ],
             [
              0.8888888888888888,
              "#fdca26"
             ],
             [
              1.0,
              "#f0f921"
             ]
            ]
           }
          ],
          "heatmap": [
           {
            "type": "heatmap",
            "colorbar": {
             "outlinewidth": 0,
             "ticks": ""
            },
            "colorscale": [
             [
              0.0,
              "#0d0887"
             ],
             [
              0.1111111111111111,
              "#46039f"
             ],
             [
              0.2222222222222222,
              "#7201a8"
             ],
             [
              0.3333333333333333,
              "#9c179e"
             ],
             [
              0.4444444444444444,
              "#bd3786"
             ],
             [
              0.5555555555555556,
              "#d8576b"
             ],
             [
              0.6666666666666666,
              "#ed7953"
             ],
             [
              0.7777777777777778,
              "#fb9f3a"
             ],
             [
              0.8888888888888888,
              "#fdca26"
             ],
             [
              1.0,
              "#f0f921"
             ]
            ]
           }
          ],
          "contourcarpet": [
           {
            "type": "contourcarpet",
            "colorbar": {
             "outlinewidth": 0,
             "ticks": ""
            }
           }
          ],
          "contour": [
           {
            "type": "contour",
            "colorbar": {
             "outlinewidth": 0,
             "ticks": ""
            },
            "colorscale": [
             [
              0.0,
              "#0d0887"
             ],
             [
              0.1111111111111111,
              "#46039f"
             ],
             [
              0.2222222222222222,
              "#7201a8"
             ],
             [
              0.3333333333333333,
              "#9c179e"
             ],
             [
              0.4444444444444444,
              "#bd3786"
             ],
             [
              0.5555555555555556,
              "#d8576b"
             ],
             [
              0.6666666666666666,
              "#ed7953"
             ],
             [
              0.7777777777777778,
              "#fb9f3a"
             ],
             [
              0.8888888888888888,
              "#fdca26"
             ],
             [
              1.0,
              "#f0f921"
             ]
            ]
           }
          ],
          "surface": [
           {
            "type": "surface",
            "colorbar": {
             "outlinewidth": 0,
             "ticks": ""
            },
            "colorscale": [
             [
              0.0,
              "#0d0887"
             ],
             [
              0.1111111111111111,
              "#46039f"
             ],
             [
              0.2222222222222222,
              "#7201a8"
             ],
             [
              0.3333333333333333,
              "#9c179e"
             ],
             [
              0.4444444444444444,
              "#bd3786"
             ],
             [
              0.5555555555555556,
              "#d8576b"
             ],
             [
              0.6666666666666666,
              "#ed7953"
             ],
             [
              0.7777777777777778,
              "#fb9f3a"
             ],
             [
              0.8888888888888888,
              "#fdca26"
             ],
             [
              1.0,
              "#f0f921"
             ]
            ]
           }
          ],
          "mesh3d": [
           {
            "type": "mesh3d",
            "colorbar": {
             "outlinewidth": 0,
             "ticks": ""
            }
           }
          ],
          "scatter": [
           {
            "fillpattern": {
             "fillmode": "overlay",
             "size": 10,
             "solidity": 0.2
            },
            "type": "scatter"
           }
          ],
          "parcoords": [
           {
            "type": "parcoords",
            "line": {
             "colorbar": {
              "outlinewidth": 0,
              "ticks": ""
             }
            }
           }
          ],
          "scatterpolargl": [
           {
            "type": "scatterpolargl",
            "marker": {
             "colorbar": {
              "outlinewidth": 0,
              "ticks": ""
             }
            }
           }
          ],
          "bar": [
           {
            "error_x": {
             "color": "#2a3f5f"
            },
            "error_y": {
             "color": "#2a3f5f"
            },
            "marker": {
             "line": {
              "color": "#E5ECF6",
              "width": 0.5
             },
             "pattern": {
              "fillmode": "overlay",
              "size": 10,
              "solidity": 0.2
             }
            },
            "type": "bar"
           }
          ],
          "scattergeo": [
           {
            "type": "scattergeo",
            "marker": {
             "colorbar": {
              "outlinewidth": 0,
              "ticks": ""
             }
            }
           }
          ],
          "scatterpolar": [
           {
            "type": "scatterpolar",
            "marker": {
             "colorbar": {
              "outlinewidth": 0,
              "ticks": ""
             }
            }
           }
          ],
          "histogram": [
           {
            "marker": {
             "pattern": {
              "fillmode": "overlay",
              "size": 10,
              "solidity": 0.2
             }
            },
            "type": "histogram"
           }
          ],
          "scattergl": [
           {
            "type": "scattergl",
            "marker": {
             "colorbar": {
              "outlinewidth": 0,
              "ticks": ""
             }
            }
           }
          ],
          "scatter3d": [
           {
            "type": "scatter3d",
            "line": {
             "colorbar": {
              "outlinewidth": 0,
              "ticks": ""
             }
            },
            "marker": {
             "colorbar": {
              "outlinewidth": 0,
              "ticks": ""
             }
            }
           }
          ],
          "scattermap": [
           {
            "type": "scattermap",
            "marker": {
             "colorbar": {
              "outlinewidth": 0,
              "ticks": ""
             }
            }
           }
          ],
          "scattermapbox": [
           {
            "type": "scattermapbox",
            "marker": {
             "colorbar": {
              "outlinewidth": 0,
              "ticks": ""
             }
            }
           }
          ],
          "scatterternary": [
           {
            "type": "scatterternary",
            "marker": {
             "colorbar": {
              "outlinewidth": 0,
              "ticks": ""
             }
            }
           }
          ],
          "scattercarpet": [
           {
            "type": "scattercarpet",
            "marker": {
             "colorbar": {
              "outlinewidth": 0,
              "ticks": ""
             }
            }
           }
          ],
          "carpet": [
           {
            "aaxis": {
             "endlinecolor": "#2a3f5f",
             "gridcolor": "white",
             "linecolor": "white",
             "minorgridcolor": "white",
             "startlinecolor": "#2a3f5f"
            },
            "baxis": {
             "endlinecolor": "#2a3f5f",
             "gridcolor": "white",
             "linecolor": "white",
             "minorgridcolor": "white",
             "startlinecolor": "#2a3f5f"
            },
            "type": "carpet"
           }
          ],
          "table": [
           {
            "cells": {
             "fill": {
              "color": "#EBF0F8"
             },
             "line": {
              "color": "white"
             }
            },
            "header": {
             "fill": {
              "color": "#C8D4E3"
             },
             "line": {
              "color": "white"
             }
            },
            "type": "table"
           }
          ],
          "barpolar": [
           {
            "marker": {
             "line": {
              "color": "#E5ECF6",
              "width": 0.5
             },
             "pattern": {
              "fillmode": "overlay",
              "size": 10,
              "solidity": 0.2
             }
            },
            "type": "barpolar"
           }
          ],
          "pie": [
           {
            "automargin": true,
            "type": "pie"
           }
          ]
         },
         "layout": {
          "autotypenumbers": "strict",
          "colorway": [
           "#636efa",
           "#EF553B",
           "#00cc96",
           "#ab63fa",
           "#FFA15A",
           "#19d3f3",
           "#FF6692",
           "#B6E880",
           "#FF97FF",
           "#FECB52"
          ],
          "font": {
           "color": "#2a3f5f"
          },
          "hovermode": "closest",
          "hoverlabel": {
           "align": "left"
          },
          "paper_bgcolor": "white",
          "plot_bgcolor": "#E5ECF6",
          "polar": {
           "bgcolor": "#E5ECF6",
           "angularaxis": {
            "gridcolor": "white",
            "linecolor": "white",
            "ticks": ""
           },
           "radialaxis": {
            "gridcolor": "white",
            "linecolor": "white",
            "ticks": ""
           }
          },
          "ternary": {
           "bgcolor": "#E5ECF6",
           "aaxis": {
            "gridcolor": "white",
            "linecolor": "white",
            "ticks": ""
           },
           "baxis": {
            "gridcolor": "white",
            "linecolor": "white",
            "ticks": ""
           },
           "caxis": {
            "gridcolor": "white",
            "linecolor": "white",
            "ticks": ""
           }
          },
          "coloraxis": {
           "colorbar": {
            "outlinewidth": 0,
            "ticks": ""
           }
          },
          "colorscale": {
           "sequential": [
            [
             0.0,
             "#0d0887"
            ],
            [
             0.1111111111111111,
             "#46039f"
            ],
            [
             0.2222222222222222,
             "#7201a8"
            ],
            [
             0.3333333333333333,
             "#9c179e"
            ],
            [
             0.4444444444444444,
             "#bd3786"
            ],
            [
             0.5555555555555556,
             "#d8576b"
            ],
            [
             0.6666666666666666,
             "#ed7953"
            ],
            [
             0.7777777777777778,
             "#fb9f3a"
            ],
            [
             0.8888888888888888,
             "#fdca26"
            ],
            [
             1.0,
             "#f0f921"
            ]
           ],
           "sequentialminus": [
            [
             0.0,
             "#0d0887"
            ],
            [
             0.1111111111111111,
             "#46039f"
            ],
            [
             0.2222222222222222,
             "#7201a8"
            ],
            [
             0.3333333333333333,
             "#9c179e"
            ],
            [
             0.4444444444444444,
             "#bd3786"
            ],
            [
             0.5555555555555556,
             "#d8576b"
            ],
            [
             0.6666666666666666,
             "#ed7953"
            ],
            [
             0.7777777777777778,
             "#fb9f3a"
            ],
            [
             0.8888888888888888,
             "#fdca26"
            ],
            [
             1.0,
             "#f0f921"
            ]
           ],
           "diverging": [
            [
             0,
             "#8e0152"
            ],
            [
             0.1,
             "#c51b7d"
            ],
            [
             0.2,
             "#de77ae"
            ],
            [
             0.3,
             "#f1b6da"
            ],
            [
             0.4,
             "#fde0ef"
            ],
            [
             0.5,
             "#f7f7f7"
            ],
            [
             0.6,
             "#e6f5d0"
            ],
            [
             0.7,
             "#b8e186"
            ],
            [
             0.8,
             "#7fbc41"
            ],
            [
             0.9,
             "#4d9221"
            ],
            [
             1,
             "#276419"
            ]
           ]
          },
          "xaxis": {
           "gridcolor": "white",
           "linecolor": "white",
           "ticks": "",
           "title": {
            "standoff": 15
           },
           "zerolinecolor": "white",
           "automargin": true,
           "zerolinewidth": 2
          },
          "yaxis": {
           "gridcolor": "white",
           "linecolor": "white",
           "ticks": "",
           "title": {
            "standoff": 15
           },
           "zerolinecolor": "white",
           "automargin": true,
           "zerolinewidth": 2
          },
          "scene": {
           "xaxis": {
            "backgroundcolor": "#E5ECF6",
            "gridcolor": "white",
            "linecolor": "white",
            "showbackground": true,
            "ticks": "",
            "zerolinecolor": "white",
            "gridwidth": 2
           },
           "yaxis": {
            "backgroundcolor": "#E5ECF6",
            "gridcolor": "white",
            "linecolor": "white",
            "showbackground": true,
            "ticks": "",
            "zerolinecolor": "white",
            "gridwidth": 2
           },
           "zaxis": {
            "backgroundcolor": "#E5ECF6",
            "gridcolor": "white",
            "linecolor": "white",
            "showbackground": true,
            "ticks": "",
            "zerolinecolor": "white",
            "gridwidth": 2
           }
          },
          "shapedefaults": {
           "line": {
            "color": "#2a3f5f"
           }
          },
          "annotationdefaults": {
           "arrowcolor": "#2a3f5f",
           "arrowhead": 0,
           "arrowwidth": 1
          },
          "geo": {
           "bgcolor": "white",
           "landcolor": "#E5ECF6",
           "subunitcolor": "white",
           "showland": true,
           "showlakes": true,
           "lakecolor": "white"
          },
          "title": {
           "x": 0.05
          },
          "mapbox": {
           "style": "light"
          }
         }
        },
        "xaxis": {
         "anchor": "y",
         "domain": [
          0.0,
          0.45
         ]
        },
        "yaxis": {
         "anchor": "x",
         "domain": [
          0.625,
          1.0
         ],
         "title": {
          "text": "Accuracy & F1(%)"
         }
        },
        "xaxis2": {
         "anchor": "y2",
         "domain": [
          0.55,
          1.0
         ]
        },
        "yaxis2": {
         "anchor": "x2",
         "domain": [
          0.625,
          1.0
         ],
         "title": {
          "text": "Time (s)"
         }
        },
        "xaxis3": {
         "anchor": "y3",
         "domain": [
          0.0,
          0.45
         ]
        },
        "yaxis3": {
         "anchor": "x3",
         "domain": [
          0.0,
          0.375
         ],
         "title": {
          "text": "Count"
         }
        },
        "xaxis4": {
         "anchor": "y4",
         "domain": [
          0.55,
          1.0
         ]
        },
        "yaxis4": {
         "anchor": "x4",
         "domain": [
          0.0,
          0.375
         ],
         "title": {
          "text": "Samples (k)"
         }
        },
        "annotations": [
         {
          "font": {
           "size": 16
          },
          "showarrow": false,
          "text": "Accuracy Comparison",
          "x": 0.225,
          "xanchor": "center",
          "xref": "paper",
          "y": 1.0,
          "yanchor": "bottom",
          "yref": "paper"
         },
         {
          "font": {
           "size": 16
          },
          "showarrow": false,
          "text": "Training Time (s)",
          "x": 0.775,
          "xanchor": "center",
          "xref": "paper",
          "y": 1.0,
          "yanchor": "bottom",
          "yref": "paper"
         },
         {
          "font": {
           "size": 16
          },
          "showarrow": false,
          "text": "Client Count",
          "x": 0.225,
          "xanchor": "center",
          "xref": "paper",
          "y": 0.375,
          "yanchor": "bottom",
          "yref": "paper"
         },
         {
          "font": {
           "size": 16
          },
          "showarrow": false,
          "text": "Sample Size (k)",
          "x": 0.775,
          "xanchor": "center",
          "xref": "paper",
          "y": 0.375,
          "yanchor": "bottom",
          "yref": "paper"
         }
        ],
        "legend": {
         "orientation": "h",
         "yanchor": "bottom",
         "y": 1.08,
         "xanchor": "center",
         "x": 0.5
        },
        "title": {
         "text": "FL Methods Multi-Panel Comparison"
        },
        "barmode": "group"
       },
       "config": {
        "plotlyServerURL": "https://plot.ly"
       }
      }
     },
     "metadata": {},
     "output_type": "display_data"
    }
   ],
   "execution_count": 231
  },
  {
   "metadata": {
    "ExecuteTime": {
     "end_time": "2025-08-28T19:53:15.577201Z",
     "start_time": "2025-08-28T19:53:15.568648Z"
    }
   },
   "cell_type": "code",
   "source": [
    "fig = go.Figure()\n",
    "for i, method in enumerate(methods):\n",
    "    fig.add_trace(\n",
    "            go.Bar(name=f'Train {method}', x=[method], y=[train_acc[i]], \n",
    "                   marker_color=colors[i], opacity=0.8, legendgroup=f'group{i}',\n",
    "                   showlegend=False),\n",
    "        )\n",
    "fig.update_yaxes(range=[0, 100]) \n",
    "fig.update_layout(title='F1', width=500, )\n",
    "fig.show()\n"
   ],
   "id": "3a7e2900ae2ada7d",
   "outputs": [
    {
     "data": {
      "application/vnd.plotly.v1+json": {
       "data": [
        {
         "legendgroup": "group0",
         "marker": {
          "color": "#F3AA60"
         },
         "name": "Train Horizontal FL",
         "opacity": 0.8,
         "showlegend": false,
         "x": [
          "Horizontal FL"
         ],
         "y": [
          77.12720489501953
         ],
         "type": "bar"
        },
        {
         "legendgroup": "group1",
         "marker": {
          "color": "#EF6262"
         },
         "name": "Train Vertical FL",
         "opacity": 0.8,
         "showlegend": false,
         "x": [
          "Vertical FL"
         ],
         "y": [
          71.92003631591797
         ],
         "type": "bar"
        },
        {
         "legendgroup": "group2",
         "marker": {
          "color": "#468897"
         },
         "name": "Train Hybrid FL",
         "opacity": 0.8,
         "showlegend": false,
         "x": [
          "Hybrid FL"
         ],
         "y": [
          69.87676239013672
         ],
         "type": "bar"
        }
       ],
       "layout": {
        "template": {
         "data": {
          "histogram2dcontour": [
           {
            "type": "histogram2dcontour",
            "colorbar": {
             "outlinewidth": 0,
             "ticks": ""
            },
            "colorscale": [
             [
              0.0,
              "#0d0887"
             ],
             [
              0.1111111111111111,
              "#46039f"
             ],
             [
              0.2222222222222222,
              "#7201a8"
             ],
             [
              0.3333333333333333,
              "#9c179e"
             ],
             [
              0.4444444444444444,
              "#bd3786"
             ],
             [
              0.5555555555555556,
              "#d8576b"
             ],
             [
              0.6666666666666666,
              "#ed7953"
             ],
             [
              0.7777777777777778,
              "#fb9f3a"
             ],
             [
              0.8888888888888888,
              "#fdca26"
             ],
             [
              1.0,
              "#f0f921"
             ]
            ]
           }
          ],
          "choropleth": [
           {
            "type": "choropleth",
            "colorbar": {
             "outlinewidth": 0,
             "ticks": ""
            }
           }
          ],
          "histogram2d": [
           {
            "type": "histogram2d",
            "colorbar": {
             "outlinewidth": 0,
             "ticks": ""
            },
            "colorscale": [
             [
              0.0,
              "#0d0887"
             ],
             [
              0.1111111111111111,
              "#46039f"
             ],
             [
              0.2222222222222222,
              "#7201a8"
             ],
             [
              0.3333333333333333,
              "#9c179e"
             ],
             [
              0.4444444444444444,
              "#bd3786"
             ],
             [
              0.5555555555555556,
              "#d8576b"
             ],
             [
              0.6666666666666666,
              "#ed7953"
             ],
             [
              0.7777777777777778,
              "#fb9f3a"
             ],
             [
              0.8888888888888888,
              "#fdca26"
             ],
             [
              1.0,
              "#f0f921"
             ]
            ]
           }
          ],
          "heatmap": [
           {
            "type": "heatmap",
            "colorbar": {
             "outlinewidth": 0,
             "ticks": ""
            },
            "colorscale": [
             [
              0.0,
              "#0d0887"
             ],
             [
              0.1111111111111111,
              "#46039f"
             ],
             [
              0.2222222222222222,
              "#7201a8"
             ],
             [
              0.3333333333333333,
              "#9c179e"
             ],
             [
              0.4444444444444444,
              "#bd3786"
             ],
             [
              0.5555555555555556,
              "#d8576b"
             ],
             [
              0.6666666666666666,
              "#ed7953"
             ],
             [
              0.7777777777777778,
              "#fb9f3a"
             ],
             [
              0.8888888888888888,
              "#fdca26"
             ],
             [
              1.0,
              "#f0f921"
             ]
            ]
           }
          ],
          "contourcarpet": [
           {
            "type": "contourcarpet",
            "colorbar": {
             "outlinewidth": 0,
             "ticks": ""
            }
           }
          ],
          "contour": [
           {
            "type": "contour",
            "colorbar": {
             "outlinewidth": 0,
             "ticks": ""
            },
            "colorscale": [
             [
              0.0,
              "#0d0887"
             ],
             [
              0.1111111111111111,
              "#46039f"
             ],
             [
              0.2222222222222222,
              "#7201a8"
             ],
             [
              0.3333333333333333,
              "#9c179e"
             ],
             [
              0.4444444444444444,
              "#bd3786"
             ],
             [
              0.5555555555555556,
              "#d8576b"
             ],
             [
              0.6666666666666666,
              "#ed7953"
             ],
             [
              0.7777777777777778,
              "#fb9f3a"
             ],
             [
              0.8888888888888888,
              "#fdca26"
             ],
             [
              1.0,
              "#f0f921"
             ]
            ]
           }
          ],
          "surface": [
           {
            "type": "surface",
            "colorbar": {
             "outlinewidth": 0,
             "ticks": ""
            },
            "colorscale": [
             [
              0.0,
              "#0d0887"
             ],
             [
              0.1111111111111111,
              "#46039f"
             ],
             [
              0.2222222222222222,
              "#7201a8"
             ],
             [
              0.3333333333333333,
              "#9c179e"
             ],
             [
              0.4444444444444444,
              "#bd3786"
             ],
             [
              0.5555555555555556,
              "#d8576b"
             ],
             [
              0.6666666666666666,
              "#ed7953"
             ],
             [
              0.7777777777777778,
              "#fb9f3a"
             ],
             [
              0.8888888888888888,
              "#fdca26"
             ],
             [
              1.0,
              "#f0f921"
             ]
            ]
           }
          ],
          "mesh3d": [
           {
            "type": "mesh3d",
            "colorbar": {
             "outlinewidth": 0,
             "ticks": ""
            }
           }
          ],
          "scatter": [
           {
            "fillpattern": {
             "fillmode": "overlay",
             "size": 10,
             "solidity": 0.2
            },
            "type": "scatter"
           }
          ],
          "parcoords": [
           {
            "type": "parcoords",
            "line": {
             "colorbar": {
              "outlinewidth": 0,
              "ticks": ""
             }
            }
           }
          ],
          "scatterpolargl": [
           {
            "type": "scatterpolargl",
            "marker": {
             "colorbar": {
              "outlinewidth": 0,
              "ticks": ""
             }
            }
           }
          ],
          "bar": [
           {
            "error_x": {
             "color": "#2a3f5f"
            },
            "error_y": {
             "color": "#2a3f5f"
            },
            "marker": {
             "line": {
              "color": "#E5ECF6",
              "width": 0.5
             },
             "pattern": {
              "fillmode": "overlay",
              "size": 10,
              "solidity": 0.2
             }
            },
            "type": "bar"
           }
          ],
          "scattergeo": [
           {
            "type": "scattergeo",
            "marker": {
             "colorbar": {
              "outlinewidth": 0,
              "ticks": ""
             }
            }
           }
          ],
          "scatterpolar": [
           {
            "type": "scatterpolar",
            "marker": {
             "colorbar": {
              "outlinewidth": 0,
              "ticks": ""
             }
            }
           }
          ],
          "histogram": [
           {
            "marker": {
             "pattern": {
              "fillmode": "overlay",
              "size": 10,
              "solidity": 0.2
             }
            },
            "type": "histogram"
           }
          ],
          "scattergl": [
           {
            "type": "scattergl",
            "marker": {
             "colorbar": {
              "outlinewidth": 0,
              "ticks": ""
             }
            }
           }
          ],
          "scatter3d": [
           {
            "type": "scatter3d",
            "line": {
             "colorbar": {
              "outlinewidth": 0,
              "ticks": ""
             }
            },
            "marker": {
             "colorbar": {
              "outlinewidth": 0,
              "ticks": ""
             }
            }
           }
          ],
          "scattermap": [
           {
            "type": "scattermap",
            "marker": {
             "colorbar": {
              "outlinewidth": 0,
              "ticks": ""
             }
            }
           }
          ],
          "scattermapbox": [
           {
            "type": "scattermapbox",
            "marker": {
             "colorbar": {
              "outlinewidth": 0,
              "ticks": ""
             }
            }
           }
          ],
          "scatterternary": [
           {
            "type": "scatterternary",
            "marker": {
             "colorbar": {
              "outlinewidth": 0,
              "ticks": ""
             }
            }
           }
          ],
          "scattercarpet": [
           {
            "type": "scattercarpet",
            "marker": {
             "colorbar": {
              "outlinewidth": 0,
              "ticks": ""
             }
            }
           }
          ],
          "carpet": [
           {
            "aaxis": {
             "endlinecolor": "#2a3f5f",
             "gridcolor": "white",
             "linecolor": "white",
             "minorgridcolor": "white",
             "startlinecolor": "#2a3f5f"
            },
            "baxis": {
             "endlinecolor": "#2a3f5f",
             "gridcolor": "white",
             "linecolor": "white",
             "minorgridcolor": "white",
             "startlinecolor": "#2a3f5f"
            },
            "type": "carpet"
           }
          ],
          "table": [
           {
            "cells": {
             "fill": {
              "color": "#EBF0F8"
             },
             "line": {
              "color": "white"
             }
            },
            "header": {
             "fill": {
              "color": "#C8D4E3"
             },
             "line": {
              "color": "white"
             }
            },
            "type": "table"
           }
          ],
          "barpolar": [
           {
            "marker": {
             "line": {
              "color": "#E5ECF6",
              "width": 0.5
             },
             "pattern": {
              "fillmode": "overlay",
              "size": 10,
              "solidity": 0.2
             }
            },
            "type": "barpolar"
           }
          ],
          "pie": [
           {
            "automargin": true,
            "type": "pie"
           }
          ]
         },
         "layout": {
          "autotypenumbers": "strict",
          "colorway": [
           "#636efa",
           "#EF553B",
           "#00cc96",
           "#ab63fa",
           "#FFA15A",
           "#19d3f3",
           "#FF6692",
           "#B6E880",
           "#FF97FF",
           "#FECB52"
          ],
          "font": {
           "color": "#2a3f5f"
          },
          "hovermode": "closest",
          "hoverlabel": {
           "align": "left"
          },
          "paper_bgcolor": "white",
          "plot_bgcolor": "#E5ECF6",
          "polar": {
           "bgcolor": "#E5ECF6",
           "angularaxis": {
            "gridcolor": "white",
            "linecolor": "white",
            "ticks": ""
           },
           "radialaxis": {
            "gridcolor": "white",
            "linecolor": "white",
            "ticks": ""
           }
          },
          "ternary": {
           "bgcolor": "#E5ECF6",
           "aaxis": {
            "gridcolor": "white",
            "linecolor": "white",
            "ticks": ""
           },
           "baxis": {
            "gridcolor": "white",
            "linecolor": "white",
            "ticks": ""
           },
           "caxis": {
            "gridcolor": "white",
            "linecolor": "white",
            "ticks": ""
           }
          },
          "coloraxis": {
           "colorbar": {
            "outlinewidth": 0,
            "ticks": ""
           }
          },
          "colorscale": {
           "sequential": [
            [
             0.0,
             "#0d0887"
            ],
            [
             0.1111111111111111,
             "#46039f"
            ],
            [
             0.2222222222222222,
             "#7201a8"
            ],
            [
             0.3333333333333333,
             "#9c179e"
            ],
            [
             0.4444444444444444,
             "#bd3786"
            ],
            [
             0.5555555555555556,
             "#d8576b"
            ],
            [
             0.6666666666666666,
             "#ed7953"
            ],
            [
             0.7777777777777778,
             "#fb9f3a"
            ],
            [
             0.8888888888888888,
             "#fdca26"
            ],
            [
             1.0,
             "#f0f921"
            ]
           ],
           "sequentialminus": [
            [
             0.0,
             "#0d0887"
            ],
            [
             0.1111111111111111,
             "#46039f"
            ],
            [
             0.2222222222222222,
             "#7201a8"
            ],
            [
             0.3333333333333333,
             "#9c179e"
            ],
            [
             0.4444444444444444,
             "#bd3786"
            ],
            [
             0.5555555555555556,
             "#d8576b"
            ],
            [
             0.6666666666666666,
             "#ed7953"
            ],
            [
             0.7777777777777778,
             "#fb9f3a"
            ],
            [
             0.8888888888888888,
             "#fdca26"
            ],
            [
             1.0,
             "#f0f921"
            ]
           ],
           "diverging": [
            [
             0,
             "#8e0152"
            ],
            [
             0.1,
             "#c51b7d"
            ],
            [
             0.2,
             "#de77ae"
            ],
            [
             0.3,
             "#f1b6da"
            ],
            [
             0.4,
             "#fde0ef"
            ],
            [
             0.5,
             "#f7f7f7"
            ],
            [
             0.6,
             "#e6f5d0"
            ],
            [
             0.7,
             "#b8e186"
            ],
            [
             0.8,
             "#7fbc41"
            ],
            [
             0.9,
             "#4d9221"
            ],
            [
             1,
             "#276419"
            ]
           ]
          },
          "xaxis": {
           "gridcolor": "white",
           "linecolor": "white",
           "ticks": "",
           "title": {
            "standoff": 15
           },
           "zerolinecolor": "white",
           "automargin": true,
           "zerolinewidth": 2
          },
          "yaxis": {
           "gridcolor": "white",
           "linecolor": "white",
           "ticks": "",
           "title": {
            "standoff": 15
           },
           "zerolinecolor": "white",
           "automargin": true,
           "zerolinewidth": 2
          },
          "scene": {
           "xaxis": {
            "backgroundcolor": "#E5ECF6",
            "gridcolor": "white",
            "linecolor": "white",
            "showbackground": true,
            "ticks": "",
            "zerolinecolor": "white",
            "gridwidth": 2
           },
           "yaxis": {
            "backgroundcolor": "#E5ECF6",
            "gridcolor": "white",
            "linecolor": "white",
            "showbackground": true,
            "ticks": "",
            "zerolinecolor": "white",
            "gridwidth": 2
           },
           "zaxis": {
            "backgroundcolor": "#E5ECF6",
            "gridcolor": "white",
            "linecolor": "white",
            "showbackground": true,
            "ticks": "",
            "zerolinecolor": "white",
            "gridwidth": 2
           }
          },
          "shapedefaults": {
           "line": {
            "color": "#2a3f5f"
           }
          },
          "annotationdefaults": {
           "arrowcolor": "#2a3f5f",
           "arrowhead": 0,
           "arrowwidth": 1
          },
          "geo": {
           "bgcolor": "white",
           "landcolor": "#E5ECF6",
           "subunitcolor": "white",
           "showland": true,
           "showlakes": true,
           "lakecolor": "white"
          },
          "title": {
           "x": 0.05
          },
          "mapbox": {
           "style": "light"
          }
         }
        },
        "yaxis": {
         "range": [
          0,
          100
         ]
        },
        "title": {
         "text": "F1"
        },
        "width": 500
       },
       "config": {
        "plotlyServerURL": "https://plot.ly"
       }
      }
     },
     "metadata": {},
     "output_type": "display_data"
    }
   ],
   "execution_count": 238
  },
  {
   "metadata": {},
   "cell_type": "code",
   "outputs": [],
   "execution_count": null,
   "source": "",
   "id": "eb0309c816555568"
  }
 ],
 "metadata": {
  "kernelspec": {
   "display_name": "Python 3",
   "language": "python",
   "name": "python3"
  },
  "language_info": {
   "codemirror_mode": {
    "name": "ipython",
    "version": 2
   },
   "file_extension": ".py",
   "mimetype": "text/x-python",
   "name": "python",
   "nbconvert_exporter": "python",
   "pygments_lexer": "ipython2",
   "version": "2.7.6"
  }
 },
 "nbformat": 4,
 "nbformat_minor": 5
}
