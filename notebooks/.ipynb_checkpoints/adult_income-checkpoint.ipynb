{
 "cells": [
  {
   "cell_type": "code",
   "execution_count": 1,
   "id": "initial_id",
   "metadata": {
    "ExecuteTime": {
     "end_time": "2025-08-29T13:21:28.202834Z",
     "start_time": "2025-08-29T13:21:26.139264Z"
    },
    "collapsed": true,
    "jupyter": {
     "outputs_hidden": true
    }
   },
   "outputs": [
    {
     "data": {
      "text/plain": [
       "100"
      ]
     },
     "execution_count": 1,
     "metadata": {},
     "output_type": "execute_result"
    }
   ],
   "source": [
    "from fl_spn.partitioner import FederatedDataPartitioner\n",
    "from trainer import FederatedEiNetTrainer\n",
    "from utils import load_dataset\n",
    "from fl_spn.config import SupervisedFLConfig\n",
    "\n",
    "SupervisedFLConfig.epochs"
   ]
  },
  {
   "cell_type": "code",
   "execution_count": 2,
   "id": "9eada20cd7c73565",
   "metadata": {
    "ExecuteTime": {
     "end_time": "2025-08-29T13:21:29.040665Z",
     "start_time": "2025-08-29T13:21:28.875613Z"
    }
   },
   "outputs": [],
   "source": [
    "data = load_dataset(name=\"adult\")\n",
    "\n",
    "partitioner = FederatedDataPartitioner(\n",
    "    X=data[\"X_train\"],\n",
    "    y=data[\"y_train\"],\n",
    "    feature_names=data[\"X_processed\"].columns.tolist(),\n",
    "    numeric_features=data[\"numeric_features\"],\n",
    "    categorical_features=data[\"categorical_features\"],\n",
    ")"
   ]
  },
  {
   "cell_type": "code",
   "execution_count": 3,
   "id": "7cd76493e75b7653",
   "metadata": {
    "ExecuteTime": {
     "end_time": "2025-08-29T13:22:35.352300Z",
     "start_time": "2025-08-29T13:21:30.523708Z"
    }
   },
   "outputs": [
    {
     "name": "stderr",
     "output_type": "stream",
     "text": [
      "INFO:fl_spn.partitioner:🔄 Performing HORIZONTAL partitioning into 3 clients...\n",
      "INFO:fl_spn.partitioner:  Client 0: 12059 samples, 14 features\n",
      "INFO:fl_spn.partitioner:  Client 1: 12059 samples, 14 features\n",
      "INFO:fl_spn.partitioner:  Client 2: 12059 samples, 14 features\n",
      "INFO:trainer:\n",
      "🚀 Starting horizontal federated learning...\n",
      "INFO:trainer:Training parameters: epochs=100\n",
      "INFO:trainer:\n",
      "📍 Training client client_0...\n",
      "INFO:trainer:   Data shape: 12059 samples × 14 features\n",
      "INFO:trainer:   🔗 Overlapping features: 14 feature(s)- ['age', 'fnlwgt', 'education-num', 'capital-gain', 'capital-loss', 'hours-per-week', 'workclass', 'education', 'marital-status', 'occupation', 'relationship', 'race', 'sex', 'native-country']\n",
      "INFO:simple_einet.layers.distributions.piecewise_linear:Initializing piecewise linear distribution with data of shape torch.Size([12059, 1, 14]).\n"
     ]
    },
    {
     "name": "stdout",
     "output_type": "stream",
     "text": [
      "\n",
      "============================================================\n",
      "🔵 Test 1: Horizontal Partitioning\n",
      "============================================================\n"
     ]
    },
    {
     "name": "stderr",
     "output_type": "stream",
     "text": [
      "Initializing PiecewiseLinear Leaf Layer: 100%|██████████| 3/3 [00:00<00:00, 10.19it/s]\n",
      "INFO:trainer:    📊 Model config: depth=2, sums=12, leaves=12\n",
      "INFO:trainer:    🔧 Feature domains: 14 domain created\n",
      "/Users/M279402/PycharmProjects/fl_spn/.venv/lib/python3.10/site-packages/simple_einet/layers/distributions/piecewise_linear.py:263: UserWarning: torch.searchsorted(): input value tensor is non-contiguous, this will lower the performance due to extra data copy when converting non-contiguous tensor to contiguous, please use contiguous input value tensor if possible. This message will only appear once per program. (Triggered internally at /Users/runner/work/pytorch/pytorch/pytorch/aten/src/ATen/native/BucketizationUtils.h:34.)\n",
      "  indices = torch.searchsorted(xp, x, right=False)\n",
      "INFO:trainer:Epoch:  5, Loss: 0.7015, Train Acc: 53.66%, F1: 52.06%\n",
      "INFO:trainer:Epoch: 10, Loss: 0.6590, Train Acc: 65.02%, F1: 60.71%\n",
      "INFO:trainer:Epoch: 15, Loss: 0.6218, Train Acc: 70.17%, F1: 63.66%\n",
      "INFO:trainer:Epoch: 20, Loss: 0.5895, Train Acc: 73.70%, F1: 65.52%\n",
      "INFO:trainer:Epoch: 25, Loss: 0.5620, Train Acc: 76.07%, F1: 66.74%\n",
      "INFO:trainer:Epoch: 30, Loss: 0.5387, Train Acc: 77.03%, F1: 66.44%\n",
      "INFO:trainer:Epoch: 35, Loss: 0.5192, Train Acc: 77.49%, F1: 65.94%\n",
      "INFO:trainer:Epoch: 40, Loss: 0.5029, Train Acc: 77.98%, F1: 66.13%\n",
      "INFO:trainer:Epoch: 45, Loss: 0.4891, Train Acc: 78.39%, F1: 66.47%\n",
      "INFO:trainer:Epoch: 50, Loss: 0.4775, Train Acc: 78.82%, F1: 67.28%\n",
      "INFO:trainer:Epoch: 55, Loss: 0.4676, Train Acc: 79.24%, F1: 68.22%\n",
      "INFO:trainer:Epoch: 60, Loss: 0.4591, Train Acc: 79.66%, F1: 69.45%\n",
      "INFO:trainer:Epoch: 65, Loss: 0.4517, Train Acc: 80.00%, F1: 70.47%\n",
      "INFO:trainer:Epoch: 70, Loss: 0.4454, Train Acc: 80.06%, F1: 70.85%\n",
      "INFO:trainer:Epoch: 75, Loss: 0.4398, Train Acc: 80.20%, F1: 71.33%\n",
      "INFO:trainer:Epoch: 80, Loss: 0.4349, Train Acc: 80.35%, F1: 71.81%\n",
      "INFO:trainer:Epoch: 85, Loss: 0.4306, Train Acc: 80.46%, F1: 72.08%\n",
      "INFO:trainer:Epoch: 90, Loss: 0.4267, Train Acc: 80.52%, F1: 72.28%\n",
      "INFO:trainer:Epoch: 95, Loss: 0.4233, Train Acc: 80.63%, F1: 72.52%\n",
      "INFO:trainer:Epoch: 100, Loss: 0.4202, Train Acc: 80.88%, F1: 72.92%\n",
      "INFO:trainer:    ✅ Training accuracy: 80.877\n",
      "INFO:trainer:    📈 Training F1 score: 72.920\n",
      "INFO:trainer:    ⏱️ Training time: 20.542 seconds\n",
      "INFO:trainer:   🎯 Client client_0 training complete\n",
      "INFO:trainer:\n",
      "📍 Training client client_1...\n",
      "INFO:trainer:   Data shape: 12059 samples × 14 features\n",
      "INFO:trainer:   🔗 Overlapping features: 14 feature(s)- ['age', 'fnlwgt', 'education-num', 'capital-gain', 'capital-loss', 'hours-per-week', 'workclass', 'education', 'marital-status', 'occupation', 'relationship', 'race', 'sex', 'native-country']\n",
      "INFO:simple_einet.layers.distributions.piecewise_linear:Initializing piecewise linear distribution with data of shape torch.Size([12059, 1, 14]).\n",
      "Initializing PiecewiseLinear Leaf Layer: 100%|██████████| 3/3 [00:00<00:00, 11.52it/s]\n",
      "INFO:trainer:    📊 Model config: depth=2, sums=12, leaves=12\n",
      "INFO:trainer:    🔧 Feature domains: 14 domain created\n",
      "INFO:trainer:Epoch:  5, Loss: 0.6672, Train Acc: 60.20%, F1: 47.09%\n",
      "INFO:trainer:Epoch: 10, Loss: 0.6226, Train Acc: 72.31%, F1: 48.88%\n",
      "INFO:trainer:Epoch: 15, Loss: 0.5913, Train Acc: 75.45%, F1: 46.79%\n",
      "INFO:trainer:Epoch: 20, Loss: 0.5697, Train Acc: 75.55%, F1: 46.00%\n",
      "INFO:trainer:Epoch: 25, Loss: 0.5549, Train Acc: 75.65%, F1: 45.84%\n",
      "INFO:trainer:Epoch: 30, Loss: 0.5445, Train Acc: 75.63%, F1: 45.56%\n",
      "INFO:trainer:Epoch: 35, Loss: 0.5370, Train Acc: 75.63%, F1: 45.50%\n",
      "INFO:trainer:Epoch: 40, Loss: 0.5313, Train Acc: 75.64%, F1: 45.57%\n",
      "INFO:trainer:Epoch: 45, Loss: 0.5267, Train Acc: 75.69%, F1: 45.71%\n",
      "INFO:trainer:Epoch: 50, Loss: 0.5228, Train Acc: 75.69%, F1: 45.73%\n",
      "INFO:trainer:Epoch: 55, Loss: 0.5190, Train Acc: 75.86%, F1: 46.40%\n",
      "INFO:trainer:Epoch: 60, Loss: 0.5152, Train Acc: 76.23%, F1: 48.09%\n",
      "INFO:trainer:Epoch: 65, Loss: 0.5115, Train Acc: 76.38%, F1: 48.94%\n",
      "INFO:trainer:Epoch: 70, Loss: 0.5079, Train Acc: 76.44%, F1: 49.55%\n",
      "INFO:trainer:Epoch: 75, Loss: 0.5044, Train Acc: 76.61%, F1: 50.30%\n",
      "INFO:trainer:Epoch: 80, Loss: 0.5012, Train Acc: 76.62%, F1: 50.50%\n",
      "INFO:trainer:Epoch: 85, Loss: 0.4981, Train Acc: 76.64%, F1: 50.74%\n",
      "INFO:trainer:Epoch: 90, Loss: 0.4953, Train Acc: 76.69%, F1: 50.99%\n",
      "INFO:trainer:Epoch: 95, Loss: 0.4927, Train Acc: 76.95%, F1: 51.98%\n",
      "INFO:trainer:Epoch: 100, Loss: 0.4903, Train Acc: 78.03%, F1: 55.97%\n",
      "INFO:trainer:    ✅ Training accuracy: 78.033\n",
      "INFO:trainer:    📈 Training F1 score: 55.973\n",
      "INFO:trainer:    ⏱️ Training time: 20.260 seconds\n",
      "INFO:trainer:   🎯 Client client_1 training complete\n",
      "INFO:trainer:\n",
      "📍 Training client client_2...\n",
      "INFO:trainer:   Data shape: 12059 samples × 14 features\n",
      "INFO:trainer:   🔗 Overlapping features: 14 feature(s)- ['age', 'fnlwgt', 'education-num', 'capital-gain', 'capital-loss', 'hours-per-week', 'workclass', 'education', 'marital-status', 'occupation', 'relationship', 'race', 'sex', 'native-country']\n",
      "INFO:simple_einet.layers.distributions.piecewise_linear:Initializing piecewise linear distribution with data of shape torch.Size([12059, 1, 14]).\n",
      "Initializing PiecewiseLinear Leaf Layer: 100%|██████████| 3/3 [00:00<00:00, 10.26it/s]\n",
      "INFO:trainer:    📊 Model config: depth=2, sums=12, leaves=12\n",
      "INFO:trainer:    🔧 Feature domains: 14 domain created\n",
      "INFO:trainer:Epoch:  5, Loss: 0.6756, Train Acc: 75.21%, F1: 44.01%\n",
      "INFO:trainer:Epoch: 10, Loss: 0.6027, Train Acc: 75.69%, F1: 46.00%\n",
      "INFO:trainer:Epoch: 15, Loss: 0.5606, Train Acc: 75.98%, F1: 47.55%\n",
      "INFO:trainer:Epoch: 20, Loss: 0.5426, Train Acc: 75.99%, F1: 47.80%\n",
      "INFO:trainer:Epoch: 25, Loss: 0.5387, Train Acc: 76.01%, F1: 47.95%\n",
      "INFO:trainer:Epoch: 30, Loss: 0.5393, Train Acc: 76.08%, F1: 48.04%\n",
      "INFO:trainer:Epoch: 35, Loss: 0.5387, Train Acc: 76.08%, F1: 48.07%\n",
      "INFO:trainer:Epoch: 40, Loss: 0.5360, Train Acc: 76.10%, F1: 48.13%\n",
      "INFO:trainer:Epoch: 45, Loss: 0.5327, Train Acc: 76.16%, F1: 48.25%\n",
      "INFO:trainer:Epoch: 50, Loss: 0.5300, Train Acc: 76.18%, F1: 48.31%\n",
      "INFO:trainer:Epoch: 55, Loss: 0.5281, Train Acc: 76.18%, F1: 48.34%\n",
      "INFO:trainer:Epoch: 60, Loss: 0.5264, Train Acc: 76.19%, F1: 48.37%\n",
      "INFO:trainer:Epoch: 65, Loss: 0.5246, Train Acc: 76.19%, F1: 48.40%\n",
      "INFO:trainer:Epoch: 70, Loss: 0.5227, Train Acc: 76.23%, F1: 48.50%\n",
      "INFO:trainer:Epoch: 75, Loss: 0.5209, Train Acc: 76.29%, F1: 48.78%\n",
      "INFO:trainer:Epoch: 80, Loss: 0.5192, Train Acc: 76.31%, F1: 48.87%\n",
      "INFO:trainer:Epoch: 85, Loss: 0.5176, Train Acc: 76.33%, F1: 48.99%\n",
      "INFO:trainer:Epoch: 90, Loss: 0.5160, Train Acc: 77.30%, F1: 53.43%\n",
      "INFO:trainer:Epoch: 95, Loss: 0.5145, Train Acc: 77.64%, F1: 55.35%\n",
      "INFO:trainer:Epoch: 100, Loss: 0.5132, Train Acc: 78.41%, F1: 58.73%\n",
      "INFO:trainer:    ✅ Training accuracy: 78.414\n",
      "INFO:trainer:    📈 Training F1 score: 58.733\n",
      "INFO:trainer:    ⏱️ Training time: 20.525 seconds\n",
      "INFO:trainer:   🎯 Client client_2 training complete\n",
      "INFO:trainer:\n",
      "📊 horizontal federated learning complete!\n",
      "INFO:trainer:   ⏱️ Total training time: 63.70 seconds\n",
      "INFO:trainer:   🎯 Weighted average training accuracy: 79.108\n",
      "INFO:trainer:   📈 Weighted average F1 score: 62.542\n",
      "INFO:trainer:   🏢 Number of participating clients:  3\n",
      "INFO:trainer:   📊 Total samples: 36177\n",
      "INFO:trainer:\n",
      "📋 Evaluating federated EiNet models on test set...\n",
      "INFO:trainer:   Client client_0: Accuracy 80.276, F1 71.780 (14 features)\n",
      "INFO:trainer:   Client client_1: Accuracy 77.756, F1 55.015 (14 features)\n",
      "INFO:trainer:   Client client_2: Accuracy 78.187, F1 58.593 (14 features)\n",
      "INFO:trainer:\n",
      "🎯 Ensemble result (majority voting):\n",
      "INFO:trainer:   Accuracy: 0.787\n",
      "INFO:trainer:   F1 score: 0.737\n"
     ]
    }
   ],
   "source": [
    "print(\"\\n\" + \"=\" * 60)\n",
    "print(\"🔵 Test 1: Horizontal Partitioning\")\n",
    "print(\"=\" * 60)\n",
    "\n",
    "horizontal_partition = partitioner.horizontal_partition(\n",
    "    num_clients=SupervisedFLConfig.num_clients,\n",
    "    random_state=SupervisedFLConfig.random_seed,\n",
    ")\n",
    "\n",
    "horizontal_trainer = FederatedEiNetTrainer(horizontal_partition)\n",
    "\n",
    "horizontal_results = horizontal_trainer.train_federated_learning(\n",
    "    data[\"X_processed\"], epochs=SupervisedFLConfig.epochs, verbose=True\n",
    ")\n",
    "horizontal_eval = horizontal_trainer.evaluate_on_test(\n",
    "        data[\"X_test\"], data[\"y_test\"], data[\"X_processed\"].columns.tolist()\n",
    "    )"
   ]
  },
  {
   "cell_type": "code",
   "execution_count": 4,
   "id": "ff0f8447b655117e",
   "metadata": {
    "ExecuteTime": {
     "end_time": "2025-08-29T13:23:32.070199Z",
     "start_time": "2025-08-29T13:22:35.353576Z"
    }
   },
   "outputs": [
    {
     "name": "stderr",
     "output_type": "stream",
     "text": [
      "INFO:fl_spn.partitioner:🔄 Performing VERTICAL partitioning into 3 clients...\n",
      "INFO:fl_spn.partitioner:  Client 0: 36177 samples, 4 features\n",
      "INFO:fl_spn.partitioner:  Client 1: 36177 samples, 4 features\n",
      "INFO:fl_spn.partitioner:  Client 2: 36177 samples, 6 features\n",
      "INFO:trainer:\n",
      "🚀 Starting vertical federated learning...\n",
      "INFO:trainer:Training parameters: epochs=100\n",
      "INFO:trainer:\n",
      "📍 Training client client_0...\n",
      "INFO:trainer:   Data shape: 36177 samples × 4 features\n",
      "INFO:simple_einet.layers.distributions.piecewise_linear:Initializing piecewise linear distribution with data of shape torch.Size([36177, 1, 4]).\n"
     ]
    },
    {
     "name": "stdout",
     "output_type": "stream",
     "text": [
      "\n",
      "============================================================\n",
      "🟢 Test 2: Vertical Partitioning\n",
      "============================================================\n"
     ]
    },
    {
     "name": "stderr",
     "output_type": "stream",
     "text": [
      "Initializing PiecewiseLinear Leaf Layer: 100%|██████████| 3/3 [00:00<00:00, 31.98it/s]\n",
      "INFO:trainer:    📊 Model config: depth=1, sums=8, leaves=8\n",
      "INFO:trainer:    🔧 Feature domains: 4 domain created\n",
      "INFO:trainer:Epoch:  5, Loss: 0.6793, Train Acc: 53.92%, F1: 48.31%\n",
      "INFO:trainer:Epoch: 10, Loss: 0.6627, Train Acc: 54.12%, F1: 48.38%\n",
      "INFO:trainer:Epoch: 15, Loss: 0.6479, Train Acc: 57.92%, F1: 50.59%\n",
      "INFO:trainer:Epoch: 20, Loss: 0.6344, Train Acc: 63.82%, F1: 54.19%\n",
      "INFO:trainer:Epoch: 25, Loss: 0.6221, Train Acc: 65.93%, F1: 55.50%\n",
      "INFO:trainer:Epoch: 30, Loss: 0.6107, Train Acc: 71.89%, F1: 60.50%\n",
      "INFO:trainer:Epoch: 35, Loss: 0.6000, Train Acc: 72.85%, F1: 61.28%\n",
      "INFO:trainer:Epoch: 40, Loss: 0.5901, Train Acc: 73.65%, F1: 62.50%\n",
      "INFO:trainer:Epoch: 45, Loss: 0.5808, Train Acc: 74.33%, F1: 63.81%\n",
      "INFO:trainer:Epoch: 50, Loss: 0.5722, Train Acc: 74.30%, F1: 64.03%\n",
      "INFO:trainer:Epoch: 55, Loss: 0.5640, Train Acc: 74.30%, F1: 64.03%\n",
      "INFO:trainer:Epoch: 60, Loss: 0.5565, Train Acc: 74.28%, F1: 64.03%\n",
      "INFO:trainer:Epoch: 65, Loss: 0.5494, Train Acc: 74.20%, F1: 64.07%\n",
      "INFO:trainer:Epoch: 70, Loss: 0.5427, Train Acc: 73.65%, F1: 65.84%\n",
      "INFO:trainer:Epoch: 75, Loss: 0.5365, Train Acc: 73.70%, F1: 65.92%\n",
      "INFO:trainer:Epoch: 80, Loss: 0.5307, Train Acc: 73.70%, F1: 65.92%\n",
      "INFO:trainer:Epoch: 85, Loss: 0.5252, Train Acc: 73.72%, F1: 65.94%\n",
      "INFO:trainer:Epoch: 90, Loss: 0.5201, Train Acc: 73.72%, F1: 65.94%\n",
      "INFO:trainer:Epoch: 95, Loss: 0.5154, Train Acc: 74.01%, F1: 66.17%\n",
      "INFO:trainer:Epoch: 100, Loss: 0.5110, Train Acc: 74.00%, F1: 66.16%\n",
      "INFO:trainer:    ✅ Training accuracy: 74.000\n",
      "INFO:trainer:    📈 Training F1 score: 66.163\n",
      "INFO:trainer:    ⏱️ Training time: 11.276 seconds\n",
      "INFO:trainer:   🎯 Client client_0 training complete\n",
      "INFO:trainer:\n",
      "📍 Training client client_1...\n",
      "INFO:trainer:   Data shape: 36177 samples × 4 features\n",
      "INFO:simple_einet.layers.distributions.piecewise_linear:Initializing piecewise linear distribution with data of shape torch.Size([36177, 1, 4]).\n",
      "Initializing PiecewiseLinear Leaf Layer: 100%|██████████| 3/3 [00:00<00:00, 20.01it/s]\n",
      "INFO:trainer:    📊 Model config: depth=1, sums=8, leaves=8\n",
      "INFO:trainer:    🔧 Feature domains: 4 domain created\n",
      "INFO:trainer:Epoch:  5, Loss: 0.9291, Train Acc: 44.59%, F1: 44.33%\n",
      "INFO:trainer:Epoch: 10, Loss: 0.8832, Train Acc: 47.58%, F1: 47.03%\n",
      "INFO:trainer:Epoch: 15, Loss: 0.8398, Train Acc: 50.25%, F1: 49.37%\n",
      "INFO:trainer:Epoch: 20, Loss: 0.7994, Train Acc: 51.79%, F1: 50.89%\n",
      "INFO:trainer:Epoch: 25, Loss: 0.7621, Train Acc: 51.86%, F1: 50.93%\n",
      "INFO:trainer:Epoch: 30, Loss: 0.7282, Train Acc: 51.91%, F1: 50.97%\n",
      "INFO:trainer:Epoch: 35, Loss: 0.6976, Train Acc: 52.12%, F1: 50.90%\n",
      "INFO:trainer:Epoch: 40, Loss: 0.6703, Train Acc: 52.22%, F1: 50.89%\n",
      "INFO:trainer:Epoch: 45, Loss: 0.6463, Train Acc: 53.67%, F1: 51.98%\n",
      "INFO:trainer:Epoch: 50, Loss: 0.6253, Train Acc: 70.91%, F1: 60.04%\n",
      "INFO:trainer:Epoch: 55, Loss: 0.6072, Train Acc: 71.68%, F1: 58.43%\n",
      "INFO:trainer:Epoch: 60, Loss: 0.5919, Train Acc: 71.63%, F1: 56.09%\n",
      "INFO:trainer:Epoch: 65, Loss: 0.5790, Train Acc: 72.47%, F1: 56.35%\n",
      "INFO:trainer:Epoch: 70, Loss: 0.5683, Train Acc: 73.07%, F1: 55.77%\n",
      "INFO:trainer:Epoch: 75, Loss: 0.5594, Train Acc: 73.59%, F1: 52.21%\n",
      "INFO:trainer:Epoch: 80, Loss: 0.5521, Train Acc: 73.74%, F1: 51.90%\n",
      "INFO:trainer:Epoch: 85, Loss: 0.5461, Train Acc: 73.90%, F1: 51.94%\n",
      "INFO:trainer:Epoch: 90, Loss: 0.5411, Train Acc: 74.00%, F1: 51.84%\n",
      "INFO:trainer:Epoch: 95, Loss: 0.5370, Train Acc: 74.02%, F1: 51.78%\n",
      "INFO:trainer:Epoch: 100, Loss: 0.5335, Train Acc: 74.01%, F1: 51.72%\n",
      "INFO:trainer:    ✅ Training accuracy: 74.006\n",
      "INFO:trainer:    📈 Training F1 score: 51.719\n",
      "INFO:trainer:    ⏱️ Training time: 11.433 seconds\n",
      "INFO:trainer:   🎯 Client client_1 training complete\n",
      "INFO:trainer:\n",
      "📍 Training client client_2...\n",
      "INFO:trainer:   Data shape: 36177 samples × 6 features\n",
      "INFO:simple_einet.layers.distributions.piecewise_linear:Initializing piecewise linear distribution with data of shape torch.Size([36177, 1, 6]).\n",
      "Initializing PiecewiseLinear Leaf Layer: 100%|██████████| 3/3 [00:00<00:00,  5.61it/s]\n",
      "INFO:trainer:    📊 Model config: depth=2, sums=12, leaves=12\n",
      "INFO:trainer:    🔧 Feature domains: 6 domain created\n",
      "INFO:trainer:Epoch:  5, Loss: 0.5343, Train Acc: 77.03%, F1: 59.95%\n",
      "INFO:trainer:Epoch: 10, Loss: 0.5295, Train Acc: 77.15%, F1: 60.24%\n",
      "INFO:trainer:Epoch: 15, Loss: 0.5260, Train Acc: 77.28%, F1: 60.58%\n",
      "INFO:trainer:Epoch: 20, Loss: 0.5220, Train Acc: 77.48%, F1: 61.08%\n",
      "INFO:trainer:Epoch: 25, Loss: 0.5184, Train Acc: 77.58%, F1: 61.19%\n",
      "INFO:trainer:Epoch: 30, Loss: 0.5153, Train Acc: 77.58%, F1: 60.87%\n",
      "INFO:trainer:Epoch: 35, Loss: 0.5122, Train Acc: 77.70%, F1: 60.68%\n",
      "INFO:trainer:Epoch: 40, Loss: 0.5093, Train Acc: 77.80%, F1: 60.49%\n",
      "INFO:trainer:Epoch: 45, Loss: 0.5065, Train Acc: 77.91%, F1: 60.39%\n",
      "INFO:trainer:Epoch: 50, Loss: 0.5039, Train Acc: 78.09%, F1: 60.54%\n",
      "INFO:trainer:Epoch: 55, Loss: 0.5014, Train Acc: 78.26%, F1: 60.41%\n",
      "INFO:trainer:Epoch: 60, Loss: 0.4991, Train Acc: 78.34%, F1: 60.37%\n",
      "INFO:trainer:Epoch: 65, Loss: 0.4970, Train Acc: 78.39%, F1: 60.59%\n",
      "INFO:trainer:Epoch: 70, Loss: 0.4951, Train Acc: 78.48%, F1: 60.91%\n",
      "INFO:trainer:Epoch: 75, Loss: 0.4934, Train Acc: 78.59%, F1: 61.33%\n",
      "INFO:trainer:Epoch: 80, Loss: 0.4919, Train Acc: 78.70%, F1: 61.83%\n",
      "INFO:trainer:Epoch: 85, Loss: 0.4906, Train Acc: 78.88%, F1: 62.43%\n",
      "INFO:trainer:Epoch: 90, Loss: 0.4895, Train Acc: 78.98%, F1: 62.75%\n",
      "INFO:trainer:Epoch: 95, Loss: 0.4885, Train Acc: 79.01%, F1: 62.87%\n",
      "INFO:trainer:Epoch: 100, Loss: 0.4876, Train Acc: 79.04%, F1: 62.95%\n",
      "INFO:trainer:    ✅ Training accuracy: 79.042\n",
      "INFO:trainer:    📈 Training F1 score: 62.948\n",
      "INFO:trainer:    ⏱️ Training time: 32.049 seconds\n",
      "INFO:trainer:   🎯 Client client_2 training complete\n",
      "INFO:trainer:\n",
      "📊 vertical federated learning complete!\n",
      "INFO:trainer:   ⏱️ Total training time: 56.28 seconds\n",
      "INFO:trainer:   🎯 Weighted average training accuracy: 75.683\n",
      "INFO:trainer:   📈 Weighted average F1 score: 60.276\n",
      "INFO:trainer:   🏢 Number of participating clients:  3\n",
      "INFO:trainer:   📊 Total samples: 108531\n",
      "INFO:trainer:\n",
      "📋 Evaluating federated EiNet models on test set...\n",
      "INFO:trainer:   Client client_0: Accuracy 73.787, F1 65.747 (4 features)\n",
      "INFO:trainer:   Client client_1: Accuracy 74.041, F1 51.243 (4 features)\n",
      "INFO:trainer:   Client client_2: Accuracy 78.640, F1 62.004 (6 features)\n",
      "INFO:trainer:\n",
      "🎯 Ensemble result (majority voting):\n",
      "INFO:trainer:   Accuracy: 0.783\n",
      "INFO:trainer:   F1 score: 0.730\n"
     ]
    }
   ],
   "source": [
    "print(\"\\n\" + \"=\"*60)\n",
    "print(\"🟢 Test 2: Vertical Partitioning\")\n",
    "print(\"=\"*60)\n",
    "\n",
    "vertical_partition = partitioner.vertical_partition(\n",
    "    num_clients=SupervisedFLConfig.num_clients, \n",
    "    random_state=SupervisedFLConfig.random_seed)\n",
    "\n",
    "vertical_trainer = FederatedEiNetTrainer(vertical_partition)\n",
    "\n",
    "vertical_results = vertical_trainer.train_federated_learning(\n",
    "    data[\"X_processed\"], epochs=SupervisedFLConfig.epochs, verbose=True\n",
    ")\n",
    "\n",
    "# 在測試集上評估\n",
    "vertical_eval = vertical_trainer.evaluate_on_test(\n",
    "    data[\"X_test\"], data[\"y_test\"], data[\"X_processed\"].columns.tolist()\n",
    ")"
   ]
  },
  {
   "cell_type": "code",
   "execution_count": 5,
   "id": "5ac0d4741d16d3c0",
   "metadata": {
    "ExecuteTime": {
     "end_time": "2025-08-29T13:23:35.646028Z",
     "start_time": "2025-08-29T13:23:32.070859Z"
    }
   },
   "outputs": [
    {
     "name": "stderr",
     "output_type": "stream",
     "text": [
      "INFO:fl_spn.partitioner:🔄 Performing HYBRID partitioning into 3 clients...\n",
      "INFO:fl_spn.partitioner:  Sample overlap ratio: 0.0%\n",
      "INFO:fl_spn.partitioner:  Feature overlap ratio: 0.0%\n",
      "INFO:fl_spn.partitioner:  Base samples: 18087; Overlap sample pool: 0\n",
      "INFO:fl_spn.partitioner:  Base features: 6; Overlap feature pool: 0\n",
      "INFO:fl_spn.partitioner:  Client 0: 6029 samples × 2 features\n",
      "INFO:fl_spn.partitioner:  Client 1: 6029 samples × 2 features\n",
      "INFO:fl_spn.partitioner:  Client 2: 6029 samples × 2 features\n",
      "INFO:trainer:\n",
      "🚀 Starting hybrid_robust federated learning...\n",
      "INFO:trainer:Training parameters: epochs=100\n",
      "INFO:trainer:\n",
      "📍 Training client client_0...\n",
      "INFO:trainer:   Data shape: 6029 samples × 2 features\n",
      "INFO:simple_einet.layers.distributions.piecewise_linear:Initializing piecewise linear distribution with data of shape torch.Size([6029, 1, 2]).\n"
     ]
    },
    {
     "name": "stdout",
     "output_type": "stream",
     "text": [
      "\n",
      "============================================================\n",
      "🟡 Test 3: Hybrid Partitioning\n",
      "============================================================\n"
     ]
    },
    {
     "name": "stderr",
     "output_type": "stream",
     "text": [
      "Initializing PiecewiseLinear Leaf Layer: 100%|██████████| 3/3 [00:00<00:00, 87.18it/s]\n",
      "INFO:trainer:    📊 Model config: depth=1, sums=4, leaves=4\n",
      "INFO:trainer:    🔧 Feature domains: 2 domain created\n",
      "INFO:trainer:Epoch:  5, Loss: 0.7100, Train Acc: 60.71%, F1: 54.61%\n",
      "INFO:trainer:Epoch: 10, Loss: 0.7033, Train Acc: 59.38%, F1: 54.54%\n",
      "INFO:trainer:Epoch: 15, Loss: 0.6980, Train Acc: 57.90%, F1: 53.47%\n",
      "INFO:trainer:Epoch: 20, Loss: 0.6934, Train Acc: 58.57%, F1: 54.38%\n",
      "INFO:trainer:Epoch: 25, Loss: 0.6894, Train Acc: 59.36%, F1: 55.43%\n",
      "INFO:trainer:Epoch: 30, Loss: 0.6857, Train Acc: 59.81%, F1: 56.14%\n",
      "INFO:trainer:Epoch: 35, Loss: 0.6823, Train Acc: 60.11%, F1: 56.67%\n",
      "INFO:trainer:Epoch: 40, Loss: 0.6788, Train Acc: 60.11%, F1: 56.67%\n",
      "INFO:trainer:Epoch: 45, Loss: 0.6751, Train Acc: 60.52%, F1: 56.98%\n",
      "INFO:trainer:Epoch: 50, Loss: 0.6711, Train Acc: 61.17%, F1: 57.57%\n",
      "INFO:trainer:Epoch: 55, Loss: 0.6664, Train Acc: 61.37%, F1: 57.31%\n",
      "INFO:trainer:Epoch: 60, Loss: 0.6612, Train Acc: 61.37%, F1: 56.45%\n",
      "INFO:trainer:Epoch: 65, Loss: 0.6553, Train Acc: 61.60%, F1: 56.59%\n",
      "INFO:trainer:Epoch: 70, Loss: 0.6487, Train Acc: 62.22%, F1: 56.55%\n",
      "INFO:trainer:Epoch: 75, Loss: 0.6416, Train Acc: 62.17%, F1: 56.51%\n",
      "INFO:trainer:Epoch: 80, Loss: 0.6341, Train Acc: 62.17%, F1: 56.51%\n",
      "INFO:trainer:Epoch: 85, Loss: 0.6264, Train Acc: 62.17%, F1: 56.51%\n",
      "INFO:trainer:Epoch: 90, Loss: 0.6186, Train Acc: 62.30%, F1: 56.59%\n",
      "INFO:trainer:Epoch: 95, Loss: 0.6110, Train Acc: 62.35%, F1: 56.39%\n",
      "INFO:trainer:Epoch: 100, Loss: 0.6036, Train Acc: 62.40%, F1: 56.44%\n",
      "INFO:trainer:    ✅ Training accuracy: 62.398\n",
      "INFO:trainer:    📈 Training F1 score: 56.439\n",
      "INFO:trainer:    ⏱️ Training time: 1.060 seconds\n",
      "INFO:trainer:   🎯 Client client_0 training complete\n",
      "INFO:trainer:\n",
      "📍 Training client client_1...\n",
      "INFO:trainer:   Data shape: 6029 samples × 2 features\n",
      "INFO:simple_einet.layers.distributions.piecewise_linear:Initializing piecewise linear distribution with data of shape torch.Size([6029, 1, 2]).\n",
      "Initializing PiecewiseLinear Leaf Layer: 100%|██████████| 3/3 [00:00<00:00, 82.82it/s]\n",
      "INFO:trainer:    📊 Model config: depth=1, sums=4, leaves=4\n",
      "INFO:trainer:    🔧 Feature domains: 2 domain created\n",
      "INFO:trainer:Epoch:  5, Loss: 0.6629, Train Acc: 65.78%, F1: 49.04%\n",
      "INFO:trainer:Epoch: 10, Loss: 0.6488, Train Acc: 64.94%, F1: 56.53%\n",
      "INFO:trainer:Epoch: 15, Loss: 0.6377, Train Acc: 65.90%, F1: 57.77%\n",
      "INFO:trainer:Epoch: 20, Loss: 0.6291, Train Acc: 66.93%, F1: 59.23%\n",
      "INFO:trainer:Epoch: 25, Loss: 0.6223, Train Acc: 66.84%, F1: 59.18%\n",
      "INFO:trainer:Epoch: 30, Loss: 0.6167, Train Acc: 66.81%, F1: 59.21%\n",
      "INFO:trainer:Epoch: 35, Loss: 0.6119, Train Acc: 66.83%, F1: 59.23%\n",
      "INFO:trainer:Epoch: 40, Loss: 0.6075, Train Acc: 66.89%, F1: 59.24%\n",
      "INFO:trainer:Epoch: 45, Loss: 0.6035, Train Acc: 66.89%, F1: 59.21%\n",
      "INFO:trainer:Epoch: 50, Loss: 0.5997, Train Acc: 66.91%, F1: 59.19%\n",
      "INFO:trainer:Epoch: 55, Loss: 0.5962, Train Acc: 67.54%, F1: 58.38%\n",
      "INFO:trainer:Epoch: 60, Loss: 0.5928, Train Acc: 67.51%, F1: 58.31%\n",
      "INFO:trainer:Epoch: 65, Loss: 0.5897, Train Acc: 67.54%, F1: 58.32%\n",
      "INFO:trainer:Epoch: 70, Loss: 0.5868, Train Acc: 67.51%, F1: 58.26%\n",
      "INFO:trainer:Epoch: 75, Loss: 0.5841, Train Acc: 67.51%, F1: 58.24%\n",
      "INFO:trainer:Epoch: 80, Loss: 0.5816, Train Acc: 67.49%, F1: 58.19%\n",
      "INFO:trainer:Epoch: 85, Loss: 0.5793, Train Acc: 67.46%, F1: 58.13%\n",
      "INFO:trainer:Epoch: 90, Loss: 0.5771, Train Acc: 67.49%, F1: 58.14%\n",
      "INFO:trainer:Epoch: 95, Loss: 0.5752, Train Acc: 67.47%, F1: 58.08%\n",
      "INFO:trainer:Epoch: 100, Loss: 0.5734, Train Acc: 67.46%, F1: 58.02%\n",
      "INFO:trainer:    ✅ Training accuracy: 67.457\n",
      "INFO:trainer:    📈 Training F1 score: 58.016\n",
      "INFO:trainer:    ⏱️ Training time: 1.102 seconds\n",
      "INFO:trainer:   🎯 Client client_1 training complete\n",
      "INFO:trainer:\n",
      "📍 Training client client_2...\n",
      "INFO:trainer:   Data shape: 6029 samples × 2 features\n",
      "INFO:simple_einet.layers.distributions.piecewise_linear:Initializing piecewise linear distribution with data of shape torch.Size([6029, 1, 2]).\n",
      "Initializing PiecewiseLinear Leaf Layer: 100%|██████████| 3/3 [00:00<00:00, 207.92it/s]\n",
      "INFO:trainer:    📊 Model config: depth=1, sums=4, leaves=4\n",
      "INFO:trainer:    🔧 Feature domains: 2 domain created\n",
      "INFO:trainer:Epoch:  5, Loss: 0.7394, Train Acc: 49.05%, F1: 48.46%\n",
      "INFO:trainer:Epoch: 10, Loss: 0.7065, Train Acc: 69.35%, F1: 53.32%\n",
      "INFO:trainer:Epoch: 15, Loss: 0.6785, Train Acc: 70.36%, F1: 53.59%\n",
      "INFO:trainer:Epoch: 20, Loss: 0.6553, Train Acc: 70.54%, F1: 53.45%\n",
      "INFO:trainer:Epoch: 25, Loss: 0.6365, Train Acc: 70.54%, F1: 53.45%\n",
      "INFO:trainer:Epoch: 30, Loss: 0.6216, Train Acc: 70.39%, F1: 55.08%\n",
      "INFO:trainer:Epoch: 35, Loss: 0.6098, Train Acc: 67.62%, F1: 54.00%\n",
      "INFO:trainer:Epoch: 40, Loss: 0.6004, Train Acc: 70.03%, F1: 48.95%\n",
      "INFO:trainer:Epoch: 45, Loss: 0.5930, Train Acc: 70.03%, F1: 48.95%\n",
      "INFO:trainer:Epoch: 50, Loss: 0.5869, Train Acc: 70.03%, F1: 48.95%\n",
      "INFO:trainer:Epoch: 55, Loss: 0.5818, Train Acc: 70.03%, F1: 48.95%\n",
      "INFO:trainer:Epoch: 60, Loss: 0.5775, Train Acc: 70.03%, F1: 48.95%\n",
      "INFO:trainer:Epoch: 65, Loss: 0.5736, Train Acc: 70.03%, F1: 48.95%\n",
      "INFO:trainer:Epoch: 70, Loss: 0.5701, Train Acc: 70.03%, F1: 48.95%\n",
      "INFO:trainer:Epoch: 75, Loss: 0.5670, Train Acc: 70.03%, F1: 48.95%\n",
      "INFO:trainer:Epoch: 80, Loss: 0.5641, Train Acc: 72.13%, F1: 49.12%\n",
      "INFO:trainer:Epoch: 85, Loss: 0.5615, Train Acc: 72.28%, F1: 46.44%\n",
      "INFO:trainer:Epoch: 90, Loss: 0.5592, Train Acc: 72.28%, F1: 46.44%\n",
      "INFO:trainer:Epoch: 95, Loss: 0.5572, Train Acc: 72.28%, F1: 46.44%\n",
      "INFO:trainer:Epoch: 100, Loss: 0.5554, Train Acc: 72.28%, F1: 46.44%\n",
      "INFO:trainer:    ✅ Training accuracy: 72.284\n",
      "INFO:trainer:    📈 Training F1 score: 46.440\n",
      "INFO:trainer:    ⏱️ Training time: 1.142 seconds\n",
      "INFO:trainer:   🎯 Client client_2 training complete\n",
      "INFO:trainer:\n",
      "📊 hybrid_robust federated learning complete!\n",
      "INFO:trainer:   ⏱️ Total training time: 3.45 seconds\n",
      "INFO:trainer:   🎯 Weighted average training accuracy: 67.380\n",
      "INFO:trainer:   📈 Weighted average F1 score: 53.632\n",
      "INFO:trainer:   🏢 Number of participating clients:  3\n",
      "INFO:trainer:   📊 Total samples: 18087\n",
      "INFO:trainer:\n",
      "📋 Evaluating federated EiNet models on test set...\n",
      "INFO:trainer:   Client client_0: Accuracy 62.101, F1 56.285 (2 features)\n",
      "INFO:trainer:   Client client_1: Accuracy 68.248, F1 58.858 (2 features)\n",
      "INFO:trainer:   Client client_2: Accuracy 72.570, F1 45.946 (2 features)\n",
      "INFO:trainer:\n",
      "🎯 Ensemble result (probability averaging):\n",
      "INFO:trainer:   Accuracy: 0.738\n",
      "INFO:trainer:   F1 score: 0.710\n"
     ]
    }
   ],
   "source": [
    "print(\"\\n\" + \"=\" * 60)\n",
    "print(\"🟡 Test 3: Hybrid Partitioning\")\n",
    "print(\"=\" * 60)\n",
    "\n",
    "hybrid_partition = partitioner.hybrid_partition(\n",
    "    num_clients=SupervisedFLConfig.num_clients,\n",
    "    sample_overlap_ratio=SupervisedFLConfig.sample_overlap_ratio,\n",
    "    feature_overlap_ratio=SupervisedFLConfig.feature_overlap_ratio,\n",
    "    random_state=SupervisedFLConfig.random_seed,\n",
    ")\n",
    "hybrid_trainer = FederatedEiNetTrainer(hybrid_partition)\n",
    "hybrid_results = hybrid_trainer.train_federated_learning(\n",
    "    data[\"X_processed\"], epochs=SupervisedFLConfig.epochs, verbose=True\n",
    ")\n",
    "hybrid_eval = hybrid_trainer.evaluate_on_test(\n",
    "        data[\"X_test\"], data[\"y_test\"], data[\"X_processed\"].columns.tolist()\n",
    "    )"
   ]
  },
  {
   "cell_type": "code",
   "execution_count": 9,
   "id": "2f578568b687f546",
   "metadata": {
    "ExecuteTime": {
     "end_time": "2025-08-29T13:24:08.668720Z",
     "start_time": "2025-08-29T13:24:08.665913Z"
    }
   },
   "outputs": [],
   "source": [
    "import plotly.graph_objects as go\n",
    "from plotly.subplots import make_subplots\n",
    "\n",
    "methods = ['Horizontal', 'Vertical', 'Hybrid']\n",
    "\n",
    "train_acc = [horizontal_results['weighted_accuracy'], \n",
    "             vertical_results['weighted_accuracy'], \n",
    "             hybrid_results['weighted_accuracy']]\n",
    "\n",
    "f1_acc = [horizontal_results['weighted_f1'], \n",
    "          vertical_results['weighted_f1'], \n",
    "          hybrid_results['weighted_f1']]\n",
    "\n",
    "train_time = [horizontal_results['total_training_time'], \n",
    "              vertical_results['total_training_time'], \n",
    "              hybrid_results['total_training_time']]\n",
    "\n",
    "clients = [horizontal_results['num_clients'], \n",
    "           vertical_results['num_clients'], \n",
    "           hybrid_results['num_clients']]\n",
    "\n",
    "samples = [horizontal_results['total_samples'], \n",
    "           vertical_results['total_samples'], \n",
    "           hybrid_results['total_samples']]\n",
    "\n",
    "colors = ['#F3AA60', '#EF6262', '#468897']\n"
   ]
  },
  {
   "cell_type": "code",
   "execution_count": 10,
   "id": "838aa24b501de965",
   "metadata": {
    "ExecuteTime": {
     "end_time": "2025-08-29T13:24:09.197395Z",
     "start_time": "2025-08-29T13:24:09.163022Z"
    }
   },
   "outputs": [
    {
     "data": {
      "application/vnd.plotly.v1+json": {
       "config": {
        "plotlyServerURL": "https://plot.ly"
       },
       "data": [
        {
         "legendgroup": "group0",
         "marker": {
          "color": "#F3AA60"
         },
         "name": "Train Horizontal",
         "opacity": 0.8,
         "showlegend": false,
         "type": "bar",
         "x": [
          "Horizontal"
         ],
         "xaxis": "x",
         "y": [
          79.1082763671875
         ],
         "yaxis": "y"
        },
        {
         "legendgroup": "group0",
         "marker": {
          "color": "#F3AA60"
         },
         "name": "Train Horizontal",
         "opacity": 0.8,
         "showlegend": false,
         "type": "bar",
         "x": [
          "Horizontal"
         ],
         "xaxis": "x2",
         "y": [
          62.541758293195144
         ],
         "yaxis": "y2"
        },
        {
         "legendgroup": "group1",
         "marker": {
          "color": "#EF6262"
         },
         "name": "Train Vertical",
         "opacity": 0.8,
         "showlegend": false,
         "type": "bar",
         "x": [
          "Vertical"
         ],
         "xaxis": "x",
         "y": [
          75.68252563476562
         ],
         "yaxis": "y"
        },
        {
         "legendgroup": "group1",
         "marker": {
          "color": "#EF6262"
         },
         "name": "Train Vertical",
         "opacity": 0.8,
         "showlegend": false,
         "type": "bar",
         "x": [
          "Vertical"
         ],
         "xaxis": "x2",
         "y": [
          60.276490018051646
         ],
         "yaxis": "y2"
        },
        {
         "legendgroup": "group2",
         "marker": {
          "color": "#468897"
         },
         "name": "Train Hybrid",
         "opacity": 0.8,
         "showlegend": false,
         "type": "bar",
         "x": [
          "Hybrid"
         ],
         "xaxis": "x",
         "y": [
          67.3798828125
         ],
         "yaxis": "y"
        },
        {
         "legendgroup": "group2",
         "marker": {
          "color": "#468897"
         },
         "name": "Train Hybrid",
         "opacity": 0.8,
         "showlegend": false,
         "type": "bar",
         "x": [
          "Hybrid"
         ],
         "xaxis": "x2",
         "y": [
          53.63152058233639
         ],
         "yaxis": "y2"
        }
       ],
       "layout": {
        "annotations": [
         {
          "font": {
           "size": 16
          },
          "showarrow": false,
          "text": "Accuracy",
          "x": 0.225,
          "xanchor": "center",
          "xref": "paper",
          "y": 1,
          "yanchor": "bottom",
          "yref": "paper"
         },
         {
          "font": {
           "size": 16
          },
          "showarrow": false,
          "text": "F1",
          "x": 0.775,
          "xanchor": "center",
          "xref": "paper",
          "y": 1,
          "yanchor": "bottom",
          "yref": "paper"
         },
         {
          "font": {
           "color": "black",
           "size": 12
          },
          "showarrow": false,
          "text": "79.11",
          "x": "Horizontal",
          "xanchor": "center",
          "xref": "x",
          "y": 79.1082763671875,
          "yanchor": "bottom",
          "yref": "y"
         },
         {
          "font": {
           "color": "black",
           "size": 12
          },
          "showarrow": false,
          "text": "62.54",
          "x": "Horizontal",
          "xanchor": "center",
          "xref": "x2",
          "y": 62.541758293195144,
          "yanchor": "bottom",
          "yref": "y2"
         },
         {
          "font": {
           "color": "black",
           "size": 12
          },
          "showarrow": false,
          "text": "75.68",
          "x": "Vertical",
          "xanchor": "center",
          "xref": "x",
          "y": 75.68252563476562,
          "yanchor": "bottom",
          "yref": "y"
         },
         {
          "font": {
           "color": "black",
           "size": 12
          },
          "showarrow": false,
          "text": "60.28",
          "x": "Vertical",
          "xanchor": "center",
          "xref": "x2",
          "y": 60.276490018051646,
          "yanchor": "bottom",
          "yref": "y2"
         },
         {
          "font": {
           "color": "black",
           "size": 12
          },
          "showarrow": false,
          "text": "67.38",
          "x": "Hybrid",
          "xanchor": "center",
          "xref": "x",
          "y": 67.3798828125,
          "yanchor": "bottom",
          "yref": "y"
         },
         {
          "font": {
           "color": "black",
           "size": 12
          },
          "showarrow": false,
          "text": "53.63",
          "x": "Hybrid",
          "xanchor": "center",
          "xref": "x2",
          "y": 53.63152058233639,
          "yanchor": "bottom",
          "yref": "y2"
         }
        ],
        "template": {
         "data": {
          "bar": [
           {
            "error_x": {
             "color": "#2a3f5f"
            },
            "error_y": {
             "color": "#2a3f5f"
            },
            "marker": {
             "line": {
              "color": "white",
              "width": 0.5
             },
             "pattern": {
              "fillmode": "overlay",
              "size": 10,
              "solidity": 0.2
             }
            },
            "type": "bar"
           }
          ],
          "barpolar": [
           {
            "marker": {
             "line": {
              "color": "white",
              "width": 0.5
             },
             "pattern": {
              "fillmode": "overlay",
              "size": 10,
              "solidity": 0.2
             }
            },
            "type": "barpolar"
           }
          ],
          "carpet": [
           {
            "aaxis": {
             "endlinecolor": "#2a3f5f",
             "gridcolor": "#C8D4E3",
             "linecolor": "#C8D4E3",
             "minorgridcolor": "#C8D4E3",
             "startlinecolor": "#2a3f5f"
            },
            "baxis": {
             "endlinecolor": "#2a3f5f",
             "gridcolor": "#C8D4E3",
             "linecolor": "#C8D4E3",
             "minorgridcolor": "#C8D4E3",
             "startlinecolor": "#2a3f5f"
            },
            "type": "carpet"
           }
          ],
          "choropleth": [
           {
            "colorbar": {
             "outlinewidth": 0,
             "ticks": ""
            },
            "type": "choropleth"
           }
          ],
          "contour": [
           {
            "colorbar": {
             "outlinewidth": 0,
             "ticks": ""
            },
            "colorscale": [
             [
              0,
              "#0d0887"
             ],
             [
              0.1111111111111111,
              "#46039f"
             ],
             [
              0.2222222222222222,
              "#7201a8"
             ],
             [
              0.3333333333333333,
              "#9c179e"
             ],
             [
              0.4444444444444444,
              "#bd3786"
             ],
             [
              0.5555555555555556,
              "#d8576b"
             ],
             [
              0.6666666666666666,
              "#ed7953"
             ],
             [
              0.7777777777777778,
              "#fb9f3a"
             ],
             [
              0.8888888888888888,
              "#fdca26"
             ],
             [
              1,
              "#f0f921"
             ]
            ],
            "type": "contour"
           }
          ],
          "contourcarpet": [
           {
            "colorbar": {
             "outlinewidth": 0,
             "ticks": ""
            },
            "type": "contourcarpet"
           }
          ],
          "heatmap": [
           {
            "colorbar": {
             "outlinewidth": 0,
             "ticks": ""
            },
            "colorscale": [
             [
              0,
              "#0d0887"
             ],
             [
              0.1111111111111111,
              "#46039f"
             ],
             [
              0.2222222222222222,
              "#7201a8"
             ],
             [
              0.3333333333333333,
              "#9c179e"
             ],
             [
              0.4444444444444444,
              "#bd3786"
             ],
             [
              0.5555555555555556,
              "#d8576b"
             ],
             [
              0.6666666666666666,
              "#ed7953"
             ],
             [
              0.7777777777777778,
              "#fb9f3a"
             ],
             [
              0.8888888888888888,
              "#fdca26"
             ],
             [
              1,
              "#f0f921"
             ]
            ],
            "type": "heatmap"
           }
          ],
          "histogram": [
           {
            "marker": {
             "pattern": {
              "fillmode": "overlay",
              "size": 10,
              "solidity": 0.2
             }
            },
            "type": "histogram"
           }
          ],
          "histogram2d": [
           {
            "colorbar": {
             "outlinewidth": 0,
             "ticks": ""
            },
            "colorscale": [
             [
              0,
              "#0d0887"
             ],
             [
              0.1111111111111111,
              "#46039f"
             ],
             [
              0.2222222222222222,
              "#7201a8"
             ],
             [
              0.3333333333333333,
              "#9c179e"
             ],
             [
              0.4444444444444444,
              "#bd3786"
             ],
             [
              0.5555555555555556,
              "#d8576b"
             ],
             [
              0.6666666666666666,
              "#ed7953"
             ],
             [
              0.7777777777777778,
              "#fb9f3a"
             ],
             [
              0.8888888888888888,
              "#fdca26"
             ],
             [
              1,
              "#f0f921"
             ]
            ],
            "type": "histogram2d"
           }
          ],
          "histogram2dcontour": [
           {
            "colorbar": {
             "outlinewidth": 0,
             "ticks": ""
            },
            "colorscale": [
             [
              0,
              "#0d0887"
             ],
             [
              0.1111111111111111,
              "#46039f"
             ],
             [
              0.2222222222222222,
              "#7201a8"
             ],
             [
              0.3333333333333333,
              "#9c179e"
             ],
             [
              0.4444444444444444,
              "#bd3786"
             ],
             [
              0.5555555555555556,
              "#d8576b"
             ],
             [
              0.6666666666666666,
              "#ed7953"
             ],
             [
              0.7777777777777778,
              "#fb9f3a"
             ],
             [
              0.8888888888888888,
              "#fdca26"
             ],
             [
              1,
              "#f0f921"
             ]
            ],
            "type": "histogram2dcontour"
           }
          ],
          "mesh3d": [
           {
            "colorbar": {
             "outlinewidth": 0,
             "ticks": ""
            },
            "type": "mesh3d"
           }
          ],
          "parcoords": [
           {
            "line": {
             "colorbar": {
              "outlinewidth": 0,
              "ticks": ""
             }
            },
            "type": "parcoords"
           }
          ],
          "pie": [
           {
            "automargin": true,
            "type": "pie"
           }
          ],
          "scatter": [
           {
            "fillpattern": {
             "fillmode": "overlay",
             "size": 10,
             "solidity": 0.2
            },
            "type": "scatter"
           }
          ],
          "scatter3d": [
           {
            "line": {
             "colorbar": {
              "outlinewidth": 0,
              "ticks": ""
             }
            },
            "marker": {
             "colorbar": {
              "outlinewidth": 0,
              "ticks": ""
             }
            },
            "type": "scatter3d"
           }
          ],
          "scattercarpet": [
           {
            "marker": {
             "colorbar": {
              "outlinewidth": 0,
              "ticks": ""
             }
            },
            "type": "scattercarpet"
           }
          ],
          "scattergeo": [
           {
            "marker": {
             "colorbar": {
              "outlinewidth": 0,
              "ticks": ""
             }
            },
            "type": "scattergeo"
           }
          ],
          "scattergl": [
           {
            "marker": {
             "colorbar": {
              "outlinewidth": 0,
              "ticks": ""
             }
            },
            "type": "scattergl"
           }
          ],
          "scattermap": [
           {
            "marker": {
             "colorbar": {
              "outlinewidth": 0,
              "ticks": ""
             }
            },
            "type": "scattermap"
           }
          ],
          "scattermapbox": [
           {
            "marker": {
             "colorbar": {
              "outlinewidth": 0,
              "ticks": ""
             }
            },
            "type": "scattermapbox"
           }
          ],
          "scatterpolar": [
           {
            "marker": {
             "colorbar": {
              "outlinewidth": 0,
              "ticks": ""
             }
            },
            "type": "scatterpolar"
           }
          ],
          "scatterpolargl": [
           {
            "marker": {
             "colorbar": {
              "outlinewidth": 0,
              "ticks": ""
             }
            },
            "type": "scatterpolargl"
           }
          ],
          "scatterternary": [
           {
            "marker": {
             "colorbar": {
              "outlinewidth": 0,
              "ticks": ""
             }
            },
            "type": "scatterternary"
           }
          ],
          "surface": [
           {
            "colorbar": {
             "outlinewidth": 0,
             "ticks": ""
            },
            "colorscale": [
             [
              0,
              "#0d0887"
             ],
             [
              0.1111111111111111,
              "#46039f"
             ],
             [
              0.2222222222222222,
              "#7201a8"
             ],
             [
              0.3333333333333333,
              "#9c179e"
             ],
             [
              0.4444444444444444,
              "#bd3786"
             ],
             [
              0.5555555555555556,
              "#d8576b"
             ],
             [
              0.6666666666666666,
              "#ed7953"
             ],
             [
              0.7777777777777778,
              "#fb9f3a"
             ],
             [
              0.8888888888888888,
              "#fdca26"
             ],
             [
              1,
              "#f0f921"
             ]
            ],
            "type": "surface"
           }
          ],
          "table": [
           {
            "cells": {
             "fill": {
              "color": "#EBF0F8"
             },
             "line": {
              "color": "white"
             }
            },
            "header": {
             "fill": {
              "color": "#C8D4E3"
             },
             "line": {
              "color": "white"
             }
            },
            "type": "table"
           }
          ]
         },
         "layout": {
          "annotationdefaults": {
           "arrowcolor": "#2a3f5f",
           "arrowhead": 0,
           "arrowwidth": 1
          },
          "autotypenumbers": "strict",
          "coloraxis": {
           "colorbar": {
            "outlinewidth": 0,
            "ticks": ""
           }
          },
          "colorscale": {
           "diverging": [
            [
             0,
             "#8e0152"
            ],
            [
             0.1,
             "#c51b7d"
            ],
            [
             0.2,
             "#de77ae"
            ],
            [
             0.3,
             "#f1b6da"
            ],
            [
             0.4,
             "#fde0ef"
            ],
            [
             0.5,
             "#f7f7f7"
            ],
            [
             0.6,
             "#e6f5d0"
            ],
            [
             0.7,
             "#b8e186"
            ],
            [
             0.8,
             "#7fbc41"
            ],
            [
             0.9,
             "#4d9221"
            ],
            [
             1,
             "#276419"
            ]
           ],
           "sequential": [
            [
             0,
             "#0d0887"
            ],
            [
             0.1111111111111111,
             "#46039f"
            ],
            [
             0.2222222222222222,
             "#7201a8"
            ],
            [
             0.3333333333333333,
             "#9c179e"
            ],
            [
             0.4444444444444444,
             "#bd3786"
            ],
            [
             0.5555555555555556,
             "#d8576b"
            ],
            [
             0.6666666666666666,
             "#ed7953"
            ],
            [
             0.7777777777777778,
             "#fb9f3a"
            ],
            [
             0.8888888888888888,
             "#fdca26"
            ],
            [
             1,
             "#f0f921"
            ]
           ],
           "sequentialminus": [
            [
             0,
             "#0d0887"
            ],
            [
             0.1111111111111111,
             "#46039f"
            ],
            [
             0.2222222222222222,
             "#7201a8"
            ],
            [
             0.3333333333333333,
             "#9c179e"
            ],
            [
             0.4444444444444444,
             "#bd3786"
            ],
            [
             0.5555555555555556,
             "#d8576b"
            ],
            [
             0.6666666666666666,
             "#ed7953"
            ],
            [
             0.7777777777777778,
             "#fb9f3a"
            ],
            [
             0.8888888888888888,
             "#fdca26"
            ],
            [
             1,
             "#f0f921"
            ]
           ]
          },
          "colorway": [
           "#636efa",
           "#EF553B",
           "#00cc96",
           "#ab63fa",
           "#FFA15A",
           "#19d3f3",
           "#FF6692",
           "#B6E880",
           "#FF97FF",
           "#FECB52"
          ],
          "font": {
           "color": "#2a3f5f"
          },
          "geo": {
           "bgcolor": "white",
           "lakecolor": "white",
           "landcolor": "white",
           "showlakes": true,
           "showland": true,
           "subunitcolor": "#C8D4E3"
          },
          "hoverlabel": {
           "align": "left"
          },
          "hovermode": "closest",
          "mapbox": {
           "style": "light"
          },
          "paper_bgcolor": "white",
          "plot_bgcolor": "white",
          "polar": {
           "angularaxis": {
            "gridcolor": "#EBF0F8",
            "linecolor": "#EBF0F8",
            "ticks": ""
           },
           "bgcolor": "white",
           "radialaxis": {
            "gridcolor": "#EBF0F8",
            "linecolor": "#EBF0F8",
            "ticks": ""
           }
          },
          "scene": {
           "xaxis": {
            "backgroundcolor": "white",
            "gridcolor": "#DFE8F3",
            "gridwidth": 2,
            "linecolor": "#EBF0F8",
            "showbackground": true,
            "ticks": "",
            "zerolinecolor": "#EBF0F8"
           },
           "yaxis": {
            "backgroundcolor": "white",
            "gridcolor": "#DFE8F3",
            "gridwidth": 2,
            "linecolor": "#EBF0F8",
            "showbackground": true,
            "ticks": "",
            "zerolinecolor": "#EBF0F8"
           },
           "zaxis": {
            "backgroundcolor": "white",
            "gridcolor": "#DFE8F3",
            "gridwidth": 2,
            "linecolor": "#EBF0F8",
            "showbackground": true,
            "ticks": "",
            "zerolinecolor": "#EBF0F8"
           }
          },
          "shapedefaults": {
           "line": {
            "color": "#2a3f5f"
           }
          },
          "ternary": {
           "aaxis": {
            "gridcolor": "#DFE8F3",
            "linecolor": "#A2B1C6",
            "ticks": ""
           },
           "baxis": {
            "gridcolor": "#DFE8F3",
            "linecolor": "#A2B1C6",
            "ticks": ""
           },
           "bgcolor": "white",
           "caxis": {
            "gridcolor": "#DFE8F3",
            "linecolor": "#A2B1C6",
            "ticks": ""
           }
          },
          "title": {
           "x": 0.05
          },
          "xaxis": {
           "automargin": true,
           "gridcolor": "#EBF0F8",
           "linecolor": "#EBF0F8",
           "ticks": "",
           "title": {
            "standoff": 15
           },
           "zerolinecolor": "#EBF0F8",
           "zerolinewidth": 2
          },
          "yaxis": {
           "automargin": true,
           "gridcolor": "#EBF0F8",
           "linecolor": "#EBF0F8",
           "ticks": "",
           "title": {
            "standoff": 15
           },
           "zerolinecolor": "#EBF0F8",
           "zerolinewidth": 2
          }
         }
        },
        "title": {
         "text": "FL Methods Performance Comparison (epochs=100)"
        },
        "xaxis": {
         "anchor": "y",
         "domain": [
          0,
          0.45
         ]
        },
        "xaxis2": {
         "anchor": "y2",
         "domain": [
          0.55,
          1
         ]
        },
        "yaxis": {
         "anchor": "x",
         "domain": [
          0,
          1
         ],
         "range": [
          0,
          100
         ],
         "ticksuffix": "%"
        },
        "yaxis2": {
         "anchor": "x2",
         "domain": [
          0,
          1
         ],
         "range": [
          0,
          100
         ],
         "ticksuffix": "%"
        }
       }
      }
     },
     "metadata": {},
     "output_type": "display_data"
    }
   ],
   "source": [
    "fig = make_subplots(\n",
    "    rows=1, cols=2,\n",
    "    subplot_titles=('Accuracy', 'F1',)\n",
    ")\n",
    "\n",
    "for i, method in enumerate(methods):\n",
    "    # Accuracy bar\n",
    "    fig.add_trace(\n",
    "        go.Bar(name=f'Train {method}', x=[method], y=[train_acc[i]],\n",
    "               marker_color=colors[i], opacity=0.8, legendgroup=f'group{i}',\n",
    "               showlegend=False),\n",
    "        row=1, col=1\n",
    "    )\n",
    "    # Add annotation for accuracy\n",
    "    fig.add_annotation(\n",
    "        x=method, y=train_acc[i], text=f\"{train_acc[i]:.2f}\",\n",
    "        showarrow=False, font=dict(size=12, color=\"black\"),\n",
    "        xanchor='center', yanchor='bottom', row=1, col=1\n",
    "    )\n",
    "\n",
    "    # F1 bar (replace with train_f1[i] if needed)\n",
    "    fig.add_trace(\n",
    "        go.Bar(name=f'Train {method}', x=[method], y=[f1_acc[i]],\n",
    "               marker_color=colors[i], opacity=0.8, legendgroup=f'group{i}',\n",
    "               showlegend=False),\n",
    "        row=1, col=2\n",
    "    )\n",
    "    # Add annotation for F1\n",
    "    fig.add_annotation(\n",
    "        x=method, y=f1_acc[i], text=f\"{f1_acc[i]:.2f}\",\n",
    "        showarrow=False, font=dict(size=12, color=\"black\"),\n",
    "        xanchor='center', yanchor='bottom', row=1, col=2\n",
    "    )\n",
    "\n",
    "fig.update_yaxes(range=[0, 100])\n",
    "fig.update_layout(\n",
    "    title=f'FL Methods Performance Comparison (epochs={SupervisedFLConfig.epochs})',\n",
    ")\n",
    "fig.update_layout(template='plotly_white')\n",
    "fig.update_yaxes(ticksuffix=\"%\", range=[0, 100])\n",
    "fig.show()"
   ]
  },
  {
   "cell_type": "code",
   "execution_count": 11,
   "id": "cbfb5a15b05a85d9",
   "metadata": {
    "ExecuteTime": {
     "end_time": "2025-08-29T13:24:14.409689Z",
     "start_time": "2025-08-29T13:24:14.387959Z"
    }
   },
   "outputs": [
    {
     "data": {
      "application/vnd.plotly.v1+json": {
       "config": {
        "plotlyServerURL": "https://plot.ly"
       },
       "data": [
        {
         "marker": {
          "color": [
           "#F3AA60",
           "#EF6262",
           "#468897"
          ]
         },
         "name": "Train Time",
         "showlegend": false,
         "type": "bar",
         "x": [
          "Horizontal",
          "Vertical",
          "Hybrid"
         ],
         "xaxis": "x",
         "y": [
          63.70149898529053,
          56.28419303894043,
          3.4501559734344482
         ],
         "yaxis": "y"
        },
        {
         "marker": {
          "color": [
           "#F3AA60",
           "#EF6262",
           "#468897"
          ]
         },
         "name": "Clients",
         "showlegend": false,
         "type": "bar",
         "x": [
          "Horizontal",
          "Vertical",
          "Hybrid"
         ],
         "xaxis": "x2",
         "y": [
          3,
          3,
          3
         ],
         "yaxis": "y2"
        },
        {
         "marker": {
          "color": [
           "#F3AA60",
           "#EF6262",
           "#468897"
          ]
         },
         "name": "Samples",
         "showlegend": false,
         "type": "bar",
         "x": [
          "Horizontal",
          "Vertical",
          "Hybrid"
         ],
         "xaxis": "x3",
         "y": [
          36177,
          108531,
          18087
         ],
         "yaxis": "y3"
        }
       ],
       "layout": {
        "annotations": [
         {
          "font": {
           "size": 16
          },
          "showarrow": false,
          "text": "Training Time",
          "x": 0.14444444444444446,
          "xanchor": "center",
          "xref": "paper",
          "y": 1,
          "yanchor": "bottom",
          "yref": "paper"
         },
         {
          "font": {
           "size": 16
          },
          "showarrow": false,
          "text": "Client Count",
          "x": 0.5,
          "xanchor": "center",
          "xref": "paper",
          "y": 1,
          "yanchor": "bottom",
          "yref": "paper"
         },
         {
          "font": {
           "size": 16
          },
          "showarrow": false,
          "text": "Total Samples",
          "x": 0.8555555555555556,
          "xanchor": "center",
          "xref": "paper",
          "y": 1,
          "yanchor": "bottom",
          "yref": "paper"
         }
        ],
        "template": {
         "data": {
          "bar": [
           {
            "error_x": {
             "color": "#2a3f5f"
            },
            "error_y": {
             "color": "#2a3f5f"
            },
            "marker": {
             "line": {
              "color": "white",
              "width": 0.5
             },
             "pattern": {
              "fillmode": "overlay",
              "size": 10,
              "solidity": 0.2
             }
            },
            "type": "bar"
           }
          ],
          "barpolar": [
           {
            "marker": {
             "line": {
              "color": "white",
              "width": 0.5
             },
             "pattern": {
              "fillmode": "overlay",
              "size": 10,
              "solidity": 0.2
             }
            },
            "type": "barpolar"
           }
          ],
          "carpet": [
           {
            "aaxis": {
             "endlinecolor": "#2a3f5f",
             "gridcolor": "#C8D4E3",
             "linecolor": "#C8D4E3",
             "minorgridcolor": "#C8D4E3",
             "startlinecolor": "#2a3f5f"
            },
            "baxis": {
             "endlinecolor": "#2a3f5f",
             "gridcolor": "#C8D4E3",
             "linecolor": "#C8D4E3",
             "minorgridcolor": "#C8D4E3",
             "startlinecolor": "#2a3f5f"
            },
            "type": "carpet"
           }
          ],
          "choropleth": [
           {
            "colorbar": {
             "outlinewidth": 0,
             "ticks": ""
            },
            "type": "choropleth"
           }
          ],
          "contour": [
           {
            "colorbar": {
             "outlinewidth": 0,
             "ticks": ""
            },
            "colorscale": [
             [
              0,
              "#0d0887"
             ],
             [
              0.1111111111111111,
              "#46039f"
             ],
             [
              0.2222222222222222,
              "#7201a8"
             ],
             [
              0.3333333333333333,
              "#9c179e"
             ],
             [
              0.4444444444444444,
              "#bd3786"
             ],
             [
              0.5555555555555556,
              "#d8576b"
             ],
             [
              0.6666666666666666,
              "#ed7953"
             ],
             [
              0.7777777777777778,
              "#fb9f3a"
             ],
             [
              0.8888888888888888,
              "#fdca26"
             ],
             [
              1,
              "#f0f921"
             ]
            ],
            "type": "contour"
           }
          ],
          "contourcarpet": [
           {
            "colorbar": {
             "outlinewidth": 0,
             "ticks": ""
            },
            "type": "contourcarpet"
           }
          ],
          "heatmap": [
           {
            "colorbar": {
             "outlinewidth": 0,
             "ticks": ""
            },
            "colorscale": [
             [
              0,
              "#0d0887"
             ],
             [
              0.1111111111111111,
              "#46039f"
             ],
             [
              0.2222222222222222,
              "#7201a8"
             ],
             [
              0.3333333333333333,
              "#9c179e"
             ],
             [
              0.4444444444444444,
              "#bd3786"
             ],
             [
              0.5555555555555556,
              "#d8576b"
             ],
             [
              0.6666666666666666,
              "#ed7953"
             ],
             [
              0.7777777777777778,
              "#fb9f3a"
             ],
             [
              0.8888888888888888,
              "#fdca26"
             ],
             [
              1,
              "#f0f921"
             ]
            ],
            "type": "heatmap"
           }
          ],
          "histogram": [
           {
            "marker": {
             "pattern": {
              "fillmode": "overlay",
              "size": 10,
              "solidity": 0.2
             }
            },
            "type": "histogram"
           }
          ],
          "histogram2d": [
           {
            "colorbar": {
             "outlinewidth": 0,
             "ticks": ""
            },
            "colorscale": [
             [
              0,
              "#0d0887"
             ],
             [
              0.1111111111111111,
              "#46039f"
             ],
             [
              0.2222222222222222,
              "#7201a8"
             ],
             [
              0.3333333333333333,
              "#9c179e"
             ],
             [
              0.4444444444444444,
              "#bd3786"
             ],
             [
              0.5555555555555556,
              "#d8576b"
             ],
             [
              0.6666666666666666,
              "#ed7953"
             ],
             [
              0.7777777777777778,
              "#fb9f3a"
             ],
             [
              0.8888888888888888,
              "#fdca26"
             ],
             [
              1,
              "#f0f921"
             ]
            ],
            "type": "histogram2d"
           }
          ],
          "histogram2dcontour": [
           {
            "colorbar": {
             "outlinewidth": 0,
             "ticks": ""
            },
            "colorscale": [
             [
              0,
              "#0d0887"
             ],
             [
              0.1111111111111111,
              "#46039f"
             ],
             [
              0.2222222222222222,
              "#7201a8"
             ],
             [
              0.3333333333333333,
              "#9c179e"
             ],
             [
              0.4444444444444444,
              "#bd3786"
             ],
             [
              0.5555555555555556,
              "#d8576b"
             ],
             [
              0.6666666666666666,
              "#ed7953"
             ],
             [
              0.7777777777777778,
              "#fb9f3a"
             ],
             [
              0.8888888888888888,
              "#fdca26"
             ],
             [
              1,
              "#f0f921"
             ]
            ],
            "type": "histogram2dcontour"
           }
          ],
          "mesh3d": [
           {
            "colorbar": {
             "outlinewidth": 0,
             "ticks": ""
            },
            "type": "mesh3d"
           }
          ],
          "parcoords": [
           {
            "line": {
             "colorbar": {
              "outlinewidth": 0,
              "ticks": ""
             }
            },
            "type": "parcoords"
           }
          ],
          "pie": [
           {
            "automargin": true,
            "type": "pie"
           }
          ],
          "scatter": [
           {
            "fillpattern": {
             "fillmode": "overlay",
             "size": 10,
             "solidity": 0.2
            },
            "type": "scatter"
           }
          ],
          "scatter3d": [
           {
            "line": {
             "colorbar": {
              "outlinewidth": 0,
              "ticks": ""
             }
            },
            "marker": {
             "colorbar": {
              "outlinewidth": 0,
              "ticks": ""
             }
            },
            "type": "scatter3d"
           }
          ],
          "scattercarpet": [
           {
            "marker": {
             "colorbar": {
              "outlinewidth": 0,
              "ticks": ""
             }
            },
            "type": "scattercarpet"
           }
          ],
          "scattergeo": [
           {
            "marker": {
             "colorbar": {
              "outlinewidth": 0,
              "ticks": ""
             }
            },
            "type": "scattergeo"
           }
          ],
          "scattergl": [
           {
            "marker": {
             "colorbar": {
              "outlinewidth": 0,
              "ticks": ""
             }
            },
            "type": "scattergl"
           }
          ],
          "scattermap": [
           {
            "marker": {
             "colorbar": {
              "outlinewidth": 0,
              "ticks": ""
             }
            },
            "type": "scattermap"
           }
          ],
          "scattermapbox": [
           {
            "marker": {
             "colorbar": {
              "outlinewidth": 0,
              "ticks": ""
             }
            },
            "type": "scattermapbox"
           }
          ],
          "scatterpolar": [
           {
            "marker": {
             "colorbar": {
              "outlinewidth": 0,
              "ticks": ""
             }
            },
            "type": "scatterpolar"
           }
          ],
          "scatterpolargl": [
           {
            "marker": {
             "colorbar": {
              "outlinewidth": 0,
              "ticks": ""
             }
            },
            "type": "scatterpolargl"
           }
          ],
          "scatterternary": [
           {
            "marker": {
             "colorbar": {
              "outlinewidth": 0,
              "ticks": ""
             }
            },
            "type": "scatterternary"
           }
          ],
          "surface": [
           {
            "colorbar": {
             "outlinewidth": 0,
             "ticks": ""
            },
            "colorscale": [
             [
              0,
              "#0d0887"
             ],
             [
              0.1111111111111111,
              "#46039f"
             ],
             [
              0.2222222222222222,
              "#7201a8"
             ],
             [
              0.3333333333333333,
              "#9c179e"
             ],
             [
              0.4444444444444444,
              "#bd3786"
             ],
             [
              0.5555555555555556,
              "#d8576b"
             ],
             [
              0.6666666666666666,
              "#ed7953"
             ],
             [
              0.7777777777777778,
              "#fb9f3a"
             ],
             [
              0.8888888888888888,
              "#fdca26"
             ],
             [
              1,
              "#f0f921"
             ]
            ],
            "type": "surface"
           }
          ],
          "table": [
           {
            "cells": {
             "fill": {
              "color": "#EBF0F8"
             },
             "line": {
              "color": "white"
             }
            },
            "header": {
             "fill": {
              "color": "#C8D4E3"
             },
             "line": {
              "color": "white"
             }
            },
            "type": "table"
           }
          ]
         },
         "layout": {
          "annotationdefaults": {
           "arrowcolor": "#2a3f5f",
           "arrowhead": 0,
           "arrowwidth": 1
          },
          "autotypenumbers": "strict",
          "coloraxis": {
           "colorbar": {
            "outlinewidth": 0,
            "ticks": ""
           }
          },
          "colorscale": {
           "diverging": [
            [
             0,
             "#8e0152"
            ],
            [
             0.1,
             "#c51b7d"
            ],
            [
             0.2,
             "#de77ae"
            ],
            [
             0.3,
             "#f1b6da"
            ],
            [
             0.4,
             "#fde0ef"
            ],
            [
             0.5,
             "#f7f7f7"
            ],
            [
             0.6,
             "#e6f5d0"
            ],
            [
             0.7,
             "#b8e186"
            ],
            [
             0.8,
             "#7fbc41"
            ],
            [
             0.9,
             "#4d9221"
            ],
            [
             1,
             "#276419"
            ]
           ],
           "sequential": [
            [
             0,
             "#0d0887"
            ],
            [
             0.1111111111111111,
             "#46039f"
            ],
            [
             0.2222222222222222,
             "#7201a8"
            ],
            [
             0.3333333333333333,
             "#9c179e"
            ],
            [
             0.4444444444444444,
             "#bd3786"
            ],
            [
             0.5555555555555556,
             "#d8576b"
            ],
            [
             0.6666666666666666,
             "#ed7953"
            ],
            [
             0.7777777777777778,
             "#fb9f3a"
            ],
            [
             0.8888888888888888,
             "#fdca26"
            ],
            [
             1,
             "#f0f921"
            ]
           ],
           "sequentialminus": [
            [
             0,
             "#0d0887"
            ],
            [
             0.1111111111111111,
             "#46039f"
            ],
            [
             0.2222222222222222,
             "#7201a8"
            ],
            [
             0.3333333333333333,
             "#9c179e"
            ],
            [
             0.4444444444444444,
             "#bd3786"
            ],
            [
             0.5555555555555556,
             "#d8576b"
            ],
            [
             0.6666666666666666,
             "#ed7953"
            ],
            [
             0.7777777777777778,
             "#fb9f3a"
            ],
            [
             0.8888888888888888,
             "#fdca26"
            ],
            [
             1,
             "#f0f921"
            ]
           ]
          },
          "colorway": [
           "#636efa",
           "#EF553B",
           "#00cc96",
           "#ab63fa",
           "#FFA15A",
           "#19d3f3",
           "#FF6692",
           "#B6E880",
           "#FF97FF",
           "#FECB52"
          ],
          "font": {
           "color": "#2a3f5f"
          },
          "geo": {
           "bgcolor": "white",
           "lakecolor": "white",
           "landcolor": "white",
           "showlakes": true,
           "showland": true,
           "subunitcolor": "#C8D4E3"
          },
          "hoverlabel": {
           "align": "left"
          },
          "hovermode": "closest",
          "mapbox": {
           "style": "light"
          },
          "paper_bgcolor": "white",
          "plot_bgcolor": "white",
          "polar": {
           "angularaxis": {
            "gridcolor": "#EBF0F8",
            "linecolor": "#EBF0F8",
            "ticks": ""
           },
           "bgcolor": "white",
           "radialaxis": {
            "gridcolor": "#EBF0F8",
            "linecolor": "#EBF0F8",
            "ticks": ""
           }
          },
          "scene": {
           "xaxis": {
            "backgroundcolor": "white",
            "gridcolor": "#DFE8F3",
            "gridwidth": 2,
            "linecolor": "#EBF0F8",
            "showbackground": true,
            "ticks": "",
            "zerolinecolor": "#EBF0F8"
           },
           "yaxis": {
            "backgroundcolor": "white",
            "gridcolor": "#DFE8F3",
            "gridwidth": 2,
            "linecolor": "#EBF0F8",
            "showbackground": true,
            "ticks": "",
            "zerolinecolor": "#EBF0F8"
           },
           "zaxis": {
            "backgroundcolor": "white",
            "gridcolor": "#DFE8F3",
            "gridwidth": 2,
            "linecolor": "#EBF0F8",
            "showbackground": true,
            "ticks": "",
            "zerolinecolor": "#EBF0F8"
           }
          },
          "shapedefaults": {
           "line": {
            "color": "#2a3f5f"
           }
          },
          "ternary": {
           "aaxis": {
            "gridcolor": "#DFE8F3",
            "linecolor": "#A2B1C6",
            "ticks": ""
           },
           "baxis": {
            "gridcolor": "#DFE8F3",
            "linecolor": "#A2B1C6",
            "ticks": ""
           },
           "bgcolor": "white",
           "caxis": {
            "gridcolor": "#DFE8F3",
            "linecolor": "#A2B1C6",
            "ticks": ""
           }
          },
          "title": {
           "x": 0.05
          },
          "xaxis": {
           "automargin": true,
           "gridcolor": "#EBF0F8",
           "linecolor": "#EBF0F8",
           "ticks": "",
           "title": {
            "standoff": 15
           },
           "zerolinecolor": "#EBF0F8",
           "zerolinewidth": 2
          },
          "yaxis": {
           "automargin": true,
           "gridcolor": "#EBF0F8",
           "linecolor": "#EBF0F8",
           "ticks": "",
           "title": {
            "standoff": 15
           },
           "zerolinecolor": "#EBF0F8",
           "zerolinewidth": 2
          }
         }
        },
        "title": {
         "text": "Other Config Comparison"
        },
        "xaxis": {
         "anchor": "y",
         "domain": [
          0,
          0.2888888888888889
         ]
        },
        "xaxis2": {
         "anchor": "y2",
         "domain": [
          0.35555555555555557,
          0.6444444444444445
         ]
        },
        "xaxis3": {
         "anchor": "y3",
         "domain": [
          0.7111111111111111,
          1
         ]
        },
        "yaxis": {
         "anchor": "x",
         "domain": [
          0,
          1
         ]
        },
        "yaxis2": {
         "anchor": "x2",
         "domain": [
          0,
          1
         ]
        },
        "yaxis3": {
         "anchor": "x3",
         "domain": [
          0,
          1
         ]
        }
       }
      }
     },
     "metadata": {},
     "output_type": "display_data"
    }
   ],
   "source": [
    "fig = make_subplots(\n",
    "    rows=1, cols=3,\n",
    "    subplot_titles=('Training Time', 'Client Count', 'Total Samples')\n",
    ")\n",
    "\n",
    "fig.add_trace(\n",
    "    go.Bar(x=methods, y=train_time, marker_color=colors,\n",
    "           name='Train Time', showlegend=False),\n",
    "    row=1, col=1\n",
    ")\n",
    "fig.add_trace(\n",
    "    go.Bar(x=methods, y=clients, marker_color=colors,\n",
    "           name='Clients', showlegend=False),\n",
    "    row=1, col=2\n",
    ")\n",
    "fig.add_trace(\n",
    "    go.Bar(x=methods, y=samples, marker_color=colors,\n",
    "           name='Samples', showlegend=False),\n",
    "    row=1, col=3\n",
    ")\n",
    "fig.update_layout(\n",
    "    title=f'Other Config Comparison',\n",
    ")\n",
    "fig.update_layout(template='plotly_white')\n",
    "fig.show()"
   ]
  },
  {
   "cell_type": "code",
   "execution_count": null,
   "id": "2d8f22fc66e54cd6",
   "metadata": {},
   "outputs": [],
   "source": []
  }
 ],
 "metadata": {
  "kernelspec": {
   "display_name": "Python 3 (ipykernel)",
   "language": "python",
   "name": "python3"
  },
  "language_info": {
   "codemirror_mode": {
    "name": "ipython",
    "version": 3
   },
   "file_extension": ".py",
   "mimetype": "text/x-python",
   "name": "python",
   "nbconvert_exporter": "python",
   "pygments_lexer": "ipython3",
   "version": "3.10.2"
  }
 },
 "nbformat": 4,
 "nbformat_minor": 5
}
